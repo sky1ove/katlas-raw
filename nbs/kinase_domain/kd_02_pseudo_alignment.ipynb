{
 "cells": [
  {
   "cell_type": "markdown",
   "id": "4b9d9556-5eb7-4b3c-899d-c37c9cd6c664",
   "metadata": {},
   "source": [
    "# Alignment"
   ]
  },
  {
   "cell_type": "code",
   "execution_count": 3,
   "id": "d3e9acfd-3b2c-4b36-924f-9af86c54d33b",
   "metadata": {},
   "outputs": [],
   "source": [
    "from Bio.Seq import Seq\n",
    "from Bio.SeqRecord import SeqRecord\n",
    "from Bio import SeqIO, AlignIO\n",
    "import pandas as pd\n",
    "\n",
    "from katlas.utils import *\n",
    "from katlas.data import *"
   ]
  },
  {
   "cell_type": "markdown",
   "id": "32546482-c844-4fc4-bf59-b4aee7b08614",
   "metadata": {},
   "source": [
    "## Prepare fasta file for clustalo"
   ]
  },
  {
   "cell_type": "code",
   "execution_count": 4,
   "id": "81c18fdb-d339-4694-a6a0-d282eb679ded",
   "metadata": {},
   "outputs": [],
   "source": [
    "# kd=pd.read_excel('out/uniprot_kd.xlsx')"
   ]
  },
  {
   "cell_type": "code",
   "execution_count": 5,
   "id": "fa3523d7-e504-4b56-bf42-c51843967040",
   "metadata": {},
   "outputs": [],
   "source": [
    "kd=Data.get_kd_uniprot()"
   ]
  },
  {
   "cell_type": "code",
   "execution_count": 6,
   "id": "103d3008-2da9-4cc1-8bde-260a17afda77",
   "metadata": {},
   "outputs": [
    {
     "data": {
      "text/plain": [
       "Index(['kd_ID', 'Uniprot', 'Entry Name', 'Protein names', 'Gene Names',\n",
       "       'Gene Names (primary)', 'Organism', 'kd_note', 'kd_evidence',\n",
       "       'kd_start', 'kd_end', 'kd_seq', 'Domain [FT]', 'Domain [CC]', 'Region',\n",
       "       'Motif', 'Protein families', 'Reactome', 'ComplexPortal',\n",
       "       'Subcellular location [CC]', 'Gene Ontology (biological process)',\n",
       "       'Tissue specificity', 'Interacts with', 'Subunit structure',\n",
       "       'Function [CC]', 'Activity regulation', 'full_seq', 'D1', 'D2', 'D3',\n",
       "       'N1', 'active_D1_D2'],\n",
       "      dtype='object')"
      ]
     },
     "execution_count": 6,
     "metadata": {},
     "output_type": "execute_result"
    }
   ],
   "source": [
    "kd.columns"
   ]
  },
  {
   "cell_type": "code",
   "execution_count": 17,
   "id": "fea3c414-f1e1-47b2-a46f-a15827e46eaa",
   "metadata": {},
   "outputs": [
    {
     "name": "stdout",
     "output_type": "stream",
     "text": [
      "5536\n"
     ]
    }
   ],
   "source": [
    "get_fasta(kd,\n",
    "          seq_col='kd_seq',\n",
    "          id_col='kd_ID',\n",
    "          path='raw/kinase_domains.fasta')"
   ]
  },
  {
   "cell_type": "markdown",
   "id": "bea1910a-aa18-42f5-9ff8-e752b0468679",
   "metadata": {},
   "source": [
    "For human only:"
   ]
  },
  {
   "cell_type": "code",
   "execution_count": null,
   "id": "94f70482-3a6e-4847-a7c0-392b262cc295",
   "metadata": {},
   "outputs": [],
   "source": [
    "# human = kd[kd.Organism=='Homo sapiens (Human)']\n",
    "\n",
    "# get_fasta(human,path=\"raw/human_kinase_domains.fasta\")"
   ]
  },
  {
   "cell_type": "markdown",
   "id": "06ff48ea-913a-4c20-998c-0a4d6b2a94d9",
   "metadata": {},
   "source": [
    "for PI3K catalytic domain"
   ]
  },
  {
   "cell_type": "code",
   "execution_count": null,
   "id": "4947c84c-6749-435c-b23f-6ea6f0a33a85",
   "metadata": {},
   "outputs": [],
   "source": [
    "# pi3k = kd[kd.kd_note=='PI3K/PI4K catalytic']\n",
    "\n",
    "# get_fasta(pi3k,path=\"raw/pi3k_kinase_domains.fasta\")"
   ]
  },
  {
   "cell_type": "markdown",
   "id": "635a70db-0537-4359-a791-b313b56f5f9f",
   "metadata": {},
   "source": [
    "## Run clustalo"
   ]
  },
  {
   "cell_type": "markdown",
   "id": "404fa8e1-49fd-42e2-995b-27f8c21e060b",
   "metadata": {},
   "source": [
    "```bash\n",
    "sudo apt-get update\n",
    "sudo apt-get install clustalo\n",
    "clustalo -i kinase_domains.fasta -o kinase_domains.aln --force --outfmt=clu\n",
    "```"
   ]
  },
  {
   "cell_type": "code",
   "execution_count": null,
   "id": "77ec4631-9d0a-46a4-bc3d-97b011d8c067",
   "metadata": {},
   "outputs": [],
   "source": [
    "# run_clustalo(input_fasta='raw/kinase_domains.fasta', \n",
    "#              output_aln = \"raw/kinase_domains.aln\")"
   ]
  },
  {
   "cell_type": "markdown",
   "id": "e8518c03-52d5-4ec9-b7ea-1ec69935dea8",
   "metadata": {},
   "source": [
    "## Analyze alignment"
   ]
  },
  {
   "cell_type": "code",
   "execution_count": 12,
   "id": "2afd5df9-297b-46cc-9c31-3142b9b7a3c8",
   "metadata": {},
   "outputs": [],
   "source": [
    "df = aln2df(\"raw/kinase_domains.aln\")"
   ]
  },
  {
   "cell_type": "code",
   "execution_count": 13,
   "id": "a92118d7-46ad-45df-bd2c-27c57a800005",
   "metadata": {},
   "outputs": [
    {
     "data": {
      "text/html": [
       "<div>\n",
       "<style scoped>\n",
       "    .dataframe tbody tr th:only-of-type {\n",
       "        vertical-align: middle;\n",
       "    }\n",
       "\n",
       "    .dataframe tbody tr th {\n",
       "        vertical-align: top;\n",
       "    }\n",
       "\n",
       "    .dataframe thead th {\n",
       "        text-align: right;\n",
       "    }\n",
       "</style>\n",
       "<table border=\"1\" class=\"dataframe\">\n",
       "  <thead>\n",
       "    <tr style=\"text-align: right;\">\n",
       "      <th></th>\n",
       "      <th>1</th>\n",
       "      <th>2</th>\n",
       "      <th>3</th>\n",
       "      <th>4</th>\n",
       "      <th>5</th>\n",
       "      <th>6</th>\n",
       "      <th>7</th>\n",
       "      <th>8</th>\n",
       "      <th>9</th>\n",
       "      <th>10</th>\n",
       "      <th>...</th>\n",
       "      <th>3425</th>\n",
       "      <th>3426</th>\n",
       "      <th>3427</th>\n",
       "      <th>3428</th>\n",
       "      <th>3429</th>\n",
       "      <th>3430</th>\n",
       "      <th>3431</th>\n",
       "      <th>3432</th>\n",
       "      <th>3433</th>\n",
       "      <th>3434</th>\n",
       "    </tr>\n",
       "  </thead>\n",
       "  <tbody>\n",
       "    <tr>\n",
       "      <th>A0A075F7E9_LERK1_ORYSI_KD1</th>\n",
       "      <td>-</td>\n",
       "      <td>-</td>\n",
       "      <td>-</td>\n",
       "      <td>-</td>\n",
       "      <td>-</td>\n",
       "      <td>-</td>\n",
       "      <td>-</td>\n",
       "      <td>-</td>\n",
       "      <td>-</td>\n",
       "      <td>-</td>\n",
       "      <td>...</td>\n",
       "      <td>-</td>\n",
       "      <td>-</td>\n",
       "      <td>-</td>\n",
       "      <td>-</td>\n",
       "      <td>-</td>\n",
       "      <td>-</td>\n",
       "      <td>-</td>\n",
       "      <td>-</td>\n",
       "      <td>-</td>\n",
       "      <td>-</td>\n",
       "    </tr>\n",
       "    <tr>\n",
       "      <th>A0A078BQP2_GCY25_CAEEL_KD1</th>\n",
       "      <td>-</td>\n",
       "      <td>-</td>\n",
       "      <td>-</td>\n",
       "      <td>-</td>\n",
       "      <td>-</td>\n",
       "      <td>-</td>\n",
       "      <td>-</td>\n",
       "      <td>-</td>\n",
       "      <td>-</td>\n",
       "      <td>-</td>\n",
       "      <td>...</td>\n",
       "      <td>-</td>\n",
       "      <td>-</td>\n",
       "      <td>-</td>\n",
       "      <td>-</td>\n",
       "      <td>-</td>\n",
       "      <td>-</td>\n",
       "      <td>-</td>\n",
       "      <td>-</td>\n",
       "      <td>-</td>\n",
       "      <td>-</td>\n",
       "    </tr>\n",
       "    <tr>\n",
       "      <th>A0A078CGE6_M3KE1_BRANA_KD1</th>\n",
       "      <td>-</td>\n",
       "      <td>-</td>\n",
       "      <td>-</td>\n",
       "      <td>-</td>\n",
       "      <td>-</td>\n",
       "      <td>-</td>\n",
       "      <td>-</td>\n",
       "      <td>-</td>\n",
       "      <td>-</td>\n",
       "      <td>-</td>\n",
       "      <td>...</td>\n",
       "      <td>-</td>\n",
       "      <td>-</td>\n",
       "      <td>-</td>\n",
       "      <td>-</td>\n",
       "      <td>-</td>\n",
       "      <td>-</td>\n",
       "      <td>-</td>\n",
       "      <td>-</td>\n",
       "      <td>-</td>\n",
       "      <td>-</td>\n",
       "    </tr>\n",
       "    <tr>\n",
       "      <th>A0A0G2K344_PK3CA_RAT_KD1</th>\n",
       "      <td>-</td>\n",
       "      <td>-</td>\n",
       "      <td>-</td>\n",
       "      <td>-</td>\n",
       "      <td>-</td>\n",
       "      <td>-</td>\n",
       "      <td>-</td>\n",
       "      <td>-</td>\n",
       "      <td>-</td>\n",
       "      <td>-</td>\n",
       "      <td>...</td>\n",
       "      <td>-</td>\n",
       "      <td>-</td>\n",
       "      <td>-</td>\n",
       "      <td>-</td>\n",
       "      <td>-</td>\n",
       "      <td>-</td>\n",
       "      <td>-</td>\n",
       "      <td>-</td>\n",
       "      <td>-</td>\n",
       "      <td>-</td>\n",
       "    </tr>\n",
       "    <tr>\n",
       "      <th>A0A0H2ZM62_HK06_STRP2_KD1</th>\n",
       "      <td>-</td>\n",
       "      <td>-</td>\n",
       "      <td>-</td>\n",
       "      <td>-</td>\n",
       "      <td>-</td>\n",
       "      <td>-</td>\n",
       "      <td>-</td>\n",
       "      <td>-</td>\n",
       "      <td>-</td>\n",
       "      <td>-</td>\n",
       "      <td>...</td>\n",
       "      <td>-</td>\n",
       "      <td>-</td>\n",
       "      <td>-</td>\n",
       "      <td>-</td>\n",
       "      <td>-</td>\n",
       "      <td>-</td>\n",
       "      <td>-</td>\n",
       "      <td>-</td>\n",
       "      <td>-</td>\n",
       "      <td>-</td>\n",
       "    </tr>\n",
       "  </tbody>\n",
       "</table>\n",
       "<p>5 rows × 3434 columns</p>\n",
       "</div>"
      ],
      "text/plain": [
       "                           1    2    3    4    5    6    7    8    9    10    \\\n",
       "A0A075F7E9_LERK1_ORYSI_KD1    -    -    -    -    -    -    -    -    -    -   \n",
       "A0A078BQP2_GCY25_CAEEL_KD1    -    -    -    -    -    -    -    -    -    -   \n",
       "A0A078CGE6_M3KE1_BRANA_KD1    -    -    -    -    -    -    -    -    -    -   \n",
       "A0A0G2K344_PK3CA_RAT_KD1      -    -    -    -    -    -    -    -    -    -   \n",
       "A0A0H2ZM62_HK06_STRP2_KD1     -    -    -    -    -    -    -    -    -    -   \n",
       "\n",
       "                            ... 3425 3426 3427 3428 3429 3430 3431 3432 3433  \\\n",
       "A0A075F7E9_LERK1_ORYSI_KD1  ...    -    -    -    -    -    -    -    -    -   \n",
       "A0A078BQP2_GCY25_CAEEL_KD1  ...    -    -    -    -    -    -    -    -    -   \n",
       "A0A078CGE6_M3KE1_BRANA_KD1  ...    -    -    -    -    -    -    -    -    -   \n",
       "A0A0G2K344_PK3CA_RAT_KD1    ...    -    -    -    -    -    -    -    -    -   \n",
       "A0A0H2ZM62_HK06_STRP2_KD1   ...    -    -    -    -    -    -    -    -    -   \n",
       "\n",
       "                           3434  \n",
       "A0A075F7E9_LERK1_ORYSI_KD1    -  \n",
       "A0A078BQP2_GCY25_CAEEL_KD1    -  \n",
       "A0A078CGE6_M3KE1_BRANA_KD1    -  \n",
       "A0A0G2K344_PK3CA_RAT_KD1      -  \n",
       "A0A0H2ZM62_HK06_STRP2_KD1     -  \n",
       "\n",
       "[5 rows x 3434 columns]"
      ]
     },
     "execution_count": 13,
     "metadata": {},
     "output_type": "execute_result"
    }
   ],
   "source": [
    "df.head()"
   ]
  },
  {
   "cell_type": "code",
   "execution_count": 14,
   "id": "ea5ce6e6-3bfe-4e59-bbf5-6f976b1ae7ce",
   "metadata": {},
   "outputs": [],
   "source": [
    "# change type to str to save in parquet\n",
    "df.columns = df.columns.astype(str)"
   ]
  },
  {
   "cell_type": "code",
   "execution_count": 16,
   "id": "a48bd96f-5631-4049-9b33-0e92b37dc63f",
   "metadata": {},
   "outputs": [],
   "source": [
    "df.to_parquet('raw/uniprot_kd_align.parquet')"
   ]
  },
  {
   "cell_type": "code",
   "execution_count": 11,
   "id": "47ed6c19-6c96-4583-9047-2bca1f77db0d",
   "metadata": {},
   "outputs": [],
   "source": [
    "# reverse back\n",
    "df.columns = df.columns.astype(int)"
   ]
  },
  {
   "cell_type": "markdown",
   "id": "ade449a4-1cf7-409f-b5a2-c6cc4fc56eea",
   "metadata": {},
   "source": [
    "## Frequency of aa at position 1-3434"
   ]
  },
  {
   "cell_type": "code",
   "execution_count": 35,
   "id": "5556d292-d157-45e9-b443-13b80d9ba62c",
   "metadata": {},
   "outputs": [],
   "source": [
    "# Compute residue frequency at each position\n",
    "counts_df = df.apply(lambda col: col.value_counts(), axis=0).fillna(0)\n",
    "freq_df = counts_df.div(counts_df.sum(axis=0), axis=1)"
   ]
  },
  {
   "cell_type": "code",
   "execution_count": 37,
   "id": "4ada5032-b02b-46ad-a1b0-23357d07ab35",
   "metadata": {},
   "outputs": [
    {
     "data": {
      "text/html": [
       "<div>\n",
       "<style scoped>\n",
       "    .dataframe tbody tr th:only-of-type {\n",
       "        vertical-align: middle;\n",
       "    }\n",
       "\n",
       "    .dataframe tbody tr th {\n",
       "        vertical-align: top;\n",
       "    }\n",
       "\n",
       "    .dataframe thead th {\n",
       "        text-align: right;\n",
       "    }\n",
       "</style>\n",
       "<table border=\"1\" class=\"dataframe\">\n",
       "  <thead>\n",
       "    <tr style=\"text-align: right;\">\n",
       "      <th></th>\n",
       "      <th>1</th>\n",
       "      <th>2</th>\n",
       "      <th>3</th>\n",
       "      <th>4</th>\n",
       "      <th>5</th>\n",
       "      <th>6</th>\n",
       "      <th>7</th>\n",
       "      <th>8</th>\n",
       "      <th>9</th>\n",
       "      <th>10</th>\n",
       "      <th>...</th>\n",
       "      <th>3425</th>\n",
       "      <th>3426</th>\n",
       "      <th>3427</th>\n",
       "      <th>3428</th>\n",
       "      <th>3429</th>\n",
       "      <th>3430</th>\n",
       "      <th>3431</th>\n",
       "      <th>3432</th>\n",
       "      <th>3433</th>\n",
       "      <th>3434</th>\n",
       "    </tr>\n",
       "  </thead>\n",
       "  <tbody>\n",
       "    <tr>\n",
       "      <th>-</th>\n",
       "      <td>0.999819</td>\n",
       "      <td>0.999819</td>\n",
       "      <td>0.999819</td>\n",
       "      <td>0.999819</td>\n",
       "      <td>0.999819</td>\n",
       "      <td>0.999819</td>\n",
       "      <td>0.999819</td>\n",
       "      <td>0.999819</td>\n",
       "      <td>0.999819</td>\n",
       "      <td>0.999819</td>\n",
       "      <td>...</td>\n",
       "      <td>0.999819</td>\n",
       "      <td>0.999819</td>\n",
       "      <td>0.999819</td>\n",
       "      <td>0.999819</td>\n",
       "      <td>0.999819</td>\n",
       "      <td>0.999819</td>\n",
       "      <td>0.999819</td>\n",
       "      <td>0.999819</td>\n",
       "      <td>0.999819</td>\n",
       "      <td>0.999819</td>\n",
       "    </tr>\n",
       "    <tr>\n",
       "      <th>A</th>\n",
       "      <td>0.000000</td>\n",
       "      <td>0.000000</td>\n",
       "      <td>0.000000</td>\n",
       "      <td>0.000000</td>\n",
       "      <td>0.000000</td>\n",
       "      <td>0.000000</td>\n",
       "      <td>0.000000</td>\n",
       "      <td>0.000000</td>\n",
       "      <td>0.000000</td>\n",
       "      <td>0.000000</td>\n",
       "      <td>...</td>\n",
       "      <td>0.000000</td>\n",
       "      <td>0.000000</td>\n",
       "      <td>0.000000</td>\n",
       "      <td>0.000000</td>\n",
       "      <td>0.000000</td>\n",
       "      <td>0.000000</td>\n",
       "      <td>0.000000</td>\n",
       "      <td>0.000000</td>\n",
       "      <td>0.000000</td>\n",
       "      <td>0.000000</td>\n",
       "    </tr>\n",
       "    <tr>\n",
       "      <th>C</th>\n",
       "      <td>0.000000</td>\n",
       "      <td>0.000000</td>\n",
       "      <td>0.000000</td>\n",
       "      <td>0.000000</td>\n",
       "      <td>0.000000</td>\n",
       "      <td>0.000000</td>\n",
       "      <td>0.000000</td>\n",
       "      <td>0.000000</td>\n",
       "      <td>0.000000</td>\n",
       "      <td>0.000000</td>\n",
       "      <td>...</td>\n",
       "      <td>0.000000</td>\n",
       "      <td>0.000000</td>\n",
       "      <td>0.000000</td>\n",
       "      <td>0.000000</td>\n",
       "      <td>0.000000</td>\n",
       "      <td>0.000000</td>\n",
       "      <td>0.000000</td>\n",
       "      <td>0.000000</td>\n",
       "      <td>0.000000</td>\n",
       "      <td>0.000000</td>\n",
       "    </tr>\n",
       "    <tr>\n",
       "      <th>D</th>\n",
       "      <td>0.000000</td>\n",
       "      <td>0.000181</td>\n",
       "      <td>0.000000</td>\n",
       "      <td>0.000000</td>\n",
       "      <td>0.000181</td>\n",
       "      <td>0.000000</td>\n",
       "      <td>0.000000</td>\n",
       "      <td>0.000000</td>\n",
       "      <td>0.000000</td>\n",
       "      <td>0.000000</td>\n",
       "      <td>...</td>\n",
       "      <td>0.000000</td>\n",
       "      <td>0.000181</td>\n",
       "      <td>0.000181</td>\n",
       "      <td>0.000000</td>\n",
       "      <td>0.000000</td>\n",
       "      <td>0.000000</td>\n",
       "      <td>0.000181</td>\n",
       "      <td>0.000000</td>\n",
       "      <td>0.000000</td>\n",
       "      <td>0.000000</td>\n",
       "    </tr>\n",
       "    <tr>\n",
       "      <th>E</th>\n",
       "      <td>0.000000</td>\n",
       "      <td>0.000000</td>\n",
       "      <td>0.000000</td>\n",
       "      <td>0.000000</td>\n",
       "      <td>0.000000</td>\n",
       "      <td>0.000000</td>\n",
       "      <td>0.000000</td>\n",
       "      <td>0.000000</td>\n",
       "      <td>0.000000</td>\n",
       "      <td>0.000000</td>\n",
       "      <td>...</td>\n",
       "      <td>0.000000</td>\n",
       "      <td>0.000000</td>\n",
       "      <td>0.000000</td>\n",
       "      <td>0.000000</td>\n",
       "      <td>0.000000</td>\n",
       "      <td>0.000000</td>\n",
       "      <td>0.000000</td>\n",
       "      <td>0.000181</td>\n",
       "      <td>0.000000</td>\n",
       "      <td>0.000000</td>\n",
       "    </tr>\n",
       "  </tbody>\n",
       "</table>\n",
       "<p>5 rows × 3434 columns</p>\n",
       "</div>"
      ],
      "text/plain": [
       "          1         2         3         4         5         6         7  \\\n",
       "-  0.999819  0.999819  0.999819  0.999819  0.999819  0.999819  0.999819   \n",
       "A  0.000000  0.000000  0.000000  0.000000  0.000000  0.000000  0.000000   \n",
       "C  0.000000  0.000000  0.000000  0.000000  0.000000  0.000000  0.000000   \n",
       "D  0.000000  0.000181  0.000000  0.000000  0.000181  0.000000  0.000000   \n",
       "E  0.000000  0.000000  0.000000  0.000000  0.000000  0.000000  0.000000   \n",
       "\n",
       "          8         9        10  ...      3425      3426      3427      3428  \\\n",
       "-  0.999819  0.999819  0.999819  ...  0.999819  0.999819  0.999819  0.999819   \n",
       "A  0.000000  0.000000  0.000000  ...  0.000000  0.000000  0.000000  0.000000   \n",
       "C  0.000000  0.000000  0.000000  ...  0.000000  0.000000  0.000000  0.000000   \n",
       "D  0.000000  0.000000  0.000000  ...  0.000000  0.000181  0.000181  0.000000   \n",
       "E  0.000000  0.000000  0.000000  ...  0.000000  0.000000  0.000000  0.000000   \n",
       "\n",
       "       3429      3430      3431      3432      3433      3434  \n",
       "-  0.999819  0.999819  0.999819  0.999819  0.999819  0.999819  \n",
       "A  0.000000  0.000000  0.000000  0.000000  0.000000  0.000000  \n",
       "C  0.000000  0.000000  0.000000  0.000000  0.000000  0.000000  \n",
       "D  0.000000  0.000000  0.000181  0.000000  0.000000  0.000000  \n",
       "E  0.000000  0.000000  0.000000  0.000181  0.000000  0.000000  \n",
       "\n",
       "[5 rows x 3434 columns]"
      ]
     },
     "execution_count": 37,
     "metadata": {},
     "output_type": "execute_result"
    }
   ],
   "source": [
    "freq_df.head()"
   ]
  },
  {
   "cell_type": "code",
   "execution_count": 38,
   "id": "a4696466-a195-4d99-823f-77e79ce72916",
   "metadata": {},
   "outputs": [],
   "source": [
    "# remove '-' first line\n",
    "max_series=freq_df.iloc[1:,:]"
   ]
  },
  {
   "cell_type": "code",
   "execution_count": 39,
   "id": "3c7f6176-95da-4848-a428-cdbb68a2f4d6",
   "metadata": {},
   "outputs": [],
   "source": [
    "freq_max = pd.concat([max_series.idxmax(),max_series.max()],axis=1)"
   ]
  },
  {
   "cell_type": "code",
   "execution_count": 40,
   "id": "978a4aee-c001-4c93-a116-1835d70f496d",
   "metadata": {},
   "outputs": [],
   "source": [
    "freq_max.columns = ['aa','max_value']"
   ]
  },
  {
   "cell_type": "code",
   "execution_count": 41,
   "id": "f985da85-56be-4c70-8e10-7aeba0c7cf83",
   "metadata": {},
   "outputs": [],
   "source": [
    "freq_max = freq_max.sort_values('max_value',ascending=False).reset_index(names='position')"
   ]
  },
  {
   "cell_type": "code",
   "execution_count": 42,
   "id": "7b7823ff-4c69-4d51-9912-cdf1a82ae2dd",
   "metadata": {},
   "outputs": [],
   "source": [
    "out = freq_max[freq_max.max_value>0.1]"
   ]
  },
  {
   "cell_type": "code",
   "execution_count": 43,
   "id": "68eeeb44-4dfb-46d6-aa09-5a1cdc7bab97",
   "metadata": {},
   "outputs": [
    {
     "data": {
      "text/html": [
       "<div>\n",
       "<style scoped>\n",
       "    .dataframe tbody tr th:only-of-type {\n",
       "        vertical-align: middle;\n",
       "    }\n",
       "\n",
       "    .dataframe tbody tr th {\n",
       "        vertical-align: top;\n",
       "    }\n",
       "\n",
       "    .dataframe thead th {\n",
       "        text-align: right;\n",
       "    }\n",
       "</style>\n",
       "<table border=\"1\" class=\"dataframe\">\n",
       "  <thead>\n",
       "    <tr style=\"text-align: right;\">\n",
       "      <th></th>\n",
       "      <th>position</th>\n",
       "      <th>aa</th>\n",
       "      <th>max_value</th>\n",
       "    </tr>\n",
       "  </thead>\n",
       "  <tbody>\n",
       "    <tr>\n",
       "      <th>0</th>\n",
       "      <td>1549</td>\n",
       "      <td>N</td>\n",
       "      <td>0.815390</td>\n",
       "    </tr>\n",
       "    <tr>\n",
       "      <th>1</th>\n",
       "      <td>2618</td>\n",
       "      <td>D</td>\n",
       "      <td>0.809429</td>\n",
       "    </tr>\n",
       "    <tr>\n",
       "      <th>2</th>\n",
       "      <td>1724</td>\n",
       "      <td>D</td>\n",
       "      <td>0.800759</td>\n",
       "    </tr>\n",
       "    <tr>\n",
       "      <th>3</th>\n",
       "      <td>1525</td>\n",
       "      <td>D</td>\n",
       "      <td>0.791004</td>\n",
       "    </tr>\n",
       "    <tr>\n",
       "      <th>4</th>\n",
       "      <td>1730</td>\n",
       "      <td>G</td>\n",
       "      <td>0.775470</td>\n",
       "    </tr>\n",
       "    <tr>\n",
       "      <th>...</th>\n",
       "      <td>...</td>\n",
       "      <td>...</td>\n",
       "      <td>...</td>\n",
       "    </tr>\n",
       "    <tr>\n",
       "      <th>214</th>\n",
       "      <td>640</td>\n",
       "      <td>G</td>\n",
       "      <td>0.101879</td>\n",
       "    </tr>\n",
       "    <tr>\n",
       "      <th>215</th>\n",
       "      <td>193</td>\n",
       "      <td>E</td>\n",
       "      <td>0.101879</td>\n",
       "    </tr>\n",
       "    <tr>\n",
       "      <th>216</th>\n",
       "      <td>922</td>\n",
       "      <td>L</td>\n",
       "      <td>0.101337</td>\n",
       "    </tr>\n",
       "    <tr>\n",
       "      <th>217</th>\n",
       "      <td>603</td>\n",
       "      <td>R</td>\n",
       "      <td>0.101156</td>\n",
       "    </tr>\n",
       "    <tr>\n",
       "      <th>218</th>\n",
       "      <td>2581</td>\n",
       "      <td>G</td>\n",
       "      <td>0.100614</td>\n",
       "    </tr>\n",
       "  </tbody>\n",
       "</table>\n",
       "<p>219 rows × 3 columns</p>\n",
       "</div>"
      ],
      "text/plain": [
       "    position aa  max_value\n",
       "0       1549  N   0.815390\n",
       "1       2618  D   0.809429\n",
       "2       1724  D   0.800759\n",
       "3       1525  D   0.791004\n",
       "4       1730  G   0.775470\n",
       "..       ... ..        ...\n",
       "214      640  G   0.101879\n",
       "215      193  E   0.101879\n",
       "216      922  L   0.101337\n",
       "217      603  R   0.101156\n",
       "218     2581  G   0.100614\n",
       "\n",
       "[219 rows x 3 columns]"
      ]
     },
     "execution_count": 43,
     "metadata": {},
     "output_type": "execute_result"
    }
   ],
   "source": [
    "out"
   ]
  },
  {
   "cell_type": "code",
   "execution_count": null,
   "id": "f6a950ad-e9b7-48c7-bded-8fec0a9fc648",
   "metadata": {},
   "outputs": [],
   "source": [
    "# out.to_csv('out/align_freq_max_aa.csv',index=False)"
   ]
  },
  {
   "cell_type": "markdown",
   "id": "05228ce8-5906-4c28-be0f-2476c98c6210",
   "metadata": {},
   "source": [
    "## Locate active motif & save"
   ]
  },
  {
   "cell_type": "markdown",
   "id": "17b5abab-ab2a-4a67-8fa4-58bd5ef5771c",
   "metadata": {},
   "source": [
    "- 1549 N is after HRD motif\n",
    "- 2618 D is around D[IV]WS motif\n",
    "- 1724 D is DFG motif\n",
    "- 1525 D is HRD motif"
   ]
  },
  {
   "cell_type": "code",
   "execution_count": 65,
   "id": "b97ab27f-f134-45d0-83b9-b7b360433e92",
   "metadata": {},
   "outputs": [],
   "source": [
    "df=df.reset_index()"
   ]
  },
  {
   "cell_type": "code",
   "execution_count": 67,
   "id": "2d91d168-b932-4e90-b9fd-dcf7b6283949",
   "metadata": {},
   "outputs": [],
   "source": [
    "kd['D1']=(df[1525]=='D').astype(int) # HRD"
   ]
  },
  {
   "cell_type": "code",
   "execution_count": 68,
   "id": "5bc02e09-eddf-4e4f-a924-50b218fc6615",
   "metadata": {},
   "outputs": [],
   "source": [
    "kd['D2'] = (df[1724]=='D').astype(int) #DFG"
   ]
  },
  {
   "cell_type": "code",
   "execution_count": 70,
   "id": "61aaf1c5-4a2e-44ca-a98d-11529165e9a4",
   "metadata": {},
   "outputs": [],
   "source": [
    "kd['D3']=(df[2618]=='D').astype(int)"
   ]
  },
  {
   "cell_type": "code",
   "execution_count": 71,
   "id": "c39fd08a-0578-4f32-9499-eac4e7f17759",
   "metadata": {},
   "outputs": [],
   "source": [
    "kd['N1'] = (df[1549]=='N').astype(int)"
   ]
  },
  {
   "cell_type": "code",
   "execution_count": 72,
   "id": "d6519d46-a2b4-4c8a-b3e2-bdfaec6562e8",
   "metadata": {},
   "outputs": [],
   "source": [
    "active_col = ['D1','D2']"
   ]
  },
  {
   "cell_type": "code",
   "execution_count": 73,
   "id": "71961522-b02e-4eec-9534-ab0a50266e70",
   "metadata": {},
   "outputs": [],
   "source": [
    "kd['active_D1_D2'] = (kd[active_col].sum(1)==len(active_col)).astype(int)"
   ]
  },
  {
   "cell_type": "code",
   "execution_count": 74,
   "id": "d36507bc-b253-4b59-927f-03891ad49a9b",
   "metadata": {},
   "outputs": [
    {
     "data": {
      "text/plain": [
       "active_D1_D2\n",
       "1    4209\n",
       "0    1327\n",
       "Name: count, dtype: int64"
      ]
     },
     "execution_count": 74,
     "metadata": {},
     "output_type": "execute_result"
    }
   ],
   "source": [
    "kd['active_D1_D2'].value_counts()"
   ]
  },
  {
   "cell_type": "code",
   "execution_count": 75,
   "id": "fa2726cc-a4db-4d5a-8905-31ef4c7e6590",
   "metadata": {},
   "outputs": [],
   "source": [
    "active_all = kd[kd.active_D1_D2==1]"
   ]
  },
  {
   "cell_type": "code",
   "execution_count": 76,
   "id": "f1f6482e-e760-4efd-84ac-b35884e1419e",
   "metadata": {},
   "outputs": [
    {
     "data": {
      "text/plain": [
       "(4209, 32)"
      ]
     },
     "execution_count": 76,
     "metadata": {},
     "output_type": "execute_result"
    }
   ],
   "source": [
    "active_all.shape"
   ]
  },
  {
   "cell_type": "code",
   "execution_count": null,
   "id": "5313f2fa-e93d-45a4-ac0c-3b1f5a8f53dd",
   "metadata": {},
   "outputs": [],
   "source": [
    "# active_all.to_excel('out/uniprot_kd_active_D1_D2.xlsx',index=False)"
   ]
  },
  {
   "cell_type": "code",
   "execution_count": null,
   "id": "b22a9f12-bf8d-4043-a579-952646c92a51",
   "metadata": {},
   "outputs": [],
   "source": [
    "# kd.to_excel('out/uniprot_kd_motif_labeled.xlsx',index=False)"
   ]
  },
  {
   "cell_type": "markdown",
   "id": "0ccb7e49-3a9d-41dc-aeb4-abb2753b833a",
   "metadata": {},
   "source": [
    "Take a look of their identity:"
   ]
  },
  {
   "cell_type": "code",
   "execution_count": 77,
   "id": "11da7f50-56af-4304-9cd6-a38901ecd01f",
   "metadata": {},
   "outputs": [
    {
     "data": {
      "text/plain": [
       "kd_note\n",
       "Protein kinase               4005\n",
       "PI3K/PI4K catalytic            71\n",
       "Protein kinase 2               61\n",
       "Protein kinase 1               37\n",
       "Histidine kinase               34\n",
       "Alpha-type protein kinase       1\n",
       "Name: count, dtype: int64"
      ]
     },
     "execution_count": 77,
     "metadata": {},
     "output_type": "execute_result"
    }
   ],
   "source": [
    "kd[kd.active_D1_D2==1].kd_note.value_counts()"
   ]
  },
  {
   "cell_type": "code",
   "execution_count": 78,
   "id": "dc58efc6-4cfe-447c-b6ca-bd97a943f1dd",
   "metadata": {},
   "outputs": [
    {
     "data": {
      "text/plain": [
       "kd_note\n",
       "Histidine kinase                  591\n",
       "Protein kinase                    525\n",
       "PI3K/PI4K catalytic                97\n",
       "Protein kinase 1                   36\n",
       "Alpha-type protein kinase          21\n",
       "Protein kinase; inactive           13\n",
       "Protein kinase 2                   12\n",
       "HWE histidine kinase domain        11\n",
       "Guanylate kinase-like               5\n",
       "Histidine kinase 2                  4\n",
       "Histidine kinase 1                  4\n",
       "Amino-acid kinase domain (AAK)      3\n",
       "Kinase domain                       2\n",
       "Histidine kinase; first part        1\n",
       "Histidine kinase; second part       1\n",
       "Protein kinase; truncated           1\n",
       "Name: count, dtype: int64"
      ]
     },
     "execution_count": 78,
     "metadata": {},
     "output_type": "execute_result"
    }
   ],
   "source": [
    "kd[kd.active_D1_D2==0].kd_note.value_counts()"
   ]
  },
  {
   "cell_type": "markdown",
   "id": "1e355b39-61eb-4915-8053-bf8651b70f0d",
   "metadata": {},
   "source": [
    "## Add KD info to human kinase info"
   ]
  },
  {
   "cell_type": "code",
   "execution_count": 79,
   "id": "defe9517-0600-45ff-b5c9-974bae27177b",
   "metadata": {},
   "outputs": [],
   "source": [
    "kd = pd.read_excel('out/uniprot_kd_motif_labeled.xlsx')"
   ]
  },
  {
   "cell_type": "code",
   "execution_count": 80,
   "id": "48d0d554-404c-4234-a4f2-617ee734419e",
   "metadata": {},
   "outputs": [],
   "source": [
    "human= kd[kd.Organism=='Homo sapiens (Human)']"
   ]
  },
  {
   "cell_type": "code",
   "execution_count": 81,
   "id": "9cadee74-5381-45ec-8663-550fc33aa6ba",
   "metadata": {},
   "outputs": [],
   "source": [
    "kd_id_uniprot_map = human.groupby('Uniprot').agg({'kd_ID': lambda x: ','.join(x.unique()),\n",
    "                                                  'active_D1_D2': lambda x: x,\n",
    "                                                 })"
   ]
  },
  {
   "cell_type": "code",
   "execution_count": 82,
   "id": "05c6e791-84cb-4198-b932-9cc00f3d14e8",
   "metadata": {},
   "outputs": [
    {
     "data": {
      "text/html": [
       "<div>\n",
       "<style scoped>\n",
       "    .dataframe tbody tr th:only-of-type {\n",
       "        vertical-align: middle;\n",
       "    }\n",
       "\n",
       "    .dataframe tbody tr th {\n",
       "        vertical-align: top;\n",
       "    }\n",
       "\n",
       "    .dataframe thead th {\n",
       "        text-align: right;\n",
       "    }\n",
       "</style>\n",
       "<table border=\"1\" class=\"dataframe\">\n",
       "  <thead>\n",
       "    <tr style=\"text-align: right;\">\n",
       "      <th></th>\n",
       "      <th>kd_ID</th>\n",
       "      <th>active_D1_D2</th>\n",
       "    </tr>\n",
       "    <tr>\n",
       "      <th>Uniprot</th>\n",
       "      <th></th>\n",
       "      <th></th>\n",
       "    </tr>\n",
       "  </thead>\n",
       "  <tbody>\n",
       "    <tr>\n",
       "      <th>A4D2B8</th>\n",
       "      <td>A4D2B8_PM2P1_HUMAN_KD1</td>\n",
       "      <td>0</td>\n",
       "    </tr>\n",
       "    <tr>\n",
       "      <th>A4QPH2</th>\n",
       "      <td>A4QPH2_PI4P2_HUMAN_KD1</td>\n",
       "      <td>0</td>\n",
       "    </tr>\n",
       "    <tr>\n",
       "      <th>O00141</th>\n",
       "      <td>O00141_SGK1_HUMAN_KD1</td>\n",
       "      <td>1</td>\n",
       "    </tr>\n",
       "    <tr>\n",
       "      <th>O00238</th>\n",
       "      <td>O00238_BMR1B_HUMAN_KD1</td>\n",
       "      <td>1</td>\n",
       "    </tr>\n",
       "    <tr>\n",
       "      <th>O00311</th>\n",
       "      <td>O00311_CDC7_HUMAN_KD1</td>\n",
       "      <td>1</td>\n",
       "    </tr>\n",
       "    <tr>\n",
       "      <th>...</th>\n",
       "      <td>...</td>\n",
       "      <td>...</td>\n",
       "    </tr>\n",
       "    <tr>\n",
       "      <th>Q9Y616</th>\n",
       "      <td>Q9Y616_IRAK3_HUMAN_KD1</td>\n",
       "      <td>0</td>\n",
       "    </tr>\n",
       "    <tr>\n",
       "      <th>Q9Y6E0</th>\n",
       "      <td>Q9Y6E0_STK24_HUMAN_KD1</td>\n",
       "      <td>1</td>\n",
       "    </tr>\n",
       "    <tr>\n",
       "      <th>Q9Y6M4</th>\n",
       "      <td>Q9Y6M4_KC1G3_HUMAN_KD1</td>\n",
       "      <td>1</td>\n",
       "    </tr>\n",
       "    <tr>\n",
       "      <th>Q9Y6R4</th>\n",
       "      <td>Q9Y6R4_M3K4_HUMAN_KD1</td>\n",
       "      <td>1</td>\n",
       "    </tr>\n",
       "    <tr>\n",
       "      <th>Q9Y6S9</th>\n",
       "      <td>Q9Y6S9_RPKL1_HUMAN_KD1</td>\n",
       "      <td>0</td>\n",
       "    </tr>\n",
       "  </tbody>\n",
       "</table>\n",
       "<p>523 rows × 2 columns</p>\n",
       "</div>"
      ],
      "text/plain": [
       "                          kd_ID active_D1_D2\n",
       "Uniprot                                     \n",
       "A4D2B8   A4D2B8_PM2P1_HUMAN_KD1            0\n",
       "A4QPH2   A4QPH2_PI4P2_HUMAN_KD1            0\n",
       "O00141    O00141_SGK1_HUMAN_KD1            1\n",
       "O00238   O00238_BMR1B_HUMAN_KD1            1\n",
       "O00311    O00311_CDC7_HUMAN_KD1            1\n",
       "...                         ...          ...\n",
       "Q9Y616   Q9Y616_IRAK3_HUMAN_KD1            0\n",
       "Q9Y6E0   Q9Y6E0_STK24_HUMAN_KD1            1\n",
       "Q9Y6M4   Q9Y6M4_KC1G3_HUMAN_KD1            1\n",
       "Q9Y6R4    Q9Y6R4_M3K4_HUMAN_KD1            1\n",
       "Q9Y6S9   Q9Y6S9_RPKL1_HUMAN_KD1            0\n",
       "\n",
       "[523 rows x 2 columns]"
      ]
     },
     "execution_count": 82,
     "metadata": {},
     "output_type": "execute_result"
    }
   ],
   "source": [
    "kd_id_uniprot_map"
   ]
  },
  {
   "cell_type": "code",
   "execution_count": null,
   "id": "a1959a3b-d6b6-4703-b6bf-e76c3e1f5475",
   "metadata": {},
   "outputs": [],
   "source": [
    "# kd_id_uniprot_map.to_csv('raw/kd_ID_uniprot_map.csv')"
   ]
  },
  {
   "cell_type": "markdown",
   "id": "67acdc95-c31f-4e29-a759-462f4748f1f5",
   "metadata": {},
   "source": [
    "Get the csv merge with kinase info. Manually match KD1 and KD2 to the kinase info by considering active_D1_D2.\n",
    "\n",
    "The data is updated on github."
   ]
  },
  {
   "cell_type": "code",
   "execution_count": 83,
   "id": "b452fb92-a714-40c2-a666-4faaf9493b10",
   "metadata": {},
   "outputs": [],
   "source": [
    "from katlas.data import *"
   ]
  },
  {
   "cell_type": "code",
   "execution_count": 88,
   "id": "0bd47d03-14fc-4670-9b58-006f187a3426",
   "metadata": {},
   "outputs": [],
   "source": [
    "kd_info =Data.get_kd_uniprot()"
   ]
  },
  {
   "cell_type": "code",
   "execution_count": 90,
   "id": "677d4ae6-154f-48b9-9f50-da45f6842d17",
   "metadata": {},
   "outputs": [
    {
     "data": {
      "text/html": [
       "<div>\n",
       "<style scoped>\n",
       "    .dataframe tbody tr th:only-of-type {\n",
       "        vertical-align: middle;\n",
       "    }\n",
       "\n",
       "    .dataframe tbody tr th {\n",
       "        vertical-align: top;\n",
       "    }\n",
       "\n",
       "    .dataframe thead th {\n",
       "        text-align: right;\n",
       "    }\n",
       "</style>\n",
       "<table border=\"1\" class=\"dataframe\">\n",
       "  <thead>\n",
       "    <tr style=\"text-align: right;\">\n",
       "      <th></th>\n",
       "      <th>kd_ID</th>\n",
       "      <th>Uniprot</th>\n",
       "      <th>Entry Name</th>\n",
       "      <th>Protein names</th>\n",
       "      <th>Gene Names</th>\n",
       "      <th>Gene Names (primary)</th>\n",
       "      <th>Organism</th>\n",
       "      <th>kd_note</th>\n",
       "      <th>kd_evidence</th>\n",
       "      <th>kd_start</th>\n",
       "      <th>...</th>\n",
       "      <th>Interacts with</th>\n",
       "      <th>Subunit structure</th>\n",
       "      <th>Function [CC]</th>\n",
       "      <th>Activity regulation</th>\n",
       "      <th>full_seq</th>\n",
       "      <th>D1</th>\n",
       "      <th>D2</th>\n",
       "      <th>D3</th>\n",
       "      <th>N1</th>\n",
       "      <th>active_D1_D2</th>\n",
       "    </tr>\n",
       "  </thead>\n",
       "  <tbody>\n",
       "    <tr>\n",
       "      <th>0</th>\n",
       "      <td>A0A075F7E9_LERK1_ORYSI_KD1</td>\n",
       "      <td>A0A075F7E9</td>\n",
       "      <td>LERK1_ORYSI</td>\n",
       "      <td>G-type lectin S-receptor-like serine/threonine...</td>\n",
       "      <td>LECRK1 LECRK OsI_14840</td>\n",
       "      <td>LECRK1</td>\n",
       "      <td>Oryza sativa subsp. indica (Rice)</td>\n",
       "      <td>Protein kinase</td>\n",
       "      <td>ECO:0000255|PROSITE-ProRule:PRU00159</td>\n",
       "      <td>523</td>\n",
       "      <td>...</td>\n",
       "      <td>None</td>\n",
       "      <td>SUBUNIT: Interacts (via kinase domain) with AD...</td>\n",
       "      <td>FUNCTION: Involved in innate immunity. Require...</td>\n",
       "      <td>None</td>\n",
       "      <td>MVALLLFPMLLQLLSPTCAQTQKNITLGSTLAPQGPASSWLSPSGD...</td>\n",
       "      <td>1</td>\n",
       "      <td>1</td>\n",
       "      <td>1</td>\n",
       "      <td>1</td>\n",
       "      <td>1</td>\n",
       "    </tr>\n",
       "    <tr>\n",
       "      <th>1</th>\n",
       "      <td>A0A078BQP2_GCY25_CAEEL_KD1</td>\n",
       "      <td>A0A078BQP2</td>\n",
       "      <td>GCY25_CAEEL</td>\n",
       "      <td>Receptor-type guanylate cyclase gcy-25 (EC 4.6...</td>\n",
       "      <td>gcy-25 Y105C5B.2</td>\n",
       "      <td>gcy-25</td>\n",
       "      <td>Caenorhabditis elegans</td>\n",
       "      <td>Protein kinase</td>\n",
       "      <td>ECO:0000255|PROSITE-ProRule:PRU00159</td>\n",
       "      <td>464</td>\n",
       "      <td>...</td>\n",
       "      <td>None</td>\n",
       "      <td>None</td>\n",
       "      <td>FUNCTION: Guanylate cyclase involved in the pr...</td>\n",
       "      <td>None</td>\n",
       "      <td>MLLLLLLLKISTFVDSFQIGHLEFENSNETRILEICMKNAGSWRDH...</td>\n",
       "      <td>0</td>\n",
       "      <td>0</td>\n",
       "      <td>1</td>\n",
       "      <td>0</td>\n",
       "      <td>0</td>\n",
       "    </tr>\n",
       "    <tr>\n",
       "      <th>2</th>\n",
       "      <td>A0A078CGE6_M3KE1_BRANA_KD1</td>\n",
       "      <td>A0A078CGE6</td>\n",
       "      <td>M3KE1_BRANA</td>\n",
       "      <td>MAP3K epsilon protein kinase 1 (BnM3KE1) (EC 2...</td>\n",
       "      <td>M3KE1 BnaA03g30290D GSBRNA2T00111755001</td>\n",
       "      <td>M3KE1</td>\n",
       "      <td>Brassica napus (Rape)</td>\n",
       "      <td>Protein kinase</td>\n",
       "      <td>ECO:0000255|PROSITE-ProRule:PRU00159</td>\n",
       "      <td>20</td>\n",
       "      <td>...</td>\n",
       "      <td>None</td>\n",
       "      <td>None</td>\n",
       "      <td>FUNCTION: Serine/threonine-protein kinase invo...</td>\n",
       "      <td>None</td>\n",
       "      <td>MARQMTSSQFHKSKTLDNKYMLGDEIGKGAYGRVYIGLDLENGDFV...</td>\n",
       "      <td>1</td>\n",
       "      <td>1</td>\n",
       "      <td>1</td>\n",
       "      <td>1</td>\n",
       "      <td>1</td>\n",
       "    </tr>\n",
       "    <tr>\n",
       "      <th>3</th>\n",
       "      <td>A0A0G2K344_PK3CA_RAT_KD1</td>\n",
       "      <td>A0A0G2K344</td>\n",
       "      <td>PK3CA_RAT</td>\n",
       "      <td>Phosphatidylinositol 4,5-bisphosphate 3-kinase...</td>\n",
       "      <td>Pik3ca</td>\n",
       "      <td>Pik3ca</td>\n",
       "      <td>Rattus norvegicus (Rat)</td>\n",
       "      <td>PI3K/PI4K catalytic</td>\n",
       "      <td>ECO:0000255|PROSITE-ProRule:PRU00269</td>\n",
       "      <td>765</td>\n",
       "      <td>...</td>\n",
       "      <td>None</td>\n",
       "      <td>SUBUNIT: Heterodimer of a catalytic subunit PI...</td>\n",
       "      <td>FUNCTION: Phosphoinositide-3-kinase (PI3K) pho...</td>\n",
       "      <td>None</td>\n",
       "      <td>MPPRPSSGELWGIHLMPPRILVECLLPNGMIVTLECLREATLVTIK...</td>\n",
       "      <td>0</td>\n",
       "      <td>0</td>\n",
       "      <td>0</td>\n",
       "      <td>0</td>\n",
       "      <td>0</td>\n",
       "    </tr>\n",
       "    <tr>\n",
       "      <th>4</th>\n",
       "      <td>A0A0H2ZM62_HK06_STRP2_KD1</td>\n",
       "      <td>A0A0H2ZM62</td>\n",
       "      <td>HK06_STRP2</td>\n",
       "      <td>Sensor histidine protein kinase HK06 (EC 2.7.1...</td>\n",
       "      <td>hk06 SPD_2019</td>\n",
       "      <td>hk06</td>\n",
       "      <td>Streptococcus pneumoniae serotype 2 (strain D3...</td>\n",
       "      <td>Histidine kinase</td>\n",
       "      <td>ECO:0000255|PROSITE-ProRule:PRU00107</td>\n",
       "      <td>239</td>\n",
       "      <td>...</td>\n",
       "      <td>None</td>\n",
       "      <td>None</td>\n",
       "      <td>FUNCTION: Member of the two-component regulato...</td>\n",
       "      <td>None</td>\n",
       "      <td>MIKNPKLLTKSFLRSFAILGGVGLVIHIAIYLTFPFYYIQLEGEKF...</td>\n",
       "      <td>0</td>\n",
       "      <td>0</td>\n",
       "      <td>0</td>\n",
       "      <td>0</td>\n",
       "      <td>0</td>\n",
       "    </tr>\n",
       "  </tbody>\n",
       "</table>\n",
       "<p>5 rows × 32 columns</p>\n",
       "</div>"
      ],
      "text/plain": [
       "                        kd_ID     Uniprot   Entry Name  \\\n",
       "0  A0A075F7E9_LERK1_ORYSI_KD1  A0A075F7E9  LERK1_ORYSI   \n",
       "1  A0A078BQP2_GCY25_CAEEL_KD1  A0A078BQP2  GCY25_CAEEL   \n",
       "2  A0A078CGE6_M3KE1_BRANA_KD1  A0A078CGE6  M3KE1_BRANA   \n",
       "3    A0A0G2K344_PK3CA_RAT_KD1  A0A0G2K344    PK3CA_RAT   \n",
       "4   A0A0H2ZM62_HK06_STRP2_KD1  A0A0H2ZM62   HK06_STRP2   \n",
       "\n",
       "                                       Protein names  \\\n",
       "0  G-type lectin S-receptor-like serine/threonine...   \n",
       "1  Receptor-type guanylate cyclase gcy-25 (EC 4.6...   \n",
       "2  MAP3K epsilon protein kinase 1 (BnM3KE1) (EC 2...   \n",
       "3  Phosphatidylinositol 4,5-bisphosphate 3-kinase...   \n",
       "4  Sensor histidine protein kinase HK06 (EC 2.7.1...   \n",
       "\n",
       "                                Gene Names Gene Names (primary)  \\\n",
       "0                   LECRK1 LECRK OsI_14840               LECRK1   \n",
       "1                         gcy-25 Y105C5B.2               gcy-25   \n",
       "2  M3KE1 BnaA03g30290D GSBRNA2T00111755001                M3KE1   \n",
       "3                                   Pik3ca               Pik3ca   \n",
       "4                            hk06 SPD_2019                 hk06   \n",
       "\n",
       "                                            Organism              kd_note  \\\n",
       "0                  Oryza sativa subsp. indica (Rice)       Protein kinase   \n",
       "1                             Caenorhabditis elegans       Protein kinase   \n",
       "2                              Brassica napus (Rape)       Protein kinase   \n",
       "3                            Rattus norvegicus (Rat)  PI3K/PI4K catalytic   \n",
       "4  Streptococcus pneumoniae serotype 2 (strain D3...     Histidine kinase   \n",
       "\n",
       "                            kd_evidence  kd_start  ...  Interacts with  \\\n",
       "0  ECO:0000255|PROSITE-ProRule:PRU00159       523  ...            None   \n",
       "1  ECO:0000255|PROSITE-ProRule:PRU00159       464  ...            None   \n",
       "2  ECO:0000255|PROSITE-ProRule:PRU00159        20  ...            None   \n",
       "3  ECO:0000255|PROSITE-ProRule:PRU00269       765  ...            None   \n",
       "4  ECO:0000255|PROSITE-ProRule:PRU00107       239  ...            None   \n",
       "\n",
       "                                   Subunit structure  \\\n",
       "0  SUBUNIT: Interacts (via kinase domain) with AD...   \n",
       "1                                               None   \n",
       "2                                               None   \n",
       "3  SUBUNIT: Heterodimer of a catalytic subunit PI...   \n",
       "4                                               None   \n",
       "\n",
       "                                       Function [CC] Activity regulation  \\\n",
       "0  FUNCTION: Involved in innate immunity. Require...                None   \n",
       "1  FUNCTION: Guanylate cyclase involved in the pr...                None   \n",
       "2  FUNCTION: Serine/threonine-protein kinase invo...                None   \n",
       "3  FUNCTION: Phosphoinositide-3-kinase (PI3K) pho...                None   \n",
       "4  FUNCTION: Member of the two-component regulato...                None   \n",
       "\n",
       "                                            full_seq D1 D2 D3 N1 active_D1_D2  \n",
       "0  MVALLLFPMLLQLLSPTCAQTQKNITLGSTLAPQGPASSWLSPSGD...  1  1  1  1            1  \n",
       "1  MLLLLLLLKISTFVDSFQIGHLEFENSNETRILEICMKNAGSWRDH...  0  0  1  0            0  \n",
       "2  MARQMTSSQFHKSKTLDNKYMLGDEIGKGAYGRVYIGLDLENGDFV...  1  1  1  1            1  \n",
       "3  MPPRPSSGELWGIHLMPPRILVECLLPNGMIVTLECLREATLVTIK...  0  0  0  0            0  \n",
       "4  MIKNPKLLTKSFLRSFAILGGVGLVIHIAIYLTFPFYYIQLEGEKF...  0  0  0  0            0  \n",
       "\n",
       "[5 rows x 32 columns]"
      ]
     },
     "execution_count": 90,
     "metadata": {},
     "output_type": "execute_result"
    }
   ],
   "source": [
    "kd_info.head()"
   ]
  },
  {
   "cell_type": "code",
   "execution_count": 91,
   "id": "afb7aa49-b59b-49ba-b1e2-fddea22ef2a7",
   "metadata": {},
   "outputs": [
    {
     "data": {
      "text/plain": [
       "(5536, 32)"
      ]
     },
     "execution_count": 91,
     "metadata": {},
     "output_type": "execute_result"
    }
   ],
   "source": [
    "kd_info.shape"
   ]
  },
  {
   "cell_type": "code",
   "execution_count": 84,
   "id": "f85145bd-5a23-4794-9b26-61d4722797da",
   "metadata": {},
   "outputs": [],
   "source": [
    "info=Data.get_kinase_info()"
   ]
  },
  {
   "cell_type": "code",
   "execution_count": 86,
   "id": "dc2e9393-a5c4-4761-aadd-30c94b7af69b",
   "metadata": {},
   "outputs": [
    {
     "data": {
      "text/plain": [
       "Index(['kinase', 'ID_coral', 'uniprot', 'gene', 'modi_group', 'group',\n",
       "       'family', 'subfamily_coral', 'subfamily', 'in_pspa_st', 'in_pspa_tyr',\n",
       "       'in_pspa', 'in_cddm', 'kd_ID', 'active_D1_D2', 'active_kd_ID',\n",
       "       'pspa_ID', 'pseudo', 'pspa_category_small', 'pspa_category_big',\n",
       "       'cddm_big', 'cddm_small', 'length', 'human_uniprot_sequence',\n",
       "       'kinasecom_domain', 'nucleus', 'cytosol', 'cytoskeleton',\n",
       "       'plasma membrane', 'mitochondrion', 'Golgi apparatus',\n",
       "       'endoplasmic reticulum', 'vesicle', 'centrosome', 'aggresome',\n",
       "       'main_location'],\n",
       "      dtype='object')"
      ]
     },
     "execution_count": 86,
     "metadata": {},
     "output_type": "execute_result"
    }
   ],
   "source": [
    "info.columns"
   ]
  },
  {
   "cell_type": "code",
   "execution_count": 87,
   "id": "a340e3eb-eb5a-45d0-86d1-85df9adc3ebd",
   "metadata": {},
   "outputs": [
    {
     "data": {
      "text/plain": [
       "0       Q2M2I8_AAK1_HUMAN_KD1\n",
       "1      Q6ZMQ8_LMTK1_HUMAN_KD1\n",
       "2       P00519_ABL1_HUMAN_KD1\n",
       "3       P42684_ABL2_HUMAN_KD1\n",
       "4      Q8NER5_ACV1C_HUMAN_KD1\n",
       "                ...          \n",
       "518      P07947_YES_HUMAN_KD1\n",
       "519    O00506_STK25_HUMAN_KD1\n",
       "520    Q56UN5_M3K19_HUMAN_KD1\n",
       "521    Q9NYL2_M3K20_HUMAN_KD1\n",
       "522    P43403_ZAP70_HUMAN_KD1\n",
       "Name: kd_ID, Length: 523, dtype: object"
      ]
     },
     "execution_count": 87,
     "metadata": {},
     "output_type": "execute_result"
    }
   ],
   "source": [
    "info.kd_ID"
   ]
  },
  {
   "cell_type": "code",
   "execution_count": null,
   "id": "f9db6f62-3e45-4a2d-976c-de94cfef2c3c",
   "metadata": {},
   "outputs": [],
   "source": []
  }
 ],
 "metadata": {
  "kernelspec": {
   "display_name": "Python 3 (ipykernel)",
   "language": "python",
   "name": "python3"
  },
  "language_info": {
   "codemirror_mode": {
    "name": "ipython",
    "version": 3
   },
   "file_extension": ".py",
   "mimetype": "text/x-python",
   "name": "python",
   "nbconvert_exporter": "python",
   "pygments_lexer": "ipython3",
   "version": "3.11.13"
  },
  "widgets": {
   "application/vnd.jupyter.widget-state+json": {
    "state": {},
    "version_major": 2,
    "version_minor": 0
   }
  }
 },
 "nbformat": 4,
 "nbformat_minor": 5
}
