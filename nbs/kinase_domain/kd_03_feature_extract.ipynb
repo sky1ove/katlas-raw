{
 "cells": [
  {
   "cell_type": "markdown",
   "id": "7a2cca81-ed69-477a-9719-6febbf52614f",
   "metadata": {},
   "source": [
    "# Extract KD features"
   ]
  },
  {
   "cell_type": "code",
   "execution_count": 1,
   "id": "31f2edfa-9fd9-43de-a22d-b8f77f426fb5",
   "metadata": {},
   "outputs": [],
   "source": [
    "import pandas as pd\n",
    "from katlas.core import *\n",
    "from katlas.feature import *\n",
    "from katlas.plot import *"
   ]
  },
  {
   "cell_type": "code",
   "execution_count": 2,
   "id": "3bbd4cbf-db64-4597-9293-3cdc3324bc2c",
   "metadata": {},
   "outputs": [],
   "source": [
    "df = Data.get_kd_uniprot()"
   ]
  },
  {
   "cell_type": "code",
   "execution_count": 3,
   "id": "173dd0c9-c1a7-4dda-9d85-916aa84d5840",
   "metadata": {},
   "outputs": [],
   "source": [
    "# filter active kinase domain\n",
    "df = df[df.active_D1_D2.astype(bool)].reset_index(drop=True)"
   ]
  },
  {
   "cell_type": "code",
   "execution_count": 4,
   "id": "ea378cbe-1f88-45f7-8218-4160800133ea",
   "metadata": {},
   "outputs": [
    {
     "data": {
      "text/plain": [
       "Index(['kd_ID', 'Uniprot', 'Entry Name', 'Protein names', 'Gene Names',\n",
       "       'Gene Names (primary)', 'Organism', 'kd_note', 'kd_evidence',\n",
       "       'kd_start', 'kd_end', 'kd_seq', 'Domain [FT]', 'Domain [CC]', 'Region',\n",
       "       'Motif', 'Protein families', 'Reactome', 'ComplexPortal',\n",
       "       'Subcellular location [CC]', 'Gene Ontology (biological process)',\n",
       "       'Tissue specificity', 'Interacts with', 'Subunit structure',\n",
       "       'Function [CC]', 'Activity regulation', 'full_seq', 'D1', 'D2', 'D3',\n",
       "       'N1', 'active_D1_D2'],\n",
       "      dtype='object')"
      ]
     },
     "execution_count": 4,
     "metadata": {},
     "output_type": "execute_result"
    }
   ],
   "source": [
    "df.columns"
   ]
  },
  {
   "cell_type": "code",
   "execution_count": 5,
   "id": "6ba18f06-2914-41dc-8ada-f6af52f884da",
   "metadata": {},
   "outputs": [
    {
     "data": {
      "text/plain": [
       "(4209, 32)"
      ]
     },
     "execution_count": 5,
     "metadata": {},
     "output_type": "execute_result"
    }
   ],
   "source": [
    "df.shape"
   ]
  },
  {
   "cell_type": "markdown",
   "id": "ad53d9c2-08cf-440c-bfd0-b8f891897743",
   "metadata": {},
   "source": [
    "## Onehot of sequence alignment"
   ]
  },
  {
   "cell_type": "code",
   "execution_count": 7,
   "id": "3beed396-6991-4686-b195-9852ec795d2f",
   "metadata": {},
   "outputs": [],
   "source": [
    "align = pd.read_parquet('raw/uniprot_kd_align.parquet')"
   ]
  },
  {
   "cell_type": "code",
   "execution_count": 8,
   "id": "01f2e6d9-c248-45c0-8b49-2037457007a7",
   "metadata": {},
   "outputs": [],
   "source": [
    "align.columns = align.columns.astype(int)"
   ]
  },
  {
   "cell_type": "code",
   "execution_count": 9,
   "id": "8ea02a2a-e703-4168-a0bf-8f4b1937fc29",
   "metadata": {},
   "outputs": [],
   "source": [
    "active=(align[1525]=='D')& (align[1724]=='D')\n",
    "align = align[active]"
   ]
  },
  {
   "cell_type": "code",
   "execution_count": 10,
   "id": "83cf60ba-680e-4afd-a3a8-970eb704149b",
   "metadata": {},
   "outputs": [
    {
     "data": {
      "text/plain": [
       "(4209, 3434)"
      ]
     },
     "execution_count": 10,
     "metadata": {},
     "output_type": "execute_result"
    }
   ],
   "source": [
    "align.shape"
   ]
  },
  {
   "cell_type": "code",
   "execution_count": 11,
   "id": "30d8d128-00a2-4186-b96a-1c953baae0a3",
   "metadata": {},
   "outputs": [],
   "source": [
    "counts_df = align.apply(lambda col: col.value_counts(), axis=0).fillna(0)\n",
    "freq_df = counts_df.div(counts_df.sum(axis=0), axis=1)"
   ]
  },
  {
   "cell_type": "code",
   "execution_count": 12,
   "id": "7bbb7600-8871-4e32-b5c2-a1ace9080974",
   "metadata": {},
   "outputs": [],
   "source": [
    "# remove '-' first line\n",
    "max_series=freq_df.iloc[1:,:]"
   ]
  },
  {
   "cell_type": "code",
   "execution_count": 13,
   "id": "d946bc6d-9a77-476d-9244-86ebbc92126c",
   "metadata": {},
   "outputs": [],
   "source": [
    "freq_max = pd.concat([max_series.idxmax(),max_series.max()],axis=1)\n",
    "freq_max.columns = ['aa','max_value']\n",
    "freq_max = freq_max.sort_values('max_value',ascending=False).reset_index(names='position')"
   ]
  },
  {
   "cell_type": "code",
   "execution_count": 14,
   "id": "24487950-61f3-482f-81be-3d862cfa823c",
   "metadata": {},
   "outputs": [
    {
     "data": {
      "text/html": [
       "<div>\n",
       "<style scoped>\n",
       "    .dataframe tbody tr th:only-of-type {\n",
       "        vertical-align: middle;\n",
       "    }\n",
       "\n",
       "    .dataframe tbody tr th {\n",
       "        vertical-align: top;\n",
       "    }\n",
       "\n",
       "    .dataframe thead th {\n",
       "        text-align: right;\n",
       "    }\n",
       "</style>\n",
       "<table border=\"1\" class=\"dataframe\">\n",
       "  <thead>\n",
       "    <tr style=\"text-align: right;\">\n",
       "      <th></th>\n",
       "      <th>position</th>\n",
       "      <th>aa</th>\n",
       "      <th>max_value</th>\n",
       "    </tr>\n",
       "  </thead>\n",
       "  <tbody>\n",
       "    <tr>\n",
       "      <th>0</th>\n",
       "      <td>1724</td>\n",
       "      <td>D</td>\n",
       "      <td>1.000000</td>\n",
       "    </tr>\n",
       "    <tr>\n",
       "      <th>1</th>\n",
       "      <td>1525</td>\n",
       "      <td>D</td>\n",
       "      <td>1.000000</td>\n",
       "    </tr>\n",
       "    <tr>\n",
       "      <th>2</th>\n",
       "      <td>1549</td>\n",
       "      <td>N</td>\n",
       "      <td>0.988121</td>\n",
       "    </tr>\n",
       "    <tr>\n",
       "      <th>3</th>\n",
       "      <td>1730</td>\n",
       "      <td>G</td>\n",
       "      <td>0.959135</td>\n",
       "    </tr>\n",
       "    <tr>\n",
       "      <th>4</th>\n",
       "      <td>2618</td>\n",
       "      <td>D</td>\n",
       "      <td>0.948919</td>\n",
       "    </tr>\n",
       "    <tr>\n",
       "      <th>...</th>\n",
       "      <td>...</td>\n",
       "      <td>...</td>\n",
       "      <td>...</td>\n",
       "    </tr>\n",
       "    <tr>\n",
       "      <th>3429</th>\n",
       "      <td>337</td>\n",
       "      <td>A</td>\n",
       "      <td>0.000000</td>\n",
       "    </tr>\n",
       "    <tr>\n",
       "      <th>3430</th>\n",
       "      <td>338</td>\n",
       "      <td>A</td>\n",
       "      <td>0.000000</td>\n",
       "    </tr>\n",
       "    <tr>\n",
       "      <th>3431</th>\n",
       "      <td>339</td>\n",
       "      <td>A</td>\n",
       "      <td>0.000000</td>\n",
       "    </tr>\n",
       "    <tr>\n",
       "      <th>3432</th>\n",
       "      <td>1899</td>\n",
       "      <td>A</td>\n",
       "      <td>0.000000</td>\n",
       "    </tr>\n",
       "    <tr>\n",
       "      <th>3433</th>\n",
       "      <td>1900</td>\n",
       "      <td>A</td>\n",
       "      <td>0.000000</td>\n",
       "    </tr>\n",
       "  </tbody>\n",
       "</table>\n",
       "<p>3434 rows × 3 columns</p>\n",
       "</div>"
      ],
      "text/plain": [
       "      position aa  max_value\n",
       "0         1724  D   1.000000\n",
       "1         1525  D   1.000000\n",
       "2         1549  N   0.988121\n",
       "3         1730  G   0.959135\n",
       "4         2618  D   0.948919\n",
       "...        ... ..        ...\n",
       "3429       337  A   0.000000\n",
       "3430       338  A   0.000000\n",
       "3431       339  A   0.000000\n",
       "3432      1899  A   0.000000\n",
       "3433      1900  A   0.000000\n",
       "\n",
       "[3434 rows x 3 columns]"
      ]
     },
     "execution_count": 14,
     "metadata": {},
     "output_type": "execute_result"
    }
   ],
   "source": [
    "freq_max"
   ]
  },
  {
   "cell_type": "code",
   "execution_count": 15,
   "id": "abc1060c-4666-44c3-a355-cbc13c7e8c4e",
   "metadata": {},
   "outputs": [],
   "source": [
    "onehot_col = freq_max[freq_max.max_value>0.05].position.sort_values().tolist()"
   ]
  },
  {
   "cell_type": "code",
   "execution_count": 16,
   "id": "273d822c-a04c-4cc1-8adf-a54993b76d6c",
   "metadata": {},
   "outputs": [
    {
     "data": {
      "text/plain": [
       "358"
      ]
     },
     "execution_count": 16,
     "metadata": {},
     "output_type": "execute_result"
    }
   ],
   "source": [
    "len(onehot_col)"
   ]
  },
  {
   "cell_type": "code",
   "execution_count": 17,
   "id": "abcd3501-d635-499f-b052-09fa4b19091b",
   "metadata": {},
   "outputs": [],
   "source": [
    "align = align[onehot_col]"
   ]
  },
  {
   "cell_type": "code",
   "execution_count": 18,
   "id": "2f5a17b5-84a4-40ee-b7a7-21471718bc07",
   "metadata": {},
   "outputs": [],
   "source": [
    "from sklearn.preprocessing import OneHotEncoder\n",
    "\n",
    "def get_onehot(df):\n",
    "    df=df.copy()\n",
    "    encoded_df = pd.DataFrame(index=df.index)\n",
    "    \n",
    "    encoder = OneHotEncoder(sparse_output=False, dtype=int, handle_unknown='ignore')\n",
    "    \n",
    "    for col in df.columns:\n",
    "        reshaped = df[[col]]  # keep as DataFrame\n",
    "        encoded = encoder.fit_transform(reshaped)\n",
    "        aa_labels = encoder.categories_[0]\n",
    "        new_col_names = [f\"{col}_{aa}\" for aa in aa_labels]\n",
    "        encoded_subdf = pd.DataFrame(encoded,index=df.index)\n",
    "        encoded_subdf.columns=new_col_names\n",
    "        encoded_df = pd.concat([encoded_df, encoded_subdf], axis=1)\n",
    "    return encoded_df"
   ]
  },
  {
   "cell_type": "code",
   "execution_count": 19,
   "id": "17717f22-8682-4624-a225-4a2bb4e1076d",
   "metadata": {},
   "outputs": [],
   "source": [
    "onehot=get_onehot(align)"
   ]
  },
  {
   "cell_type": "code",
   "execution_count": 20,
   "id": "5634c43e-1975-4ba7-b5a7-5afc764680ed",
   "metadata": {},
   "outputs": [
    {
     "data": {
      "text/html": [
       "<div>\n",
       "<style scoped>\n",
       "    .dataframe tbody tr th:only-of-type {\n",
       "        vertical-align: middle;\n",
       "    }\n",
       "\n",
       "    .dataframe tbody tr th {\n",
       "        vertical-align: top;\n",
       "    }\n",
       "\n",
       "    .dataframe thead th {\n",
       "        text-align: right;\n",
       "    }\n",
       "</style>\n",
       "<table border=\"1\" class=\"dataframe\">\n",
       "  <thead>\n",
       "    <tr style=\"text-align: right;\">\n",
       "      <th></th>\n",
       "      <th>65_-</th>\n",
       "      <th>65_A</th>\n",
       "      <th>65_C</th>\n",
       "      <th>65_D</th>\n",
       "      <th>65_E</th>\n",
       "      <th>65_F</th>\n",
       "      <th>65_G</th>\n",
       "      <th>65_H</th>\n",
       "      <th>65_I</th>\n",
       "      <th>65_K</th>\n",
       "      <th>...</th>\n",
       "      <th>3192_M</th>\n",
       "      <th>3192_N</th>\n",
       "      <th>3192_P</th>\n",
       "      <th>3192_Q</th>\n",
       "      <th>3192_R</th>\n",
       "      <th>3192_S</th>\n",
       "      <th>3192_T</th>\n",
       "      <th>3192_V</th>\n",
       "      <th>3192_W</th>\n",
       "      <th>3192_Y</th>\n",
       "    </tr>\n",
       "  </thead>\n",
       "  <tbody>\n",
       "    <tr>\n",
       "      <th>A0A075F7E9_LERK1_ORYSI_KD1</th>\n",
       "      <td>1</td>\n",
       "      <td>0</td>\n",
       "      <td>0</td>\n",
       "      <td>0</td>\n",
       "      <td>0</td>\n",
       "      <td>0</td>\n",
       "      <td>0</td>\n",
       "      <td>0</td>\n",
       "      <td>0</td>\n",
       "      <td>0</td>\n",
       "      <td>...</td>\n",
       "      <td>0</td>\n",
       "      <td>0</td>\n",
       "      <td>0</td>\n",
       "      <td>0</td>\n",
       "      <td>0</td>\n",
       "      <td>0</td>\n",
       "      <td>0</td>\n",
       "      <td>0</td>\n",
       "      <td>0</td>\n",
       "      <td>0</td>\n",
       "    </tr>\n",
       "    <tr>\n",
       "      <th>A0A078CGE6_M3KE1_BRANA_KD1</th>\n",
       "      <td>1</td>\n",
       "      <td>0</td>\n",
       "      <td>0</td>\n",
       "      <td>0</td>\n",
       "      <td>0</td>\n",
       "      <td>0</td>\n",
       "      <td>0</td>\n",
       "      <td>0</td>\n",
       "      <td>0</td>\n",
       "      <td>0</td>\n",
       "      <td>...</td>\n",
       "      <td>0</td>\n",
       "      <td>0</td>\n",
       "      <td>0</td>\n",
       "      <td>0</td>\n",
       "      <td>0</td>\n",
       "      <td>0</td>\n",
       "      <td>0</td>\n",
       "      <td>0</td>\n",
       "      <td>0</td>\n",
       "      <td>0</td>\n",
       "    </tr>\n",
       "    <tr>\n",
       "      <th>A0A0K3AV08_MLK1_CAEEL_KD1</th>\n",
       "      <td>0</td>\n",
       "      <td>0</td>\n",
       "      <td>0</td>\n",
       "      <td>0</td>\n",
       "      <td>0</td>\n",
       "      <td>0</td>\n",
       "      <td>0</td>\n",
       "      <td>0</td>\n",
       "      <td>0</td>\n",
       "      <td>0</td>\n",
       "      <td>...</td>\n",
       "      <td>0</td>\n",
       "      <td>0</td>\n",
       "      <td>0</td>\n",
       "      <td>0</td>\n",
       "      <td>0</td>\n",
       "      <td>0</td>\n",
       "      <td>0</td>\n",
       "      <td>0</td>\n",
       "      <td>0</td>\n",
       "      <td>0</td>\n",
       "    </tr>\n",
       "    <tr>\n",
       "      <th>A0A0P0VIP0_LRSK7_ORYSJ_KD1</th>\n",
       "      <td>1</td>\n",
       "      <td>0</td>\n",
       "      <td>0</td>\n",
       "      <td>0</td>\n",
       "      <td>0</td>\n",
       "      <td>0</td>\n",
       "      <td>0</td>\n",
       "      <td>0</td>\n",
       "      <td>0</td>\n",
       "      <td>0</td>\n",
       "      <td>...</td>\n",
       "      <td>0</td>\n",
       "      <td>0</td>\n",
       "      <td>0</td>\n",
       "      <td>0</td>\n",
       "      <td>0</td>\n",
       "      <td>0</td>\n",
       "      <td>0</td>\n",
       "      <td>0</td>\n",
       "      <td>0</td>\n",
       "      <td>0</td>\n",
       "    </tr>\n",
       "    <tr>\n",
       "      <th>A0A0P0XII1_CERK1_ORYSJ_KD1</th>\n",
       "      <td>1</td>\n",
       "      <td>0</td>\n",
       "      <td>0</td>\n",
       "      <td>0</td>\n",
       "      <td>0</td>\n",
       "      <td>0</td>\n",
       "      <td>0</td>\n",
       "      <td>0</td>\n",
       "      <td>0</td>\n",
       "      <td>0</td>\n",
       "      <td>...</td>\n",
       "      <td>0</td>\n",
       "      <td>0</td>\n",
       "      <td>0</td>\n",
       "      <td>0</td>\n",
       "      <td>0</td>\n",
       "      <td>0</td>\n",
       "      <td>0</td>\n",
       "      <td>0</td>\n",
       "      <td>0</td>\n",
       "      <td>0</td>\n",
       "    </tr>\n",
       "  </tbody>\n",
       "</table>\n",
       "<p>5 rows × 6849 columns</p>\n",
       "</div>"
      ],
      "text/plain": [
       "                            65_-  65_A  65_C  65_D  65_E  65_F  65_G  65_H  \\\n",
       "A0A075F7E9_LERK1_ORYSI_KD1     1     0     0     0     0     0     0     0   \n",
       "A0A078CGE6_M3KE1_BRANA_KD1     1     0     0     0     0     0     0     0   \n",
       "A0A0K3AV08_MLK1_CAEEL_KD1      0     0     0     0     0     0     0     0   \n",
       "A0A0P0VIP0_LRSK7_ORYSJ_KD1     1     0     0     0     0     0     0     0   \n",
       "A0A0P0XII1_CERK1_ORYSJ_KD1     1     0     0     0     0     0     0     0   \n",
       "\n",
       "                            65_I  65_K  ...  3192_M  3192_N  3192_P  3192_Q  \\\n",
       "A0A075F7E9_LERK1_ORYSI_KD1     0     0  ...       0       0       0       0   \n",
       "A0A078CGE6_M3KE1_BRANA_KD1     0     0  ...       0       0       0       0   \n",
       "A0A0K3AV08_MLK1_CAEEL_KD1      0     0  ...       0       0       0       0   \n",
       "A0A0P0VIP0_LRSK7_ORYSJ_KD1     0     0  ...       0       0       0       0   \n",
       "A0A0P0XII1_CERK1_ORYSJ_KD1     0     0  ...       0       0       0       0   \n",
       "\n",
       "                            3192_R  3192_S  3192_T  3192_V  3192_W  3192_Y  \n",
       "A0A075F7E9_LERK1_ORYSI_KD1       0       0       0       0       0       0  \n",
       "A0A078CGE6_M3KE1_BRANA_KD1       0       0       0       0       0       0  \n",
       "A0A0K3AV08_MLK1_CAEEL_KD1        0       0       0       0       0       0  \n",
       "A0A0P0VIP0_LRSK7_ORYSJ_KD1       0       0       0       0       0       0  \n",
       "A0A0P0XII1_CERK1_ORYSJ_KD1       0       0       0       0       0       0  \n",
       "\n",
       "[5 rows x 6849 columns]"
      ]
     },
     "execution_count": 20,
     "metadata": {},
     "output_type": "execute_result"
    }
   ],
   "source": [
    "onehot.head()"
   ]
  },
  {
   "cell_type": "code",
   "execution_count": 21,
   "id": "05ed57fc-63c6-44ec-b761-1b39eada6b65",
   "metadata": {},
   "outputs": [
    {
     "data": {
      "text/plain": [
       "(4209, 6849)"
      ]
     },
     "execution_count": 21,
     "metadata": {},
     "output_type": "execute_result"
    }
   ],
   "source": [
    "onehot.shape"
   ]
  },
  {
   "cell_type": "markdown",
   "id": "30fb0586-f945-40b6-b871-157bb3318bd9",
   "metadata": {},
   "source": [
    "It contains the active kd_ID"
   ]
  },
  {
   "cell_type": "code",
   "execution_count": 22,
   "id": "2086f64d-f29f-4e3b-af99-00a5ed7a15a5",
   "metadata": {},
   "outputs": [],
   "source": [
    "onehot.to_parquet('raw/onehot_kd.parquet')"
   ]
  },
  {
   "cell_type": "markdown",
   "id": "2821109c-80c6-4860-aa0b-5ed9138d474f",
   "metadata": {},
   "source": [
    "## Onehot + PCA"
   ]
  },
  {
   "cell_type": "markdown",
   "id": "f63b38ba-5ee7-4d2e-83d2-5ebbb030b863",
   "metadata": {},
   "source": [
    "Since onehot gives 6849 columns, we can PCA reduce the column number.\n",
    "\n",
    "We chose 1000 as t5 and esm have a range of 1000 features."
   ]
  },
  {
   "cell_type": "code",
   "execution_count": 78,
   "id": "cc605f0b-0c38-4068-93dc-9939838b0308",
   "metadata": {},
   "outputs": [],
   "source": [
    "onehot_pca = reduce_feature(onehot,n=1000)"
   ]
  },
  {
   "cell_type": "code",
   "execution_count": 81,
   "id": "307206fa-0dd4-4eb3-ba09-3a664d816c4d",
   "metadata": {},
   "outputs": [],
   "source": [
    "onehot_pca.to_parquet('raw/onehot_pca_kd.parquet')"
   ]
  },
  {
   "cell_type": "markdown",
   "id": "5d24a562-74ef-4039-954c-7fa42e652972",
   "metadata": {},
   "source": [
    "## T5 embeddings"
   ]
  },
  {
   "cell_type": "code",
   "execution_count": 20,
   "id": "729471bc-79c7-4485-b488-8e343f492845",
   "metadata": {},
   "outputs": [
    {
     "name": "stderr",
     "output_type": "stream",
     "text": [
      "You are using the default legacy behaviour of the <class 'transformers.models.t5.tokenization_t5.T5Tokenizer'>. This is expected, and simply means that the `legacy` (previous) behavior will be used so nothing changes for you. If you want to use the new behaviour, set `legacy=False`. This should only be set if you understand what it means, and thoroughly read the reason why this was added as explained in https://github.com/huggingface/transformers/pull/24565\n"
     ]
    },
    {
     "data": {
      "application/vnd.jupyter.widget-view+json": {
       "model_id": "68d2a9e095684d3e8e6b71c62e1adac2",
       "version_major": 2,
       "version_minor": 0
      },
      "text/plain": [
       "model.safetensors:   0%|          | 0.00/2.42G [00:00<?, ?B/s]"
      ]
     },
     "metadata": {},
     "output_type": "display_data"
    },
    {
     "data": {
      "application/vnd.jupyter.widget-view+json": {
       "model_id": "51b74ee823b94507aacd2c475bd124ac",
       "version_major": 2,
       "version_minor": 0
      },
      "text/plain": [
       "  0%|          | 0/4209 [00:00<?, ?it/s]"
      ]
     },
     "metadata": {},
     "output_type": "display_data"
    }
   ],
   "source": [
    "feat_t5 = get_t5(df,'kd_seq')"
   ]
  },
  {
   "cell_type": "code",
   "execution_count": 23,
   "id": "81afae70-b056-47fe-b530-b2dab478310f",
   "metadata": {},
   "outputs": [],
   "source": [
    "feat_t5.index=df.kd_ID"
   ]
  },
  {
   "cell_type": "code",
   "execution_count": 25,
   "id": "48fca318-37bd-42af-bb85-b13b1d120f02",
   "metadata": {},
   "outputs": [
    {
     "name": "stderr",
     "output_type": "stream",
     "text": [
      "/home/sky1ove/git/KATLAS/katlas/.venv/lib/python3.12/site-packages/pandas/io/formats/format.py:1458: RuntimeWarning: overflow encountered in cast\n",
      "  has_large_values = (abs_vals > 1e6).any()\n",
      "/home/sky1ove/git/KATLAS/katlas/.venv/lib/python3.12/site-packages/pandas/io/formats/format.py:1458: RuntimeWarning: overflow encountered in cast\n",
      "  has_large_values = (abs_vals > 1e6).any()\n"
     ]
    },
    {
     "data": {
      "text/html": [
       "<div>\n",
       "<style scoped>\n",
       "    .dataframe tbody tr th:only-of-type {\n",
       "        vertical-align: middle;\n",
       "    }\n",
       "\n",
       "    .dataframe tbody tr th {\n",
       "        vertical-align: top;\n",
       "    }\n",
       "\n",
       "    .dataframe thead th {\n",
       "        text-align: right;\n",
       "    }\n",
       "</style>\n",
       "<table border=\"1\" class=\"dataframe\">\n",
       "  <thead>\n",
       "    <tr style=\"text-align: right;\">\n",
       "      <th></th>\n",
       "      <th>T5_0</th>\n",
       "      <th>T5_1</th>\n",
       "      <th>T5_2</th>\n",
       "      <th>T5_3</th>\n",
       "      <th>T5_4</th>\n",
       "      <th>T5_5</th>\n",
       "      <th>T5_6</th>\n",
       "      <th>T5_7</th>\n",
       "      <th>T5_8</th>\n",
       "      <th>T5_9</th>\n",
       "      <th>...</th>\n",
       "      <th>T5_1014</th>\n",
       "      <th>T5_1015</th>\n",
       "      <th>T5_1016</th>\n",
       "      <th>T5_1017</th>\n",
       "      <th>T5_1018</th>\n",
       "      <th>T5_1019</th>\n",
       "      <th>T5_1020</th>\n",
       "      <th>T5_1021</th>\n",
       "      <th>T5_1022</th>\n",
       "      <th>T5_1023</th>\n",
       "    </tr>\n",
       "    <tr>\n",
       "      <th>kd_ID</th>\n",
       "      <th></th>\n",
       "      <th></th>\n",
       "      <th></th>\n",
       "      <th></th>\n",
       "      <th></th>\n",
       "      <th></th>\n",
       "      <th></th>\n",
       "      <th></th>\n",
       "      <th></th>\n",
       "      <th></th>\n",
       "      <th></th>\n",
       "      <th></th>\n",
       "      <th></th>\n",
       "      <th></th>\n",
       "      <th></th>\n",
       "      <th></th>\n",
       "      <th></th>\n",
       "      <th></th>\n",
       "      <th></th>\n",
       "      <th></th>\n",
       "      <th></th>\n",
       "    </tr>\n",
       "  </thead>\n",
       "  <tbody>\n",
       "    <tr>\n",
       "      <th>A0A075F7E9_LERK1_ORYSI_KD1</th>\n",
       "      <td>0.014122</td>\n",
       "      <td>0.068848</td>\n",
       "      <td>0.016113</td>\n",
       "      <td>-0.001555</td>\n",
       "      <td>-0.001301</td>\n",
       "      <td>0.021393</td>\n",
       "      <td>0.030304</td>\n",
       "      <td>-0.062408</td>\n",
       "      <td>0.028427</td>\n",
       "      <td>-0.017532</td>\n",
       "      <td>...</td>\n",
       "      <td>-0.029297</td>\n",
       "      <td>0.014900</td>\n",
       "      <td>-0.006233</td>\n",
       "      <td>-0.069824</td>\n",
       "      <td>0.044067</td>\n",
       "      <td>-0.009636</td>\n",
       "      <td>-0.007458</td>\n",
       "      <td>0.021240</td>\n",
       "      <td>0.005264</td>\n",
       "      <td>-0.034637</td>\n",
       "    </tr>\n",
       "    <tr>\n",
       "      <th>A0A078CGE6_M3KE1_BRANA_KD1</th>\n",
       "      <td>0.054565</td>\n",
       "      <td>0.093811</td>\n",
       "      <td>-0.007420</td>\n",
       "      <td>0.018890</td>\n",
       "      <td>-0.042236</td>\n",
       "      <td>-0.005402</td>\n",
       "      <td>-0.004921</td>\n",
       "      <td>-0.046844</td>\n",
       "      <td>-0.013443</td>\n",
       "      <td>-0.019501</td>\n",
       "      <td>...</td>\n",
       "      <td>-0.016037</td>\n",
       "      <td>0.000758</td>\n",
       "      <td>-0.038391</td>\n",
       "      <td>-0.041321</td>\n",
       "      <td>0.069580</td>\n",
       "      <td>-0.022415</td>\n",
       "      <td>-0.026306</td>\n",
       "      <td>-0.001375</td>\n",
       "      <td>0.006599</td>\n",
       "      <td>-0.034485</td>\n",
       "    </tr>\n",
       "    <tr>\n",
       "      <th>A0A0K3AV08_MLK1_CAEEL_KD1</th>\n",
       "      <td>0.014870</td>\n",
       "      <td>-0.008934</td>\n",
       "      <td>0.000822</td>\n",
       "      <td>0.001986</td>\n",
       "      <td>-0.035767</td>\n",
       "      <td>0.023880</td>\n",
       "      <td>-0.012856</td>\n",
       "      <td>-0.056274</td>\n",
       "      <td>-0.004978</td>\n",
       "      <td>-0.001923</td>\n",
       "      <td>...</td>\n",
       "      <td>-0.032349</td>\n",
       "      <td>-0.057129</td>\n",
       "      <td>-0.005463</td>\n",
       "      <td>-0.107910</td>\n",
       "      <td>0.020889</td>\n",
       "      <td>-0.009666</td>\n",
       "      <td>-0.022614</td>\n",
       "      <td>-0.019882</td>\n",
       "      <td>0.040466</td>\n",
       "      <td>-0.021912</td>\n",
       "    </tr>\n",
       "    <tr>\n",
       "      <th>A0A0P0VIP0_LRSK7_ORYSJ_KD1</th>\n",
       "      <td>-0.008522</td>\n",
       "      <td>0.062134</td>\n",
       "      <td>-0.014053</td>\n",
       "      <td>-0.027054</td>\n",
       "      <td>-0.025665</td>\n",
       "      <td>0.014648</td>\n",
       "      <td>0.015022</td>\n",
       "      <td>-0.045959</td>\n",
       "      <td>0.023544</td>\n",
       "      <td>-0.036133</td>\n",
       "      <td>...</td>\n",
       "      <td>0.037994</td>\n",
       "      <td>-0.022903</td>\n",
       "      <td>0.046082</td>\n",
       "      <td>-0.082703</td>\n",
       "      <td>0.000940</td>\n",
       "      <td>-0.009811</td>\n",
       "      <td>0.008896</td>\n",
       "      <td>0.014931</td>\n",
       "      <td>0.028061</td>\n",
       "      <td>-0.037994</td>\n",
       "    </tr>\n",
       "    <tr>\n",
       "      <th>A0A0P0XII1_CERK1_ORYSJ_KD1</th>\n",
       "      <td>0.029053</td>\n",
       "      <td>0.076050</td>\n",
       "      <td>0.014656</td>\n",
       "      <td>0.015732</td>\n",
       "      <td>-0.006050</td>\n",
       "      <td>0.019882</td>\n",
       "      <td>-0.003336</td>\n",
       "      <td>-0.041016</td>\n",
       "      <td>0.060211</td>\n",
       "      <td>-0.014572</td>\n",
       "      <td>...</td>\n",
       "      <td>0.014740</td>\n",
       "      <td>0.019989</td>\n",
       "      <td>0.011230</td>\n",
       "      <td>-0.040222</td>\n",
       "      <td>0.044403</td>\n",
       "      <td>-0.001749</td>\n",
       "      <td>-0.013168</td>\n",
       "      <td>0.018524</td>\n",
       "      <td>-0.018280</td>\n",
       "      <td>-0.034912</td>\n",
       "    </tr>\n",
       "  </tbody>\n",
       "</table>\n",
       "<p>5 rows × 1024 columns</p>\n",
       "</div>"
      ],
      "text/plain": [
       "                                T5_0      T5_1      T5_2      T5_3      T5_4  \\\n",
       "kd_ID                                                                          \n",
       "A0A075F7E9_LERK1_ORYSI_KD1  0.014122  0.068848  0.016113 -0.001555 -0.001301   \n",
       "A0A078CGE6_M3KE1_BRANA_KD1  0.054565  0.093811 -0.007420  0.018890 -0.042236   \n",
       "A0A0K3AV08_MLK1_CAEEL_KD1   0.014870 -0.008934  0.000822  0.001986 -0.035767   \n",
       "A0A0P0VIP0_LRSK7_ORYSJ_KD1 -0.008522  0.062134 -0.014053 -0.027054 -0.025665   \n",
       "A0A0P0XII1_CERK1_ORYSJ_KD1  0.029053  0.076050  0.014656  0.015732 -0.006050   \n",
       "\n",
       "                                T5_5      T5_6      T5_7      T5_8      T5_9  \\\n",
       "kd_ID                                                                          \n",
       "A0A075F7E9_LERK1_ORYSI_KD1  0.021393  0.030304 -0.062408  0.028427 -0.017532   \n",
       "A0A078CGE6_M3KE1_BRANA_KD1 -0.005402 -0.004921 -0.046844 -0.013443 -0.019501   \n",
       "A0A0K3AV08_MLK1_CAEEL_KD1   0.023880 -0.012856 -0.056274 -0.004978 -0.001923   \n",
       "A0A0P0VIP0_LRSK7_ORYSJ_KD1  0.014648  0.015022 -0.045959  0.023544 -0.036133   \n",
       "A0A0P0XII1_CERK1_ORYSJ_KD1  0.019882 -0.003336 -0.041016  0.060211 -0.014572   \n",
       "\n",
       "                            ...   T5_1014   T5_1015   T5_1016   T5_1017  \\\n",
       "kd_ID                       ...                                           \n",
       "A0A075F7E9_LERK1_ORYSI_KD1  ... -0.029297  0.014900 -0.006233 -0.069824   \n",
       "A0A078CGE6_M3KE1_BRANA_KD1  ... -0.016037  0.000758 -0.038391 -0.041321   \n",
       "A0A0K3AV08_MLK1_CAEEL_KD1   ... -0.032349 -0.057129 -0.005463 -0.107910   \n",
       "A0A0P0VIP0_LRSK7_ORYSJ_KD1  ...  0.037994 -0.022903  0.046082 -0.082703   \n",
       "A0A0P0XII1_CERK1_ORYSJ_KD1  ...  0.014740  0.019989  0.011230 -0.040222   \n",
       "\n",
       "                             T5_1018   T5_1019   T5_1020   T5_1021   T5_1022  \\\n",
       "kd_ID                                                                          \n",
       "A0A075F7E9_LERK1_ORYSI_KD1  0.044067 -0.009636 -0.007458  0.021240  0.005264   \n",
       "A0A078CGE6_M3KE1_BRANA_KD1  0.069580 -0.022415 -0.026306 -0.001375  0.006599   \n",
       "A0A0K3AV08_MLK1_CAEEL_KD1   0.020889 -0.009666 -0.022614 -0.019882  0.040466   \n",
       "A0A0P0VIP0_LRSK7_ORYSJ_KD1  0.000940 -0.009811  0.008896  0.014931  0.028061   \n",
       "A0A0P0XII1_CERK1_ORYSJ_KD1  0.044403 -0.001749 -0.013168  0.018524 -0.018280   \n",
       "\n",
       "                             T5_1023  \n",
       "kd_ID                                 \n",
       "A0A075F7E9_LERK1_ORYSI_KD1 -0.034637  \n",
       "A0A078CGE6_M3KE1_BRANA_KD1 -0.034485  \n",
       "A0A0K3AV08_MLK1_CAEEL_KD1  -0.021912  \n",
       "A0A0P0VIP0_LRSK7_ORYSJ_KD1 -0.037994  \n",
       "A0A0P0XII1_CERK1_ORYSJ_KD1 -0.034912  \n",
       "\n",
       "[5 rows x 1024 columns]"
      ]
     },
     "execution_count": 25,
     "metadata": {},
     "output_type": "execute_result"
    }
   ],
   "source": [
    "feat_t5.head()"
   ]
  },
  {
   "cell_type": "code",
   "execution_count": 27,
   "id": "5bd9c29a-500a-4eaa-8f3c-31fd3ea427b2",
   "metadata": {},
   "outputs": [],
   "source": [
    "# feat_t5.to_parquet('raw/t5_kd.parquet')"
   ]
  },
  {
   "cell_type": "markdown",
   "id": "94d5ee54-5393-48b5-bd86-4aa129af7279",
   "metadata": {},
   "source": [
    "## ESM2 embeddings"
   ]
  },
  {
   "cell_type": "code",
   "execution_count": null,
   "id": "4bb18352-c07b-4364-b6a3-b1f69ce98413",
   "metadata": {},
   "outputs": [],
   "source": [
    "get_esm"
   ]
  },
  {
   "cell_type": "code",
   "execution_count": 7,
   "id": "6034cb82-a800-4578-9679-7a618990edaa",
   "metadata": {},
   "outputs": [
    {
     "name": "stdout",
     "output_type": "stream",
     "text": [
      "repr_layers number for model esm2_t33_650M_UR50D is 33.\n",
      "You can also choose other esm2 models: \n",
      "esm2_t48_15B_UR50D\n",
      "esm2_t36_3B_UR50D\n",
      "esm2_t33_650M_UR50D\n",
      "esm2_t30_150M_UR50D\n",
      "esm2_t12_35M_UR50D\n",
      "esm2_t6_8M_UR50D\n",
      "\n"
     ]
    },
    {
     "data": {
      "application/vnd.jupyter.widget-view+json": {
       "model_id": "619b4598ca644c399be1e59bc04f1f5e",
       "version_major": 2,
       "version_minor": 0
      },
      "text/plain": [
       "  0%|          | 0/4209 [00:00<?, ?it/s]"
      ]
     },
     "metadata": {},
     "output_type": "display_data"
    },
    {
     "name": "stderr",
     "output_type": "stream",
     "text": [
      "/home/sky1ove/git/KATLAS/katlas/.venv/lib/python3.12/site-packages/logomaker/../fairscale/nn/data_parallel/fully_sharded_data_parallel.py:2562: UserWarning: TypedStorage is deprecated. It will be removed in the future and UntypedStorage will be the only storage class. This should only matter to you if you are using storages directly.  To access UntypedStorage directly, use tensor.untyped_storage() instead of tensor.storage()\n",
      "  if data.storage().size() > 0:\n"
     ]
    }
   ],
   "source": [
    "feat_esm = get_esm(df,'kd_seq')"
   ]
  },
  {
   "cell_type": "code",
   "execution_count": 8,
   "id": "ccd641de-5efd-48f4-8a8c-e2c86d30c027",
   "metadata": {},
   "outputs": [],
   "source": [
    "feat_esm.index=df.kd_ID"
   ]
  },
  {
   "cell_type": "code",
   "execution_count": 9,
   "id": "b5fccee7-705c-4767-9b32-7f092fb3ea33",
   "metadata": {},
   "outputs": [],
   "source": [
    "feat_esm.to_parquet('raw/esm_kd.parquet')"
   ]
  },
  {
   "cell_type": "code",
   "execution_count": 10,
   "id": "0b57f6f0-dcab-4301-a34b-802bf1506c4a",
   "metadata": {},
   "outputs": [
    {
     "name": "stderr",
     "output_type": "stream",
     "text": [
      "/home/sky1ove/git/KATLAS/katlas/.venv/lib/python3.12/site-packages/pandas/io/formats/format.py:1458: RuntimeWarning: overflow encountered in cast\n",
      "  has_large_values = (abs_vals > 1e6).any()\n",
      "/home/sky1ove/git/KATLAS/katlas/.venv/lib/python3.12/site-packages/pandas/io/formats/format.py:1458: RuntimeWarning: overflow encountered in cast\n",
      "  has_large_values = (abs_vals > 1e6).any()\n"
     ]
    },
    {
     "data": {
      "text/html": [
       "<div>\n",
       "<style scoped>\n",
       "    .dataframe tbody tr th:only-of-type {\n",
       "        vertical-align: middle;\n",
       "    }\n",
       "\n",
       "    .dataframe tbody tr th {\n",
       "        vertical-align: top;\n",
       "    }\n",
       "\n",
       "    .dataframe thead th {\n",
       "        text-align: right;\n",
       "    }\n",
       "</style>\n",
       "<table border=\"1\" class=\"dataframe\">\n",
       "  <thead>\n",
       "    <tr style=\"text-align: right;\">\n",
       "      <th></th>\n",
       "      <th>esm_0</th>\n",
       "      <th>esm_1</th>\n",
       "      <th>esm_2</th>\n",
       "      <th>esm_3</th>\n",
       "      <th>esm_4</th>\n",
       "      <th>esm_5</th>\n",
       "      <th>esm_6</th>\n",
       "      <th>esm_7</th>\n",
       "      <th>esm_8</th>\n",
       "      <th>esm_9</th>\n",
       "      <th>...</th>\n",
       "      <th>esm_1270</th>\n",
       "      <th>esm_1271</th>\n",
       "      <th>esm_1272</th>\n",
       "      <th>esm_1273</th>\n",
       "      <th>esm_1274</th>\n",
       "      <th>esm_1275</th>\n",
       "      <th>esm_1276</th>\n",
       "      <th>esm_1277</th>\n",
       "      <th>esm_1278</th>\n",
       "      <th>esm_1279</th>\n",
       "    </tr>\n",
       "    <tr>\n",
       "      <th>kd_ID</th>\n",
       "      <th></th>\n",
       "      <th></th>\n",
       "      <th></th>\n",
       "      <th></th>\n",
       "      <th></th>\n",
       "      <th></th>\n",
       "      <th></th>\n",
       "      <th></th>\n",
       "      <th></th>\n",
       "      <th></th>\n",
       "      <th></th>\n",
       "      <th></th>\n",
       "      <th></th>\n",
       "      <th></th>\n",
       "      <th></th>\n",
       "      <th></th>\n",
       "      <th></th>\n",
       "      <th></th>\n",
       "      <th></th>\n",
       "      <th></th>\n",
       "      <th></th>\n",
       "    </tr>\n",
       "  </thead>\n",
       "  <tbody>\n",
       "    <tr>\n",
       "      <th>A0A075F7E9_LERK1_ORYSI_KD1</th>\n",
       "      <td>-0.014076</td>\n",
       "      <td>-0.047668</td>\n",
       "      <td>-0.030716</td>\n",
       "      <td>-0.045868</td>\n",
       "      <td>-0.062622</td>\n",
       "      <td>-0.116272</td>\n",
       "      <td>-0.007904</td>\n",
       "      <td>0.056915</td>\n",
       "      <td>0.010590</td>\n",
       "      <td>0.020737</td>\n",
       "      <td>...</td>\n",
       "      <td>0.020691</td>\n",
       "      <td>-0.012749</td>\n",
       "      <td>-0.077209</td>\n",
       "      <td>0.087402</td>\n",
       "      <td>0.007301</td>\n",
       "      <td>-0.010765</td>\n",
       "      <td>0.094604</td>\n",
       "      <td>-0.053802</td>\n",
       "      <td>0.049164</td>\n",
       "      <td>0.014648</td>\n",
       "    </tr>\n",
       "    <tr>\n",
       "      <th>A0A078CGE6_M3KE1_BRANA_KD1</th>\n",
       "      <td>0.012405</td>\n",
       "      <td>-0.039764</td>\n",
       "      <td>-0.004433</td>\n",
       "      <td>-0.019089</td>\n",
       "      <td>-0.064331</td>\n",
       "      <td>-0.048035</td>\n",
       "      <td>0.120789</td>\n",
       "      <td>-0.026199</td>\n",
       "      <td>-0.058777</td>\n",
       "      <td>0.143188</td>\n",
       "      <td>...</td>\n",
       "      <td>0.082520</td>\n",
       "      <td>-0.046143</td>\n",
       "      <td>-0.080872</td>\n",
       "      <td>0.077515</td>\n",
       "      <td>0.004078</td>\n",
       "      <td>-0.046143</td>\n",
       "      <td>0.029099</td>\n",
       "      <td>-0.214355</td>\n",
       "      <td>0.070923</td>\n",
       "      <td>0.146851</td>\n",
       "    </tr>\n",
       "    <tr>\n",
       "      <th>A0A0K3AV08_MLK1_CAEEL_KD1</th>\n",
       "      <td>0.047180</td>\n",
       "      <td>-0.048553</td>\n",
       "      <td>0.022888</td>\n",
       "      <td>0.006191</td>\n",
       "      <td>-0.028015</td>\n",
       "      <td>-0.094177</td>\n",
       "      <td>0.104492</td>\n",
       "      <td>-0.006901</td>\n",
       "      <td>0.016891</td>\n",
       "      <td>0.066223</td>\n",
       "      <td>...</td>\n",
       "      <td>0.023575</td>\n",
       "      <td>-0.010071</td>\n",
       "      <td>-0.090149</td>\n",
       "      <td>0.075684</td>\n",
       "      <td>0.022385</td>\n",
       "      <td>-0.044006</td>\n",
       "      <td>0.071838</td>\n",
       "      <td>-0.078369</td>\n",
       "      <td>0.013710</td>\n",
       "      <td>0.071838</td>\n",
       "    </tr>\n",
       "    <tr>\n",
       "      <th>A0A0P0VIP0_LRSK7_ORYSJ_KD1</th>\n",
       "      <td>-0.086121</td>\n",
       "      <td>-0.039001</td>\n",
       "      <td>-0.012978</td>\n",
       "      <td>-0.087524</td>\n",
       "      <td>-0.117981</td>\n",
       "      <td>-0.046600</td>\n",
       "      <td>-0.037628</td>\n",
       "      <td>0.059875</td>\n",
       "      <td>0.037323</td>\n",
       "      <td>0.087708</td>\n",
       "      <td>...</td>\n",
       "      <td>-0.061615</td>\n",
       "      <td>-0.025787</td>\n",
       "      <td>-0.085449</td>\n",
       "      <td>0.133667</td>\n",
       "      <td>0.016953</td>\n",
       "      <td>-0.106079</td>\n",
       "      <td>0.025635</td>\n",
       "      <td>-0.045868</td>\n",
       "      <td>0.080750</td>\n",
       "      <td>0.021927</td>\n",
       "    </tr>\n",
       "    <tr>\n",
       "      <th>A0A0P0XII1_CERK1_ORYSJ_KD1</th>\n",
       "      <td>0.004047</td>\n",
       "      <td>-0.067383</td>\n",
       "      <td>-0.022156</td>\n",
       "      <td>-0.011215</td>\n",
       "      <td>-0.110840</td>\n",
       "      <td>-0.077637</td>\n",
       "      <td>0.012314</td>\n",
       "      <td>0.012299</td>\n",
       "      <td>-0.011688</td>\n",
       "      <td>0.047485</td>\n",
       "      <td>...</td>\n",
       "      <td>0.056519</td>\n",
       "      <td>-0.023270</td>\n",
       "      <td>-0.094849</td>\n",
       "      <td>0.101746</td>\n",
       "      <td>-0.033417</td>\n",
       "      <td>-0.050415</td>\n",
       "      <td>0.054749</td>\n",
       "      <td>-0.071594</td>\n",
       "      <td>0.046631</td>\n",
       "      <td>0.021667</td>\n",
       "    </tr>\n",
       "  </tbody>\n",
       "</table>\n",
       "<p>5 rows × 1280 columns</p>\n",
       "</div>"
      ],
      "text/plain": [
       "                               esm_0     esm_1     esm_2     esm_3     esm_4  \\\n",
       "kd_ID                                                                          \n",
       "A0A075F7E9_LERK1_ORYSI_KD1 -0.014076 -0.047668 -0.030716 -0.045868 -0.062622   \n",
       "A0A078CGE6_M3KE1_BRANA_KD1  0.012405 -0.039764 -0.004433 -0.019089 -0.064331   \n",
       "A0A0K3AV08_MLK1_CAEEL_KD1   0.047180 -0.048553  0.022888  0.006191 -0.028015   \n",
       "A0A0P0VIP0_LRSK7_ORYSJ_KD1 -0.086121 -0.039001 -0.012978 -0.087524 -0.117981   \n",
       "A0A0P0XII1_CERK1_ORYSJ_KD1  0.004047 -0.067383 -0.022156 -0.011215 -0.110840   \n",
       "\n",
       "                               esm_5     esm_6     esm_7     esm_8     esm_9  \\\n",
       "kd_ID                                                                          \n",
       "A0A075F7E9_LERK1_ORYSI_KD1 -0.116272 -0.007904  0.056915  0.010590  0.020737   \n",
       "A0A078CGE6_M3KE1_BRANA_KD1 -0.048035  0.120789 -0.026199 -0.058777  0.143188   \n",
       "A0A0K3AV08_MLK1_CAEEL_KD1  -0.094177  0.104492 -0.006901  0.016891  0.066223   \n",
       "A0A0P0VIP0_LRSK7_ORYSJ_KD1 -0.046600 -0.037628  0.059875  0.037323  0.087708   \n",
       "A0A0P0XII1_CERK1_ORYSJ_KD1 -0.077637  0.012314  0.012299 -0.011688  0.047485   \n",
       "\n",
       "                            ...  esm_1270  esm_1271  esm_1272  esm_1273  \\\n",
       "kd_ID                       ...                                           \n",
       "A0A075F7E9_LERK1_ORYSI_KD1  ...  0.020691 -0.012749 -0.077209  0.087402   \n",
       "A0A078CGE6_M3KE1_BRANA_KD1  ...  0.082520 -0.046143 -0.080872  0.077515   \n",
       "A0A0K3AV08_MLK1_CAEEL_KD1   ...  0.023575 -0.010071 -0.090149  0.075684   \n",
       "A0A0P0VIP0_LRSK7_ORYSJ_KD1  ... -0.061615 -0.025787 -0.085449  0.133667   \n",
       "A0A0P0XII1_CERK1_ORYSJ_KD1  ...  0.056519 -0.023270 -0.094849  0.101746   \n",
       "\n",
       "                            esm_1274  esm_1275  esm_1276  esm_1277  esm_1278  \\\n",
       "kd_ID                                                                          \n",
       "A0A075F7E9_LERK1_ORYSI_KD1  0.007301 -0.010765  0.094604 -0.053802  0.049164   \n",
       "A0A078CGE6_M3KE1_BRANA_KD1  0.004078 -0.046143  0.029099 -0.214355  0.070923   \n",
       "A0A0K3AV08_MLK1_CAEEL_KD1   0.022385 -0.044006  0.071838 -0.078369  0.013710   \n",
       "A0A0P0VIP0_LRSK7_ORYSJ_KD1  0.016953 -0.106079  0.025635 -0.045868  0.080750   \n",
       "A0A0P0XII1_CERK1_ORYSJ_KD1 -0.033417 -0.050415  0.054749 -0.071594  0.046631   \n",
       "\n",
       "                            esm_1279  \n",
       "kd_ID                                 \n",
       "A0A075F7E9_LERK1_ORYSI_KD1  0.014648  \n",
       "A0A078CGE6_M3KE1_BRANA_KD1  0.146851  \n",
       "A0A0K3AV08_MLK1_CAEEL_KD1   0.071838  \n",
       "A0A0P0VIP0_LRSK7_ORYSJ_KD1  0.021927  \n",
       "A0A0P0XII1_CERK1_ORYSJ_KD1  0.021667  \n",
       "\n",
       "[5 rows x 1280 columns]"
      ]
     },
     "execution_count": 10,
     "metadata": {},
     "output_type": "execute_result"
    }
   ],
   "source": [
    "feat_esm.head()"
   ]
  },
  {
   "cell_type": "code",
   "execution_count": 11,
   "id": "642931c0-cf5e-4ae9-a398-c6b31f106a29",
   "metadata": {},
   "outputs": [
    {
     "data": {
      "text/plain": [
       "(4209, 1280)"
      ]
     },
     "execution_count": 11,
     "metadata": {},
     "output_type": "execute_result"
    }
   ],
   "source": [
    "feat_esm.shape"
   ]
  },
  {
   "cell_type": "code",
   "execution_count": null,
   "id": "18991ea3-684e-40d6-94da-2bd96b1aefd2",
   "metadata": {},
   "outputs": [],
   "source": []
  }
 ],
 "metadata": {
  "kernelspec": {
   "display_name": "Python 3 (ipykernel)",
   "language": "python",
   "name": "python3"
  },
  "language_info": {
   "codemirror_mode": {
    "name": "ipython",
    "version": 3
   },
   "file_extension": ".py",
   "mimetype": "text/x-python",
   "name": "python",
   "nbconvert_exporter": "python",
   "pygments_lexer": "ipython3",
   "version": "3.11.13"
  },
  "widgets": {
   "application/vnd.jupyter.widget-state+json": {
    "state": {},
    "version_major": 2,
    "version_minor": 0
   }
  }
 },
 "nbformat": 4,
 "nbformat_minor": 5
}
