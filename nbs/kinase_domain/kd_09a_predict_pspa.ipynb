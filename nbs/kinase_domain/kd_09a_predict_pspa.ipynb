{
 "cells": [
  {
   "cell_type": "markdown",
   "id": "03c6096a-19c1-4288-ae20-8a18d7fbf028",
   "metadata": {},
   "source": [
    "# Predict"
   ]
  },
  {
   "cell_type": "code",
   "execution_count": 1,
   "id": "21229b1b-db7e-411b-99d9-384ded6038bc",
   "metadata": {},
   "outputs": [],
   "source": [
    "import pandas as pd\n",
    "from katlas.train import *\n",
    "from katlas.dnn import *\n",
    "from fastai.vision.all import *\n",
    "from katlas.pssm import *"
   ]
  },
  {
   "cell_type": "code",
   "execution_count": 3,
   "id": "47e3cbba-69ec-4294-8846-bb2a2fd0dd8d",
   "metadata": {},
   "outputs": [],
   "source": [
    "pspa_unk = pd.read_parquet('raw/kd_similar_pspa.parquet')\n",
    "pspa_unk = pspa_unk[pspa_unk.within_threshold].copy()"
   ]
  },
  {
   "cell_type": "code",
   "execution_count": 4,
   "id": "79a3fbc4-66aa-4a00-a21b-92e00c303056",
   "metadata": {},
   "outputs": [
    {
     "data": {
      "text/plain": [
       "1230"
      ]
     },
     "execution_count": 4,
     "metadata": {},
     "output_type": "execute_result"
    }
   ],
   "source": [
    "len(pspa_unk)"
   ]
  },
  {
   "cell_type": "code",
   "execution_count": 5,
   "id": "c21b0557-9316-4e74-be4d-78b8ee02e33b",
   "metadata": {},
   "outputs": [],
   "source": [
    "# from katlas.data import *\n",
    "\n",
    "# kd = Data.get_kd_uniprot()"
   ]
  },
  {
   "cell_type": "code",
   "execution_count": 6,
   "id": "b9e5e290-fef7-41e9-b9df-a69789ce1358",
   "metadata": {},
   "outputs": [],
   "source": [
    "t5 = pd.read_parquet('raw/t5_kd.parquet')"
   ]
  },
  {
   "cell_type": "code",
   "execution_count": 7,
   "id": "e4d149ec-59f2-4062-8da4-e2c64f6fbda9",
   "metadata": {},
   "outputs": [],
   "source": [
    "test_pspa = t5.loc[pspa_unk.index].reset_index()"
   ]
  },
  {
   "cell_type": "markdown",
   "id": "29df9f96-33bd-47a7-a169-ae5dde6726c9",
   "metadata": {},
   "source": [
    "## Predict"
   ]
  },
  {
   "cell_type": "code",
   "execution_count": 8,
   "id": "e2fe223b-5933-4a2e-8643-18029a9ded56",
   "metadata": {},
   "outputs": [],
   "source": [
    "sample=pd.read_parquet('train/pspa_t5.parquet')"
   ]
  },
  {
   "cell_type": "code",
   "execution_count": 9,
   "id": "df0bc4d6-7983-476b-8278-f7ee55d31eed",
   "metadata": {},
   "outputs": [],
   "source": [
    "target_col = sample.columns[~sample.columns.str.startswith('T5')]"
   ]
  },
  {
   "cell_type": "code",
   "execution_count": 10,
   "id": "d1632d59-361e-4806-83f1-6f3eb839fcba",
   "metadata": {},
   "outputs": [
    {
     "data": {
      "text/plain": [
       "Index(['-5P', '-4P', '-3P', '-2P', '-1P', '0P', '1P', '2P', '3P', '4P',\n",
       "       ...\n",
       "       '-5pY', '-4pY', '-3pY', '-2pY', '-1pY', '0pY', '1pY', '2pY', '3pY',\n",
       "       '4pY'],\n",
       "      dtype='object', length=230)"
      ]
     },
     "execution_count": 10,
     "metadata": {},
     "output_type": "execute_result"
    }
   ],
   "source": [
    "target_col"
   ]
  },
  {
   "cell_type": "code",
   "execution_count": 11,
   "id": "5b019b6e-322f-4375-8616-62c768920e95",
   "metadata": {},
   "outputs": [],
   "source": [
    "feat_col = test_pspa.columns[1:]"
   ]
  },
  {
   "cell_type": "code",
   "execution_count": 12,
   "id": "07990b5c-c533-488e-b8bc-5a94b7e101fc",
   "metadata": {},
   "outputs": [
    {
     "data": {
      "text/plain": [
       "Index(['T5_0', 'T5_1', 'T5_2', 'T5_3', 'T5_4', 'T5_5', 'T5_6', 'T5_7', 'T5_8',\n",
       "       'T5_9',\n",
       "       ...\n",
       "       'T5_1014', 'T5_1015', 'T5_1016', 'T5_1017', 'T5_1018', 'T5_1019',\n",
       "       'T5_1020', 'T5_1021', 'T5_1022', 'T5_1023'],\n",
       "      dtype='object', length=1024)"
      ]
     },
     "execution_count": 12,
     "metadata": {},
     "output_type": "execute_result"
    }
   ],
   "source": [
    "feat_col"
   ]
  },
  {
   "cell_type": "code",
   "execution_count": 13,
   "id": "f56218b7-68ff-4b34-9ab5-ad2a16600fdf",
   "metadata": {},
   "outputs": [],
   "source": [
    "n_feature = len(feat_col)\n",
    "n_target = len(target_col)"
   ]
  },
  {
   "cell_type": "code",
   "execution_count": 14,
   "id": "bd39b954-e2bf-455d-be67-5a1660b4debd",
   "metadata": {},
   "outputs": [
    {
     "data": {
      "text/plain": [
       "(1024, 230)"
      ]
     },
     "execution_count": 14,
     "metadata": {},
     "output_type": "execute_result"
    }
   ],
   "source": [
    "n_feature,n_target"
   ]
  },
  {
   "cell_type": "code",
   "execution_count": 15,
   "id": "ff64b959-588f-499d-800a-de83d04ef85c",
   "metadata": {},
   "outputs": [],
   "source": [
    "def get_cnn(): return PSSM_model(n_feature,n_target,model='CNN')"
   ]
  },
  {
   "cell_type": "code",
   "execution_count": 16,
   "id": "45c479b1-efad-4ec4-9b74-055159f95b88",
   "metadata": {},
   "outputs": [],
   "source": [
    "from tqdm import tqdm"
   ]
  },
  {
   "cell_type": "code",
   "execution_count": 17,
   "id": "f459a877-fa21-4d1d-97df-dc7b687223e7",
   "metadata": {},
   "outputs": [],
   "source": [
    "def get_ensemble_pred(test_df, model_name,nfold=5):\n",
    "    ensemble = None\n",
    "    for i in tqdm(range(nfold)):\n",
    "        test_pred = predict_dl(test_df, \n",
    "                   feat_col, \n",
    "                   target_col,\n",
    "                   model_func=get_cnn, # model architecture\n",
    "                   model_pth=f'{model_name}_fold{i}', # only name, not with .pth\n",
    "                  )\n",
    "        if ensemble is None:\n",
    "            ensemble = test_pred.copy()   # start with first prediction\n",
    "        else:\n",
    "            ensemble += test_pred         # accumulate\n",
    "    \n",
    "    ensemble /= 5\n",
    "    return ensemble"
   ]
  },
  {
   "cell_type": "code",
   "execution_count": 18,
   "id": "96099d23-42e3-41fa-b177-eec710d96a97",
   "metadata": {},
   "outputs": [
    {
     "name": "stderr",
     "output_type": "stream",
     "text": [
      "100%|████████████████████████████████████████████████████████████████████████████████████████████████| 5/5 [00:05<00:00,  1.16s/it]\n"
     ]
    }
   ],
   "source": [
    "pred = get_ensemble_pred(test_pspa,'cnn_pspa')"
   ]
  },
  {
   "cell_type": "code",
   "execution_count": 19,
   "id": "a85f7e4c-7066-4b86-8a4a-ab1d45043505",
   "metadata": {},
   "outputs": [],
   "source": [
    "pred.index=pspa_unk.index"
   ]
  },
  {
   "cell_type": "code",
   "execution_count": 24,
   "id": "1e55af0b-5160-4df6-8cb6-51c7a5d7a7b6",
   "metadata": {},
   "outputs": [],
   "source": [
    "pred.to_parquet('raw/pred_new_pspa.parquet')"
   ]
  },
  {
   "cell_type": "code",
   "execution_count": 25,
   "id": "1610f5fe-f597-48cc-a1e4-2ab4a47e4e6a",
   "metadata": {},
   "outputs": [
    {
     "data": {
      "text/html": [
       "<div>\n",
       "<style scoped>\n",
       "    .dataframe tbody tr th:only-of-type {\n",
       "        vertical-align: middle;\n",
       "    }\n",
       "\n",
       "    .dataframe tbody tr th {\n",
       "        vertical-align: top;\n",
       "    }\n",
       "\n",
       "    .dataframe thead th {\n",
       "        text-align: right;\n",
       "    }\n",
       "</style>\n",
       "<table border=\"1\" class=\"dataframe\">\n",
       "  <thead>\n",
       "    <tr style=\"text-align: right;\">\n",
       "      <th></th>\n",
       "      <th>-5P</th>\n",
       "      <th>-4P</th>\n",
       "      <th>-3P</th>\n",
       "      <th>-2P</th>\n",
       "      <th>-1P</th>\n",
       "      <th>0P</th>\n",
       "      <th>1P</th>\n",
       "      <th>2P</th>\n",
       "      <th>3P</th>\n",
       "      <th>4P</th>\n",
       "      <th>...</th>\n",
       "      <th>-5pY</th>\n",
       "      <th>-4pY</th>\n",
       "      <th>-3pY</th>\n",
       "      <th>-2pY</th>\n",
       "      <th>-1pY</th>\n",
       "      <th>0pY</th>\n",
       "      <th>1pY</th>\n",
       "      <th>2pY</th>\n",
       "      <th>3pY</th>\n",
       "      <th>4pY</th>\n",
       "    </tr>\n",
       "  </thead>\n",
       "  <tbody>\n",
       "    <tr>\n",
       "      <th>A0A8I3S724_AURKA_CANLF_KD1</th>\n",
       "      <td>0.037882</td>\n",
       "      <td>0.043779</td>\n",
       "      <td>0.047041</td>\n",
       "      <td>0.015380</td>\n",
       "      <td>0.041898</td>\n",
       "      <td>0.000035</td>\n",
       "      <td>0.014323</td>\n",
       "      <td>0.038704</td>\n",
       "      <td>0.043827</td>\n",
       "      <td>0.049526</td>\n",
       "      <td>...</td>\n",
       "      <td>0.044010</td>\n",
       "      <td>0.040576</td>\n",
       "      <td>0.037645</td>\n",
       "      <td>0.013764</td>\n",
       "      <td>0.059714</td>\n",
       "      <td>3.364276e-06</td>\n",
       "      <td>0.038454</td>\n",
       "      <td>0.043046</td>\n",
       "      <td>0.061429</td>\n",
       "      <td>0.046730</td>\n",
       "    </tr>\n",
       "    <tr>\n",
       "      <th>A0A8I5ZNK2_OXSR1_RAT_KD1</th>\n",
       "      <td>0.049239</td>\n",
       "      <td>0.043381</td>\n",
       "      <td>0.043311</td>\n",
       "      <td>0.028526</td>\n",
       "      <td>0.024280</td>\n",
       "      <td>0.000017</td>\n",
       "      <td>0.015904</td>\n",
       "      <td>0.036569</td>\n",
       "      <td>0.055815</td>\n",
       "      <td>0.055253</td>\n",
       "      <td>...</td>\n",
       "      <td>0.056746</td>\n",
       "      <td>0.050559</td>\n",
       "      <td>0.046230</td>\n",
       "      <td>0.048480</td>\n",
       "      <td>0.063029</td>\n",
       "      <td>1.908836e-06</td>\n",
       "      <td>0.024791</td>\n",
       "      <td>0.022593</td>\n",
       "      <td>0.038125</td>\n",
       "      <td>0.032603</td>\n",
       "    </tr>\n",
       "    <tr>\n",
       "      <th>A0JM20_TYRO3_XENTR_KD1</th>\n",
       "      <td>0.051376</td>\n",
       "      <td>0.052102</td>\n",
       "      <td>0.052074</td>\n",
       "      <td>0.052638</td>\n",
       "      <td>0.039458</td>\n",
       "      <td>0.000007</td>\n",
       "      <td>0.014260</td>\n",
       "      <td>0.036449</td>\n",
       "      <td>0.041221</td>\n",
       "      <td>0.043479</td>\n",
       "      <td>...</td>\n",
       "      <td>0.047453</td>\n",
       "      <td>0.048676</td>\n",
       "      <td>0.052394</td>\n",
       "      <td>0.046324</td>\n",
       "      <td>0.091800</td>\n",
       "      <td>9.998582e-01</td>\n",
       "      <td>0.070185</td>\n",
       "      <td>0.070169</td>\n",
       "      <td>0.022106</td>\n",
       "      <td>0.042790</td>\n",
       "    </tr>\n",
       "    <tr>\n",
       "      <th>A0JNB0_FYN_BOVIN_KD1</th>\n",
       "      <td>0.046870</td>\n",
       "      <td>0.045461</td>\n",
       "      <td>0.040785</td>\n",
       "      <td>0.051638</td>\n",
       "      <td>0.031777</td>\n",
       "      <td>0.000042</td>\n",
       "      <td>0.014092</td>\n",
       "      <td>0.031362</td>\n",
       "      <td>0.044332</td>\n",
       "      <td>0.045642</td>\n",
       "      <td>...</td>\n",
       "      <td>0.053741</td>\n",
       "      <td>0.067277</td>\n",
       "      <td>0.067271</td>\n",
       "      <td>0.058158</td>\n",
       "      <td>0.079825</td>\n",
       "      <td>9.992056e-01</td>\n",
       "      <td>0.115731</td>\n",
       "      <td>0.104918</td>\n",
       "      <td>0.031915</td>\n",
       "      <td>0.042396</td>\n",
       "    </tr>\n",
       "    <tr>\n",
       "      <th>A0M8R7_MET_PAPAN_KD1</th>\n",
       "      <td>0.050430</td>\n",
       "      <td>0.051898</td>\n",
       "      <td>0.046124</td>\n",
       "      <td>0.052797</td>\n",
       "      <td>0.030787</td>\n",
       "      <td>0.000008</td>\n",
       "      <td>0.012470</td>\n",
       "      <td>0.035201</td>\n",
       "      <td>0.051783</td>\n",
       "      <td>0.045867</td>\n",
       "      <td>...</td>\n",
       "      <td>0.055322</td>\n",
       "      <td>0.063184</td>\n",
       "      <td>0.067201</td>\n",
       "      <td>0.055751</td>\n",
       "      <td>0.128271</td>\n",
       "      <td>9.998606e-01</td>\n",
       "      <td>0.096431</td>\n",
       "      <td>0.081910</td>\n",
       "      <td>0.025833</td>\n",
       "      <td>0.041041</td>\n",
       "    </tr>\n",
       "    <tr>\n",
       "      <th>...</th>\n",
       "      <td>...</td>\n",
       "      <td>...</td>\n",
       "      <td>...</td>\n",
       "      <td>...</td>\n",
       "      <td>...</td>\n",
       "      <td>...</td>\n",
       "      <td>...</td>\n",
       "      <td>...</td>\n",
       "      <td>...</td>\n",
       "      <td>...</td>\n",
       "      <td>...</td>\n",
       "      <td>...</td>\n",
       "      <td>...</td>\n",
       "      <td>...</td>\n",
       "      <td>...</td>\n",
       "      <td>...</td>\n",
       "      <td>...</td>\n",
       "      <td>...</td>\n",
       "      <td>...</td>\n",
       "      <td>...</td>\n",
       "      <td>...</td>\n",
       "    </tr>\n",
       "    <tr>\n",
       "      <th>Q9Z2R9_E2AK1_MOUSE_KD1</th>\n",
       "      <td>0.034602</td>\n",
       "      <td>0.038246</td>\n",
       "      <td>0.029201</td>\n",
       "      <td>0.018279</td>\n",
       "      <td>0.023267</td>\n",
       "      <td>0.000089</td>\n",
       "      <td>0.006634</td>\n",
       "      <td>0.026299</td>\n",
       "      <td>0.060636</td>\n",
       "      <td>0.040961</td>\n",
       "      <td>...</td>\n",
       "      <td>0.036762</td>\n",
       "      <td>0.033087</td>\n",
       "      <td>0.052582</td>\n",
       "      <td>0.034784</td>\n",
       "      <td>0.052302</td>\n",
       "      <td>4.450690e-07</td>\n",
       "      <td>0.022007</td>\n",
       "      <td>0.019414</td>\n",
       "      <td>0.033284</td>\n",
       "      <td>0.040663</td>\n",
       "    </tr>\n",
       "    <tr>\n",
       "      <th>Q9Z2W1_STK25_MOUSE_KD1</th>\n",
       "      <td>0.045502</td>\n",
       "      <td>0.040996</td>\n",
       "      <td>0.040295</td>\n",
       "      <td>0.032663</td>\n",
       "      <td>0.030100</td>\n",
       "      <td>0.000020</td>\n",
       "      <td>0.017534</td>\n",
       "      <td>0.042085</td>\n",
       "      <td>0.043391</td>\n",
       "      <td>0.050217</td>\n",
       "      <td>...</td>\n",
       "      <td>0.042046</td>\n",
       "      <td>0.036751</td>\n",
       "      <td>0.047517</td>\n",
       "      <td>0.044899</td>\n",
       "      <td>0.036057</td>\n",
       "      <td>3.428805e-06</td>\n",
       "      <td>0.019266</td>\n",
       "      <td>0.016506</td>\n",
       "      <td>0.029094</td>\n",
       "      <td>0.024208</td>\n",
       "    </tr>\n",
       "    <tr>\n",
       "      <th>Q9Z335_SBK1_RAT_KD1</th>\n",
       "      <td>0.040285</td>\n",
       "      <td>0.027252</td>\n",
       "      <td>0.026376</td>\n",
       "      <td>0.035437</td>\n",
       "      <td>0.108038</td>\n",
       "      <td>0.000049</td>\n",
       "      <td>0.061123</td>\n",
       "      <td>0.050412</td>\n",
       "      <td>0.066567</td>\n",
       "      <td>0.059834</td>\n",
       "      <td>...</td>\n",
       "      <td>0.026251</td>\n",
       "      <td>0.025690</td>\n",
       "      <td>0.013364</td>\n",
       "      <td>0.027668</td>\n",
       "      <td>0.028979</td>\n",
       "      <td>1.546801e-06</td>\n",
       "      <td>0.043730</td>\n",
       "      <td>0.041582</td>\n",
       "      <td>0.060285</td>\n",
       "      <td>0.045016</td>\n",
       "    </tr>\n",
       "    <tr>\n",
       "      <th>W0LYS5_CAMKI_MACNP_KD1</th>\n",
       "      <td>0.049159</td>\n",
       "      <td>0.035515</td>\n",
       "      <td>0.025772</td>\n",
       "      <td>0.020806</td>\n",
       "      <td>0.057251</td>\n",
       "      <td>0.000065</td>\n",
       "      <td>0.014600</td>\n",
       "      <td>0.028858</td>\n",
       "      <td>0.027823</td>\n",
       "      <td>0.049323</td>\n",
       "      <td>...</td>\n",
       "      <td>0.028890</td>\n",
       "      <td>0.024585</td>\n",
       "      <td>0.017603</td>\n",
       "      <td>0.015780</td>\n",
       "      <td>0.031326</td>\n",
       "      <td>4.352188e-06</td>\n",
       "      <td>0.035301</td>\n",
       "      <td>0.101816</td>\n",
       "      <td>0.042666</td>\n",
       "      <td>0.032528</td>\n",
       "    </tr>\n",
       "    <tr>\n",
       "      <th>X5M5N0_WNK_CAEEL_KD1</th>\n",
       "      <td>0.038345</td>\n",
       "      <td>0.037591</td>\n",
       "      <td>0.039816</td>\n",
       "      <td>0.043162</td>\n",
       "      <td>0.025581</td>\n",
       "      <td>0.000033</td>\n",
       "      <td>0.016244</td>\n",
       "      <td>0.033651</td>\n",
       "      <td>0.038988</td>\n",
       "      <td>0.045358</td>\n",
       "      <td>...</td>\n",
       "      <td>0.037754</td>\n",
       "      <td>0.033027</td>\n",
       "      <td>0.036153</td>\n",
       "      <td>0.035582</td>\n",
       "      <td>0.047813</td>\n",
       "      <td>1.219898e-05</td>\n",
       "      <td>0.028811</td>\n",
       "      <td>0.033507</td>\n",
       "      <td>0.038083</td>\n",
       "      <td>0.036475</td>\n",
       "    </tr>\n",
       "  </tbody>\n",
       "</table>\n",
       "<p>1230 rows × 230 columns</p>\n",
       "</div>"
      ],
      "text/plain": [
       "                                 -5P       -4P       -3P       -2P       -1P  \\\n",
       "A0A8I3S724_AURKA_CANLF_KD1  0.037882  0.043779  0.047041  0.015380  0.041898   \n",
       "A0A8I5ZNK2_OXSR1_RAT_KD1    0.049239  0.043381  0.043311  0.028526  0.024280   \n",
       "A0JM20_TYRO3_XENTR_KD1      0.051376  0.052102  0.052074  0.052638  0.039458   \n",
       "A0JNB0_FYN_BOVIN_KD1        0.046870  0.045461  0.040785  0.051638  0.031777   \n",
       "A0M8R7_MET_PAPAN_KD1        0.050430  0.051898  0.046124  0.052797  0.030787   \n",
       "...                              ...       ...       ...       ...       ...   \n",
       "Q9Z2R9_E2AK1_MOUSE_KD1      0.034602  0.038246  0.029201  0.018279  0.023267   \n",
       "Q9Z2W1_STK25_MOUSE_KD1      0.045502  0.040996  0.040295  0.032663  0.030100   \n",
       "Q9Z335_SBK1_RAT_KD1         0.040285  0.027252  0.026376  0.035437  0.108038   \n",
       "W0LYS5_CAMKI_MACNP_KD1      0.049159  0.035515  0.025772  0.020806  0.057251   \n",
       "X5M5N0_WNK_CAEEL_KD1        0.038345  0.037591  0.039816  0.043162  0.025581   \n",
       "\n",
       "                                  0P        1P        2P        3P        4P  \\\n",
       "A0A8I3S724_AURKA_CANLF_KD1  0.000035  0.014323  0.038704  0.043827  0.049526   \n",
       "A0A8I5ZNK2_OXSR1_RAT_KD1    0.000017  0.015904  0.036569  0.055815  0.055253   \n",
       "A0JM20_TYRO3_XENTR_KD1      0.000007  0.014260  0.036449  0.041221  0.043479   \n",
       "A0JNB0_FYN_BOVIN_KD1        0.000042  0.014092  0.031362  0.044332  0.045642   \n",
       "A0M8R7_MET_PAPAN_KD1        0.000008  0.012470  0.035201  0.051783  0.045867   \n",
       "...                              ...       ...       ...       ...       ...   \n",
       "Q9Z2R9_E2AK1_MOUSE_KD1      0.000089  0.006634  0.026299  0.060636  0.040961   \n",
       "Q9Z2W1_STK25_MOUSE_KD1      0.000020  0.017534  0.042085  0.043391  0.050217   \n",
       "Q9Z335_SBK1_RAT_KD1         0.000049  0.061123  0.050412  0.066567  0.059834   \n",
       "W0LYS5_CAMKI_MACNP_KD1      0.000065  0.014600  0.028858  0.027823  0.049323   \n",
       "X5M5N0_WNK_CAEEL_KD1        0.000033  0.016244  0.033651  0.038988  0.045358   \n",
       "\n",
       "                            ...      -5pY      -4pY      -3pY      -2pY  \\\n",
       "A0A8I3S724_AURKA_CANLF_KD1  ...  0.044010  0.040576  0.037645  0.013764   \n",
       "A0A8I5ZNK2_OXSR1_RAT_KD1    ...  0.056746  0.050559  0.046230  0.048480   \n",
       "A0JM20_TYRO3_XENTR_KD1      ...  0.047453  0.048676  0.052394  0.046324   \n",
       "A0JNB0_FYN_BOVIN_KD1        ...  0.053741  0.067277  0.067271  0.058158   \n",
       "A0M8R7_MET_PAPAN_KD1        ...  0.055322  0.063184  0.067201  0.055751   \n",
       "...                         ...       ...       ...       ...       ...   \n",
       "Q9Z2R9_E2AK1_MOUSE_KD1      ...  0.036762  0.033087  0.052582  0.034784   \n",
       "Q9Z2W1_STK25_MOUSE_KD1      ...  0.042046  0.036751  0.047517  0.044899   \n",
       "Q9Z335_SBK1_RAT_KD1         ...  0.026251  0.025690  0.013364  0.027668   \n",
       "W0LYS5_CAMKI_MACNP_KD1      ...  0.028890  0.024585  0.017603  0.015780   \n",
       "X5M5N0_WNK_CAEEL_KD1        ...  0.037754  0.033027  0.036153  0.035582   \n",
       "\n",
       "                                -1pY           0pY       1pY       2pY  \\\n",
       "A0A8I3S724_AURKA_CANLF_KD1  0.059714  3.364276e-06  0.038454  0.043046   \n",
       "A0A8I5ZNK2_OXSR1_RAT_KD1    0.063029  1.908836e-06  0.024791  0.022593   \n",
       "A0JM20_TYRO3_XENTR_KD1      0.091800  9.998582e-01  0.070185  0.070169   \n",
       "A0JNB0_FYN_BOVIN_KD1        0.079825  9.992056e-01  0.115731  0.104918   \n",
       "A0M8R7_MET_PAPAN_KD1        0.128271  9.998606e-01  0.096431  0.081910   \n",
       "...                              ...           ...       ...       ...   \n",
       "Q9Z2R9_E2AK1_MOUSE_KD1      0.052302  4.450690e-07  0.022007  0.019414   \n",
       "Q9Z2W1_STK25_MOUSE_KD1      0.036057  3.428805e-06  0.019266  0.016506   \n",
       "Q9Z335_SBK1_RAT_KD1         0.028979  1.546801e-06  0.043730  0.041582   \n",
       "W0LYS5_CAMKI_MACNP_KD1      0.031326  4.352188e-06  0.035301  0.101816   \n",
       "X5M5N0_WNK_CAEEL_KD1        0.047813  1.219898e-05  0.028811  0.033507   \n",
       "\n",
       "                                 3pY       4pY  \n",
       "A0A8I3S724_AURKA_CANLF_KD1  0.061429  0.046730  \n",
       "A0A8I5ZNK2_OXSR1_RAT_KD1    0.038125  0.032603  \n",
       "A0JM20_TYRO3_XENTR_KD1      0.022106  0.042790  \n",
       "A0JNB0_FYN_BOVIN_KD1        0.031915  0.042396  \n",
       "A0M8R7_MET_PAPAN_KD1        0.025833  0.041041  \n",
       "...                              ...       ...  \n",
       "Q9Z2R9_E2AK1_MOUSE_KD1      0.033284  0.040663  \n",
       "Q9Z2W1_STK25_MOUSE_KD1      0.029094  0.024208  \n",
       "Q9Z335_SBK1_RAT_KD1         0.060285  0.045016  \n",
       "W0LYS5_CAMKI_MACNP_KD1      0.042666  0.032528  \n",
       "X5M5N0_WNK_CAEEL_KD1        0.038083  0.036475  \n",
       "\n",
       "[1230 rows x 230 columns]"
      ]
     },
     "execution_count": 25,
     "metadata": {},
     "output_type": "execute_result"
    }
   ],
   "source": [
    "pred"
   ]
  },
  {
   "cell_type": "markdown",
   "id": "9f1e2c69-2a02-42ff-913d-b8654304f906",
   "metadata": {},
   "source": [
    "## test"
   ]
  },
  {
   "cell_type": "code",
   "execution_count": 21,
   "id": "dc0bb7eb-e6e0-45ff-8250-f2dd0383f919",
   "metadata": {},
   "outputs": [],
   "source": [
    "cdks = pspa_unk[pspa_unk.closest_pos_index.str.contains('CDK')]"
   ]
  },
  {
   "cell_type": "code",
   "execution_count": 23,
   "id": "60706fc7-97d3-4d13-8f88-af799e884570",
   "metadata": {},
   "outputs": [
    {
     "data": {
      "image/png": "[encoded data removed]",
      "text/plain": [
       "<Figure size 500x600 with 2 Axes>"
      ]
     },
     "metadata": {},
     "output_type": "display_data"
    },
    {
     "data": {
      "image/png": "[encoded data removed]",
      "text/plain": [
       "<Figure size 500x600 with 2 Axes>"
      ]
     },
     "metadata": {},
     "output_type": "display_data"
    },
    {
     "data": {
      "image/png": "[encoded data removed]",
      "text/plain": [
       "<Figure size 500x600 with 2 Axes>"
      ]
     },
     "metadata": {},
     "output_type": "display_data"
    },
    {
     "data": {
      "image/png": "[encoded data removed]",
      "text/plain": [
       "<Figure size 500x600 with 2 Axes>"
      ]
     },
     "metadata": {},
     "output_type": "display_data"
    },
    {
     "data": {
      "image/png": "[encoded data removed]",
      "text/plain": [
       "<Figure size 500x600 with 2 Axes>"
      ]
     },
     "metadata": {},
     "output_type": "display_data"
    }
   ],
   "source": [
    "for i in cdks.head(5).index:\n",
    "    plot_heatmap(recover_pssm(pred.loc[i]))\n",
    "    plt.show()\n",
    "    plt.close()"
   ]
  },
  {
   "cell_type": "code",
   "execution_count": null,
   "id": "3e7be114-24f2-45d4-a4c9-f4bee809db7c",
   "metadata": {},
   "outputs": [],
   "source": []
  }
 ],
 "metadata": {
  "kernelspec": {
   "display_name": "Python 3 (ipykernel)",
   "language": "python",
   "name": "python3"
  },
  "language_info": {
   "codemirror_mode": {
    "name": "ipython",
    "version": 3
   },
   "file_extension": ".py",
   "mimetype": "text/x-python",
   "name": "python",
   "nbconvert_exporter": "python",
   "pygments_lexer": "ipython3",
   "version": "3.11.13"
  },
  "widgets": {
   "application/vnd.jupyter.widget-state+json": {
    "state": {},
    "version_major": 2,
    "version_minor": 0
   }
  }
 },
 "nbformat": 4,
 "nbformat_minor": 5
}
