{
 "cells": [
  {
   "cell_type": "markdown",
   "id": "e3064df7-12b8-4f02-9654-d9a3434356e2",
   "metadata": {},
   "source": [
    "# Get all kinase domain sequences"
   ]
  },
  {
   "cell_type": "markdown",
   "id": "92ea264e-707a-4830-9774-dbf4e99e7109",
   "metadata": {},
   "source": [
    "## Setup"
   ]
  },
  {
   "cell_type": "code",
   "execution_count": null,
   "id": "feb57d69-3ddf-42d5-98b3-325d513b855d",
   "metadata": {},
   "outputs": [],
   "source": [
    "from katlas.data import *\n",
    "from katlas.utils import *\n",
    "import pandas as pd\n",
    "from fastcore.all import L\n",
    "import re\n",
    "\n",
    "pd.set_option('display.max_rows', 20)\n",
    "pd.set_option('display.max_columns', 100)"
   ]
  },
  {
   "cell_type": "markdown",
   "id": "680f711a-a740-4695-b605-0892b8625478",
   "metadata": {},
   "source": [
    "## Kinase domain info of current human kinome"
   ]
  },
  {
   "cell_type": "code",
   "execution_count": null,
   "id": "498c99a2-95f5-4cc3-8607-7d04512f459f",
   "metadata": {},
   "outputs": [],
   "source": [
    "df = Data.get_kinase_info()"
   ]
  },
  {
   "cell_type": "code",
   "execution_count": null,
   "id": "f000c013-03cb-48a2-8096-4b7806ed8109",
   "metadata": {},
   "outputs": [
    {
     "data": {
      "text/plain": [
       "np.int64(516)"
      ]
     },
     "execution_count": null,
     "metadata": {},
     "output_type": "execute_result"
    }
   ],
   "source": [
    "df.kinasecom_domain.notna().sum()"
   ]
  },
  {
   "cell_type": "code",
   "execution_count": null,
   "id": "3c78426e-5f3d-461a-98c6-e1d313d678a9",
   "metadata": {},
   "outputs": [],
   "source": [
    "# df.uniprot.to_csv('kinase_uniprot.csv')"
   ]
  },
  {
   "cell_type": "markdown",
   "id": "02b05f7c-f3bf-4f64-b5bb-90d5e3a17da4",
   "metadata": {},
   "source": [
    "Query the uniprot id in ID mapping in uniprot. Add `domain [FT]` and `region` in the columns"
   ]
  },
  {
   "cell_type": "code",
   "execution_count": null,
   "id": "c3bb3c47-8ca2-429e-b629-1e56521b67ad",
   "metadata": {},
   "outputs": [],
   "source": [
    "uniprot=pd.read_excel('raw/idmapping_kinase_info_2025_05_27.xlsx')"
   ]
  },
  {
   "cell_type": "code",
   "execution_count": null,
   "id": "c8ce41f2-a599-4581-b469-69478d3e1975",
   "metadata": {},
   "outputs": [
    {
     "data": {
      "text/plain": [
       "0    DOMAIN 46..315; /note=\"Protein kinase\"; /evide...\n",
       "1    DOMAIN 61..121; /note=\"SH3\"; /evidence=\"ECO:00...\n",
       "2    DOMAIN 107..167; /note=\"SH3\"; /evidence=\"ECO:0...\n",
       "3    DOMAIN 126..385; /note=\"Protein kinase\"; /evid...\n",
       "4    DOMAIN 192..485; /note=\"Protein kinase\"; /evid...\n",
       "Name: Domain [FT], dtype: object"
      ]
     },
     "execution_count": null,
     "metadata": {},
     "output_type": "execute_result"
    }
   ],
   "source": [
    "uniprot['Domain [FT]'].head()"
   ]
  },
  {
   "cell_type": "markdown",
   "id": "bc56070c-8f6b-4da1-b741-0e54cf09ccdb",
   "metadata": {},
   "source": [
    "FAM20C does not have `Domain[FT]` but contains Region to indicate kinase domain"
   ]
  },
  {
   "cell_type": "code",
   "execution_count": null,
   "id": "80f17dff-5981-4c81-a0e2-81be1e8783fe",
   "metadata": {},
   "outputs": [
    {
     "data": {
      "text/plain": [
       "['REGION 62..81; /note=\"Disordered\"; /evidence=\"ECO:0000256|SAM:MobiDB-lite\"; REGION 94..159; /note=\"Disordered\"; /evidence=\"ECO:0000256|SAM:MobiDB-lite\"; REGION 354..565; /note=\"Kinase domain\"; /evidence=\"ECO:0000305|PubMed:22582013\"']"
      ]
     },
     "execution_count": null,
     "metadata": {},
     "output_type": "execute_result"
    }
   ],
   "source": [
    "uniprot[uniprot['Domain [FT]'].isna()].Region.tolist()"
   ]
  },
  {
   "cell_type": "code",
   "execution_count": null,
   "id": "1b01b127-edd3-4d06-8692-35fd20fb7868",
   "metadata": {},
   "outputs": [],
   "source": [
    "uniprot = uniprot.dropna(subset='Domain [FT]')"
   ]
  },
  {
   "cell_type": "code",
   "execution_count": null,
   "id": "0dbb1973-6755-402f-b0d7-e472eb49edc6",
   "metadata": {},
   "outputs": [],
   "source": [
    "def extract_kinase_domains1(text):\n",
    "    \"\"\"\n",
    "    Extracts domain or region annotations from text using regex.\n",
    "    Includes entries where the note contains either 'kinase' or 'PI3K/PI4K catalytic'.\n",
    "    Returns a list of [note, region, evidence] where evidence is set to 'nan' if not present.\n",
    "    \"\"\"\n",
    "    pattern = r'(?:REGION|DOMAIN) [<>]?(\\d+)\\.\\.[<>]?(\\d+); /note=\"([^\"]*?(?:kinase|PI3K/PI4K catalytic)[^\"]*?)\"(?:; /evidence=\"([^\"]*?)\")?'\n",
    "    matches = re.findall(pattern, text, flags=re.IGNORECASE)\n",
    "    \n",
    "    return [[note.strip(), evidence if evidence else 'nan']\n",
    "            for start, end, note, evidence in matches]"
   ]
  },
  {
   "cell_type": "code",
   "execution_count": null,
   "id": "5eb87b28-a393-46bf-90dd-f8e77b0e21b3",
   "metadata": {},
   "outputs": [],
   "source": [
    "out = uniprot['Domain [FT]'].apply(extract_kinase_domains1)"
   ]
  },
  {
   "cell_type": "markdown",
   "id": "594d44ab-19e3-483c-bb21-59d143a939ef",
   "metadata": {},
   "source": [
    "The rest of the kinases have domain info:"
   ]
  },
  {
   "cell_type": "code",
   "execution_count": null,
   "id": "e5c7391d-fc50-4162-b48c-577710df3beb",
   "metadata": {},
   "outputs": [
    {
     "data": {
      "text/plain": [
       "Domain [FT]\n",
       "[Protein kinase, ECO:0000255|PROSITE-ProRule:PRU00159]                                  454\n",
       "[AGC-kinase C-terminal, ECO:0000255|PROSITE-ProRule:PRU00618]                            55\n",
       "[Protein kinase 2, ECO:0000255|PROSITE-ProRule:PRU00159]                                 14\n",
       "[Protein kinase 1, ECO:0000255|PROSITE-ProRule:PRU00159]                                 14\n",
       "[Protein kinase, nan]                                                                     7\n",
       "[Alpha-type protein kinase, ECO:0000255|PROSITE-ProRule:PRU00501]                         6\n",
       "[PI3K/PI4K catalytic, ECO:0000255|PROSITE-ProRule:PRU00269]                               6\n",
       "[Histidine kinase, ECO:0000255|PROSITE-ProRule:PRU00107]                                  4\n",
       "[Protein kinase, ECO:0000255|PROSITE-ProRule:PRU00159, ECO:0000305]                       4\n",
       "[Guanylate kinase-like, ECO:0000255|PROSITE-ProRule:PRU00100]                             1\n",
       "[Protein kinase; inactive, ECO:0000255|PROSITE-ProRule:PRU00159]                          1\n",
       "[Protein kinase, ECO:0000255|PROSITE-ProRule:PRU00159, ECO:0000269|PubMed:15194684]       1\n",
       "[Protein kinase, ECO:0000255|PROSITE-ProRule:PRU00159, ECO:0000269|PubMed:9092543]        1\n",
       "[Protein kinase, ECO:0000250|UniProtKB:Q5VT25, ECO:0000255|PROSITE-ProRule:PRU00159]      1\n",
       "[Protein kinase, ECO:0000255|PROSITE-ProRule:PRU00159, ECO:0000312|EMBL:CAA84485.1]       1\n",
       "[Protein kinase, ECO:0000305]                                                             1\n",
       "Name: count, dtype: int64"
      ]
     },
     "execution_count": null,
     "metadata": {},
     "output_type": "execute_result"
    }
   ],
   "source": [
    "out.explode().value_counts()"
   ]
  },
  {
   "cell_type": "markdown",
   "id": "f1577c1d-a40b-4576-8306-36ab204dd255",
   "metadata": {},
   "source": [
    "We'll search uniprot across species based on the info above to get all kinases and their kinase domains. "
   ]
  },
  {
   "cell_type": "markdown",
   "id": "66fad037-bfab-4e06-8f70-977a1ca99b08",
   "metadata": {},
   "source": [
    "## Download kinase domain info from Uniprot"
   ]
  },
  {
   "cell_type": "markdown",
   "id": "d0206fa7-ee85-4528-ba10-2a9ffb8fc0d6",
   "metadata": {},
   "source": [
    "Uniprot reviewed --> search advanced \n",
    "\n",
    "--> domain: \"Protein kinase\", or \"PI3K PI4K catalytic\" or \"Histidine kinase\"\n",
    "\n",
    "or --> region: \"Kinase domain\""
   ]
  },
  {
   "cell_type": "code",
   "execution_count": null,
   "id": "00605623-fc70-484a-8d73-f09c9c83e85b",
   "metadata": {},
   "outputs": [],
   "source": [
    "kd1=pd.read_excel('raw/uniprotkb_ft_domain_Protein_kinase_AND_2025_05_25.xlsx')\n",
    "kd2=pd.read_excel('raw/uniprotkb_ft_domain_PI3K_PI4K_catalytic_2025_05_25.xlsx')\n",
    "kd3=pd.read_excel('raw/uniprotkb_ft_domain_Histidine_kinase_AN_2025_05_25.xlsx')\n",
    "kd4=pd.read_excel('raw/uniprotkb_ft_region_Kinase_domain_2025_05_26.xlsx')"
   ]
  },
  {
   "cell_type": "code",
   "execution_count": null,
   "id": "acf1f137-527d-4b42-8aa3-b8b11637a577",
   "metadata": {},
   "outputs": [],
   "source": [
    "kd_all = pd.concat([kd1,kd2,kd3,kd4],ignore_index=True)"
   ]
  },
  {
   "cell_type": "code",
   "execution_count": null,
   "id": "32a920de-d1e6-49d2-9b0b-95c56293fb49",
   "metadata": {},
   "outputs": [],
   "source": [
    "kd_human = kd_all[kd_all.Organism.str.contains('Homo')]"
   ]
  },
  {
   "cell_type": "markdown",
   "id": "52d47c98-69a7-481e-af8c-75777d6486d3",
   "metadata": {},
   "source": [
    "## Check if how it overlap with current kinome"
   ]
  },
  {
   "cell_type": "markdown",
   "id": "9c5e7b87-2021-421f-b4ac-e88640020995",
   "metadata": {},
   "source": [
    "### kinase domain query vs. kinome tree kinases"
   ]
  },
  {
   "cell_type": "code",
   "execution_count": null,
   "id": "7ee89a1d-2f5a-47e0-bc57-4a2301909d63",
   "metadata": {},
   "outputs": [],
   "source": [
    "kinase_info = Data.get_kinase_info()"
   ]
  },
  {
   "cell_type": "code",
   "execution_count": null,
   "id": "1a99135b-e62b-4107-bd95-89244dd9ab96",
   "metadata": {},
   "outputs": [],
   "source": [
    "a,b = get_diff(kd_human,kinase_info,'Uniprot','uniprot')"
   ]
  },
  {
   "cell_type": "code",
   "execution_count": null,
   "id": "ec3c17bd-3936-4795-be77-7872bd16edd1",
   "metadata": {},
   "outputs": [
    {
     "data": {
      "text/html": [
       "<div>\n",
       "<style scoped>\n",
       "    .dataframe tbody tr th:only-of-type {\n",
       "        vertical-align: middle;\n",
       "    }\n",
       "\n",
       "    .dataframe tbody tr th {\n",
       "        vertical-align: top;\n",
       "    }\n",
       "\n",
       "    .dataframe thead th {\n",
       "        text-align: right;\n",
       "    }\n",
       "</style>\n",
       "<table border=\"1\" class=\"dataframe\">\n",
       "  <thead>\n",
       "    <tr style=\"text-align: right;\">\n",
       "      <th></th>\n",
       "      <th>kinase</th>\n",
       "      <th>ID_coral</th>\n",
       "      <th>uniprot</th>\n",
       "      <th>gene</th>\n",
       "      <th>modi_group</th>\n",
       "    </tr>\n",
       "  </thead>\n",
       "  <tbody>\n",
       "    <tr>\n",
       "      <th>41</th>\n",
       "      <td>BRD2</td>\n",
       "      <td>BRD2</td>\n",
       "      <td>P25440</td>\n",
       "      <td>BRD2</td>\n",
       "      <td>Atypical</td>\n",
       "    </tr>\n",
       "    <tr>\n",
       "      <th>42</th>\n",
       "      <td>BRD3</td>\n",
       "      <td>BRD3</td>\n",
       "      <td>Q15059</td>\n",
       "      <td>BRD3</td>\n",
       "      <td>Atypical</td>\n",
       "    </tr>\n",
       "    <tr>\n",
       "      <th>43</th>\n",
       "      <td>BRD4</td>\n",
       "      <td>BRD4</td>\n",
       "      <td>O60885</td>\n",
       "      <td>BRD4</td>\n",
       "      <td>Atypical</td>\n",
       "    </tr>\n",
       "    <tr>\n",
       "      <th>44</th>\n",
       "      <td>BRDT</td>\n",
       "      <td>BRDT</td>\n",
       "      <td>Q58F21</td>\n",
       "      <td>BRDT</td>\n",
       "      <td>Atypical</td>\n",
       "    </tr>\n",
       "    <tr>\n",
       "      <th>486</th>\n",
       "      <td>TRIM24</td>\n",
       "      <td>TIF1a</td>\n",
       "      <td>O15164</td>\n",
       "      <td>TRIM24</td>\n",
       "      <td>Atypical</td>\n",
       "    </tr>\n",
       "    <tr>\n",
       "      <th>487</th>\n",
       "      <td>TRIM28</td>\n",
       "      <td>TIF1b</td>\n",
       "      <td>Q13263</td>\n",
       "      <td>TRIM28</td>\n",
       "      <td>Atypical</td>\n",
       "    </tr>\n",
       "    <tr>\n",
       "      <th>488</th>\n",
       "      <td>TRIM33</td>\n",
       "      <td>TIF1g</td>\n",
       "      <td>Q9UPN9</td>\n",
       "      <td>TRIM33</td>\n",
       "      <td>Atypical</td>\n",
       "    </tr>\n",
       "  </tbody>\n",
       "</table>\n",
       "</div>"
      ],
      "text/plain": [
       "     kinase ID_coral uniprot    gene modi_group\n",
       "41     BRD2     BRD2  P25440    BRD2   Atypical\n",
       "42     BRD3     BRD3  Q15059    BRD3   Atypical\n",
       "43     BRD4     BRD4  O60885    BRD4   Atypical\n",
       "44     BRDT     BRDT  Q58F21    BRDT   Atypical\n",
       "486  TRIM24    TIF1a  O15164  TRIM24   Atypical\n",
       "487  TRIM28    TIF1b  Q13263  TRIM28   Atypical\n",
       "488  TRIM33    TIF1g  Q9UPN9  TRIM33   Atypical"
      ]
     },
     "execution_count": null,
     "metadata": {},
     "output_type": "execute_result"
    }
   ],
   "source": [
    "b.iloc[:,:5] # special for kinome tree"
   ]
  },
  {
   "cell_type": "markdown",
   "id": "64cbc7c5-3b44-4dbf-9c99-9f4d027fa1e7",
   "metadata": {},
   "source": [
    "These kinases does not have clear boundary of kinase domain in the domain[FT] column."
   ]
  },
  {
   "cell_type": "code",
   "execution_count": null,
   "id": "689bbdf2-bf78-4848-a533-1e026ac50e54",
   "metadata": {},
   "outputs": [
    {
     "data": {
      "text/html": [
       "<div>\n",
       "<style scoped>\n",
       "    .dataframe tbody tr th:only-of-type {\n",
       "        vertical-align: middle;\n",
       "    }\n",
       "\n",
       "    .dataframe tbody tr th {\n",
       "        vertical-align: top;\n",
       "    }\n",
       "\n",
       "    .dataframe thead th {\n",
       "        text-align: right;\n",
       "    }\n",
       "</style>\n",
       "<table border=\"1\" class=\"dataframe\">\n",
       "  <thead>\n",
       "    <tr style=\"text-align: right;\">\n",
       "      <th></th>\n",
       "      <th>Uniprot</th>\n",
       "      <th>Reviewed</th>\n",
       "      <th>Entry Name</th>\n",
       "      <th>Protein names</th>\n",
       "      <th>Gene Names</th>\n",
       "    </tr>\n",
       "  </thead>\n",
       "  <tbody>\n",
       "    <tr>\n",
       "      <th>895</th>\n",
       "      <td>P21675</td>\n",
       "      <td>reviewed</td>\n",
       "      <td>TAF1_HUMAN</td>\n",
       "      <td>Transcription initiation factor TFIID subunit ...</td>\n",
       "      <td>TAF1 BA2R CCG1 CCGS TAF2A</td>\n",
       "    </tr>\n",
       "    <tr>\n",
       "      <th>1982</th>\n",
       "      <td>Q496M5</td>\n",
       "      <td>reviewed</td>\n",
       "      <td>PLK5_HUMAN</td>\n",
       "      <td>Inactive serine/threonine-protein kinase PLK5 ...</td>\n",
       "      <td>PLK5 PLK5P FG060302</td>\n",
       "    </tr>\n",
       "    <tr>\n",
       "      <th>2448</th>\n",
       "      <td>Q6A1A2</td>\n",
       "      <td>reviewed</td>\n",
       "      <td>PDPK2_HUMAN</td>\n",
       "      <td>Putative 3-phosphoinositide-dependent protein ...</td>\n",
       "      <td>PDPK2P PDPK2</td>\n",
       "    </tr>\n",
       "    <tr>\n",
       "      <th>2894</th>\n",
       "      <td>Q8NEV1</td>\n",
       "      <td>reviewed</td>\n",
       "      <td>CSK23_HUMAN</td>\n",
       "      <td>Casein kinase II subunit alpha 3 (CK II alpha ...</td>\n",
       "      <td>CSNK2A3 CSNK2A1P</td>\n",
       "    </tr>\n",
       "    <tr>\n",
       "      <th>3624</th>\n",
       "      <td>Q9UQ88</td>\n",
       "      <td>reviewed</td>\n",
       "      <td>CD11A_HUMAN</td>\n",
       "      <td>Cyclin-dependent kinase 11A (EC 2.7.11.22) (Ce...</td>\n",
       "      <td>CDK11A CDC2L2 CDC2L3 PITSLREB</td>\n",
       "    </tr>\n",
       "    <tr>\n",
       "      <th>...</th>\n",
       "      <td>...</td>\n",
       "      <td>...</td>\n",
       "      <td>...</td>\n",
       "      <td>...</td>\n",
       "      <td>...</td>\n",
       "    </tr>\n",
       "    <tr>\n",
       "      <th>4761</th>\n",
       "      <td>Q9UBF8</td>\n",
       "      <td>reviewed</td>\n",
       "      <td>PI4KB_HUMAN</td>\n",
       "      <td>Phosphatidylinositol 4-kinase beta (PI4K-beta)...</td>\n",
       "      <td>PI4KB PIK4CB</td>\n",
       "    </tr>\n",
       "    <tr>\n",
       "      <th>4790</th>\n",
       "      <td>A4QPH2</td>\n",
       "      <td>reviewed</td>\n",
       "      <td>PI4P2_HUMAN</td>\n",
       "      <td>Putative phosphatidylinositol 4-kinase alpha-l...</td>\n",
       "      <td>PI4KAP2</td>\n",
       "    </tr>\n",
       "    <tr>\n",
       "      <th>4812</th>\n",
       "      <td>A4D2B8</td>\n",
       "      <td>reviewed</td>\n",
       "      <td>PM2P1_HUMAN</td>\n",
       "      <td>Putative postmeiotic segregation increased 2-l...</td>\n",
       "      <td>PMS2P1 PMS2L1 PMS2L13 PMS2L6 PMS2L8 PMS3 PMS8 ...</td>\n",
       "    </tr>\n",
       "    <tr>\n",
       "      <th>4878</th>\n",
       "      <td>Q15119</td>\n",
       "      <td>reviewed</td>\n",
       "      <td>PDK2_HUMAN</td>\n",
       "      <td>[Pyruvate dehydrogenase (acetyl-transferring)]...</td>\n",
       "      <td>PDK2 PDHK2</td>\n",
       "    </tr>\n",
       "    <tr>\n",
       "      <th>5441</th>\n",
       "      <td>Q8N159</td>\n",
       "      <td>reviewed</td>\n",
       "      <td>NAGS_HUMAN</td>\n",
       "      <td>N-acetylglutamate synthase, mitochondrial (EC ...</td>\n",
       "      <td>NAGS</td>\n",
       "    </tr>\n",
       "  </tbody>\n",
       "</table>\n",
       "<p>21 rows × 5 columns</p>\n",
       "</div>"
      ],
      "text/plain": [
       "     Uniprot  Reviewed   Entry Name  \\\n",
       "895   P21675  reviewed   TAF1_HUMAN   \n",
       "1982  Q496M5  reviewed   PLK5_HUMAN   \n",
       "2448  Q6A1A2  reviewed  PDPK2_HUMAN   \n",
       "2894  Q8NEV1  reviewed  CSK23_HUMAN   \n",
       "3624  Q9UQ88  reviewed  CD11A_HUMAN   \n",
       "...      ...       ...          ...   \n",
       "4761  Q9UBF8  reviewed  PI4KB_HUMAN   \n",
       "4790  A4QPH2  reviewed  PI4P2_HUMAN   \n",
       "4812  A4D2B8  reviewed  PM2P1_HUMAN   \n",
       "4878  Q15119  reviewed   PDK2_HUMAN   \n",
       "5441  Q8N159  reviewed   NAGS_HUMAN   \n",
       "\n",
       "                                          Protein names  \\\n",
       "895   Transcription initiation factor TFIID subunit ...   \n",
       "1982  Inactive serine/threonine-protein kinase PLK5 ...   \n",
       "2448  Putative 3-phosphoinositide-dependent protein ...   \n",
       "2894  Casein kinase II subunit alpha 3 (CK II alpha ...   \n",
       "3624  Cyclin-dependent kinase 11A (EC 2.7.11.22) (Ce...   \n",
       "...                                                 ...   \n",
       "4761  Phosphatidylinositol 4-kinase beta (PI4K-beta)...   \n",
       "4790  Putative phosphatidylinositol 4-kinase alpha-l...   \n",
       "4812  Putative postmeiotic segregation increased 2-l...   \n",
       "4878  [Pyruvate dehydrogenase (acetyl-transferring)]...   \n",
       "5441  N-acetylglutamate synthase, mitochondrial (EC ...   \n",
       "\n",
       "                                             Gene Names  \n",
       "895                           TAF1 BA2R CCG1 CCGS TAF2A  \n",
       "1982                                PLK5 PLK5P FG060302  \n",
       "2448                                       PDPK2P PDPK2  \n",
       "2894                                   CSNK2A3 CSNK2A1P  \n",
       "3624                      CDK11A CDC2L2 CDC2L3 PITSLREB  \n",
       "...                                                 ...  \n",
       "4761                                       PI4KB PIK4CB  \n",
       "4790                                            PI4KAP2  \n",
       "4812  PMS2P1 PMS2L1 PMS2L13 PMS2L6 PMS2L8 PMS3 PMS8 ...  \n",
       "4878                                         PDK2 PDHK2  \n",
       "5441                                               NAGS  \n",
       "\n",
       "[21 rows x 5 columns]"
      ]
     },
     "execution_count": null,
     "metadata": {},
     "output_type": "execute_result"
    }
   ],
   "source": [
    "a.iloc[:,:5] # special for kinase domain query"
   ]
  },
  {
   "cell_type": "markdown",
   "id": "cd7aa44a-45fd-4ada-ba34-be33d13cf28c",
   "metadata": {},
   "source": [
    "Kinase keyword query contains a lot of non-serine/thronine/tyrosine kinases."
   ]
  },
  {
   "cell_type": "markdown",
   "id": "8f1e2d0a-9109-4f68-8051-4093a5dbbfb3",
   "metadata": {},
   "source": [
    "### kinase domain query vs. kinase keyword query"
   ]
  },
  {
   "cell_type": "code",
   "execution_count": null,
   "id": "066320a4-b90e-4b2b-9a7c-3300f34b36c6",
   "metadata": {},
   "outputs": [],
   "source": [
    "all_kinase = pd.read_excel('raw/uniprot_human_keyword_kinase.xlsx').rename(columns={'Entry':'Uniprot'})"
   ]
  },
  {
   "cell_type": "code",
   "execution_count": null,
   "id": "b9bfa9d1-19f3-484a-867a-edf4ceecf1e3",
   "metadata": {},
   "outputs": [],
   "source": [
    "a,b = get_diff(kd_human,all_kinase,'Uniprot')"
   ]
  },
  {
   "cell_type": "code",
   "execution_count": null,
   "id": "c5e8eaae-baa2-4b78-805c-e7637b1e7cf1",
   "metadata": {},
   "outputs": [
    {
     "data": {
      "text/html": [
       "<div>\n",
       "<style scoped>\n",
       "    .dataframe tbody tr th:only-of-type {\n",
       "        vertical-align: middle;\n",
       "    }\n",
       "\n",
       "    .dataframe tbody tr th {\n",
       "        vertical-align: top;\n",
       "    }\n",
       "\n",
       "    .dataframe thead th {\n",
       "        text-align: right;\n",
       "    }\n",
       "</style>\n",
       "<table border=\"1\" class=\"dataframe\">\n",
       "  <thead>\n",
       "    <tr style=\"text-align: right;\">\n",
       "      <th></th>\n",
       "      <th>Uniprot</th>\n",
       "      <th>Reviewed</th>\n",
       "      <th>Entry Name</th>\n",
       "      <th>Protein names</th>\n",
       "      <th>Gene Names</th>\n",
       "    </tr>\n",
       "  </thead>\n",
       "  <tbody>\n",
       "    <tr>\n",
       "      <th>1982</th>\n",
       "      <td>Q496M5</td>\n",
       "      <td>reviewed</td>\n",
       "      <td>PLK5_HUMAN</td>\n",
       "      <td>Inactive serine/threonine-protein kinase PLK5 ...</td>\n",
       "      <td>PLK5 PLK5P FG060302</td>\n",
       "    </tr>\n",
       "    <tr>\n",
       "      <th>5441</th>\n",
       "      <td>Q8N159</td>\n",
       "      <td>reviewed</td>\n",
       "      <td>NAGS_HUMAN</td>\n",
       "      <td>N-acetylglutamate synthase, mitochondrial (EC ...</td>\n",
       "      <td>NAGS</td>\n",
       "    </tr>\n",
       "  </tbody>\n",
       "</table>\n",
       "</div>"
      ],
      "text/plain": [
       "     Uniprot  Reviewed  Entry Name  \\\n",
       "1982  Q496M5  reviewed  PLK5_HUMAN   \n",
       "5441  Q8N159  reviewed  NAGS_HUMAN   \n",
       "\n",
       "                                          Protein names           Gene Names  \n",
       "1982  Inactive serine/threonine-protein kinase PLK5 ...  PLK5 PLK5P FG060302  \n",
       "5441  N-acetylglutamate synthase, mitochondrial (EC ...                 NAGS  "
      ]
     },
     "execution_count": null,
     "metadata": {},
     "output_type": "execute_result"
    }
   ],
   "source": [
    "a.iloc[:,:5] # special for kd domain query"
   ]
  },
  {
   "cell_type": "markdown",
   "id": "34424da6-2d8c-4b91-944b-2dd6d352ee67",
   "metadata": {},
   "source": [
    "kd domain query also include inactive kinase (PLK5), which is not marked with 'kinase' in the keywords.\n",
    "\n",
    "Another one is NAGS, which contains Amino-acid kinase domain (AAK), and not marked with 'kinase' in the keywords."
   ]
  },
  {
   "cell_type": "code",
   "execution_count": null,
   "id": "74ae5c75-e0d1-445d-ad40-58969e63b0e9",
   "metadata": {},
   "outputs": [
    {
     "data": {
      "text/html": [
       "<div>\n",
       "<style scoped>\n",
       "    .dataframe tbody tr th:only-of-type {\n",
       "        vertical-align: middle;\n",
       "    }\n",
       "\n",
       "    .dataframe tbody tr th {\n",
       "        vertical-align: top;\n",
       "    }\n",
       "\n",
       "    .dataframe thead th {\n",
       "        text-align: right;\n",
       "    }\n",
       "</style>\n",
       "<table border=\"1\" class=\"dataframe\">\n",
       "  <thead>\n",
       "    <tr style=\"text-align: right;\">\n",
       "      <th></th>\n",
       "      <th>Uniprot</th>\n",
       "      <th>Entry Name</th>\n",
       "      <th>Protein names</th>\n",
       "      <th>Gene Names</th>\n",
       "      <th>uniprot_keyword_kinase</th>\n",
       "    </tr>\n",
       "  </thead>\n",
       "  <tbody>\n",
       "    <tr>\n",
       "      <th>0</th>\n",
       "      <td>A2RU49</td>\n",
       "      <td>HYKK_HUMAN</td>\n",
       "      <td>Hydroxylysine kinase (5-hydroxy-L-lysine kinas...</td>\n",
       "      <td>HYKK AGPHD1</td>\n",
       "      <td>1</td>\n",
       "    </tr>\n",
       "    <tr>\n",
       "      <th>3</th>\n",
       "      <td>O00142</td>\n",
       "      <td>KITM_HUMAN</td>\n",
       "      <td>Thymidine kinase 2, mitochondrial (EC 2.7.1.21...</td>\n",
       "      <td>TK2</td>\n",
       "      <td>1</td>\n",
       "    </tr>\n",
       "    <tr>\n",
       "      <th>11</th>\n",
       "      <td>O00746</td>\n",
       "      <td>NDKM_HUMAN</td>\n",
       "      <td>Nucleoside diphosphate kinase, mitochondrial (...</td>\n",
       "      <td>NME4 NM23D</td>\n",
       "      <td>1</td>\n",
       "    </tr>\n",
       "    <tr>\n",
       "      <th>13</th>\n",
       "      <td>O00764</td>\n",
       "      <td>PDXK_HUMAN</td>\n",
       "      <td>Pyridoxal kinase (EC 2.7.1.35) (Pyridoxine kin...</td>\n",
       "      <td>PDXK C21orf124 C21orf97 PKH PNK PRED79</td>\n",
       "      <td>1</td>\n",
       "    </tr>\n",
       "    <tr>\n",
       "      <th>23</th>\n",
       "      <td>O14986</td>\n",
       "      <td>PI51B_HUMAN</td>\n",
       "      <td>Phosphatidylinositol 4-phosphate 5-kinase type...</td>\n",
       "      <td>PIP5K1B STM7</td>\n",
       "      <td>1</td>\n",
       "    </tr>\n",
       "    <tr>\n",
       "      <th>...</th>\n",
       "      <td>...</td>\n",
       "      <td>...</td>\n",
       "      <td>...</td>\n",
       "      <td>...</td>\n",
       "      <td>...</td>\n",
       "    </tr>\n",
       "    <tr>\n",
       "      <th>638</th>\n",
       "      <td>O60885</td>\n",
       "      <td>BRD4_HUMAN</td>\n",
       "      <td>Bromodomain-containing protein 4 (Protein HUNK1)</td>\n",
       "      <td>BRD4 HUNK1</td>\n",
       "      <td>0</td>\n",
       "    </tr>\n",
       "    <tr>\n",
       "      <th>639</th>\n",
       "      <td>Q58F21</td>\n",
       "      <td>BRDT_HUMAN</td>\n",
       "      <td>Bromodomain testis-specific protein (Cancer/te...</td>\n",
       "      <td>BRDT</td>\n",
       "      <td>0</td>\n",
       "    </tr>\n",
       "    <tr>\n",
       "      <th>663</th>\n",
       "      <td>O15164</td>\n",
       "      <td>TIF1A_HUMAN</td>\n",
       "      <td>Transcription intermediary factor 1-alpha (TIF...</td>\n",
       "      <td>TRIM24 RNF82 TIF1 TIF1A</td>\n",
       "      <td>0</td>\n",
       "    </tr>\n",
       "    <tr>\n",
       "      <th>664</th>\n",
       "      <td>Q13263</td>\n",
       "      <td>TIF1B_HUMAN</td>\n",
       "      <td>Transcription intermediary factor 1-beta (TIF1...</td>\n",
       "      <td>TRIM28 KAP1 RNF96 TIF1B</td>\n",
       "      <td>0</td>\n",
       "    </tr>\n",
       "    <tr>\n",
       "      <th>665</th>\n",
       "      <td>Q9UPN9</td>\n",
       "      <td>TRI33_HUMAN</td>\n",
       "      <td>E3 ubiquitin-protein ligase TRIM33 (EC 2.3.2.2...</td>\n",
       "      <td>TRIM33 KIAA1113 RFG7 TIF1G</td>\n",
       "      <td>0</td>\n",
       "    </tr>\n",
       "  </tbody>\n",
       "</table>\n",
       "<p>151 rows × 5 columns</p>\n",
       "</div>"
      ],
      "text/plain": [
       "    Uniprot   Entry Name                                      Protein names  \\\n",
       "0    A2RU49   HYKK_HUMAN  Hydroxylysine kinase (5-hydroxy-L-lysine kinas...   \n",
       "3    O00142   KITM_HUMAN  Thymidine kinase 2, mitochondrial (EC 2.7.1.21...   \n",
       "11   O00746   NDKM_HUMAN  Nucleoside diphosphate kinase, mitochondrial (...   \n",
       "13   O00764   PDXK_HUMAN  Pyridoxal kinase (EC 2.7.1.35) (Pyridoxine kin...   \n",
       "23   O14986  PI51B_HUMAN  Phosphatidylinositol 4-phosphate 5-kinase type...   \n",
       "..      ...          ...                                                ...   \n",
       "638  O60885   BRD4_HUMAN   Bromodomain-containing protein 4 (Protein HUNK1)   \n",
       "639  Q58F21   BRDT_HUMAN  Bromodomain testis-specific protein (Cancer/te...   \n",
       "663  O15164  TIF1A_HUMAN  Transcription intermediary factor 1-alpha (TIF...   \n",
       "664  Q13263  TIF1B_HUMAN  Transcription intermediary factor 1-beta (TIF1...   \n",
       "665  Q9UPN9  TRI33_HUMAN  E3 ubiquitin-protein ligase TRIM33 (EC 2.3.2.2...   \n",
       "\n",
       "                                 Gene Names  uniprot_keyword_kinase  \n",
       "0                               HYKK AGPHD1                       1  \n",
       "3                                       TK2                       1  \n",
       "11                               NME4 NM23D                       1  \n",
       "13   PDXK C21orf124 C21orf97 PKH PNK PRED79                       1  \n",
       "23                             PIP5K1B STM7                       1  \n",
       "..                                      ...                     ...  \n",
       "638                              BRD4 HUNK1                       0  \n",
       "639                                    BRDT                       0  \n",
       "663                 TRIM24 RNF82 TIF1 TIF1A                       0  \n",
       "664                 TRIM28 KAP1 RNF96 TIF1B                       0  \n",
       "665              TRIM33 KIAA1113 RFG7 TIF1G                       0  \n",
       "\n",
       "[151 rows x 5 columns]"
      ]
     },
     "execution_count": null,
     "metadata": {},
     "output_type": "execute_result"
    }
   ],
   "source": [
    "b.iloc[:,:5] # special for kinase keyword query"
   ]
  },
  {
   "cell_type": "markdown",
   "id": "00e6e3db-2575-447b-b93a-4c5535ffa0e6",
   "metadata": {},
   "source": [
    "Kinase keyword query contains a lot of non-serine/thronine/tyrosine kinases."
   ]
  },
  {
   "cell_type": "markdown",
   "id": "34eb81ba-8d3d-405f-bbff-aa3e8b23fc04",
   "metadata": {},
   "source": [
    "## Extract kinase domain info"
   ]
  },
  {
   "cell_type": "markdown",
   "id": "3ffd14ec-ff72-4631-925f-e627b279d6a8",
   "metadata": {},
   "source": [
    "Get residue start, end, and evidence info."
   ]
  },
  {
   "cell_type": "code",
   "execution_count": null,
   "id": "a91a45db-7f06-4734-b48a-eb9671d90b32",
   "metadata": {},
   "outputs": [],
   "source": [
    "def extract_kinase_domains(text):\n",
    "    \"\"\"\n",
    "    Extracts domain or region annotations from text using regex.\n",
    "    Includes entries where the note contains either 'kinase' or 'PI3K/PI4K catalytic'.\n",
    "    Returns a list of [note, region, evidence] where evidence is set to 'nan' if not present.\n",
    "    \"\"\"\n",
    "    pattern = r'(?:REGION|DOMAIN) [<>]?(\\d+)\\.\\.[<>]?(\\d+); /note=\"([^\"]*?(?:kinase|PI3K/PI4K catalytic)[^\"]*?)\"(?:; /evidence=\"([^\"]*?)\")?'\n",
    "    matches = re.findall(pattern, text, flags=re.IGNORECASE)\n",
    "    \n",
    "    return [[note.strip(),int(start),int(end), evidence if evidence else 'nan']\n",
    "            for start, end, note, evidence in matches]"
   ]
  },
  {
   "cell_type": "markdown",
   "id": "3436be19-f8ee-49b2-b97f-43a6a14af318",
   "metadata": {},
   "source": [
    "### Region column"
   ]
  },
  {
   "cell_type": "markdown",
   "id": "d6e5e07b-ef54-4042-917b-7f7b1c6733c9",
   "metadata": {},
   "source": [
    "Specific for kd4, without domain info but with region info"
   ]
  },
  {
   "cell_type": "code",
   "execution_count": null,
   "id": "ce5c7abb-58cb-44ad-8158-592583a05b78",
   "metadata": {},
   "outputs": [],
   "source": [
    "kd4['kd_info'] = kd4['Region'].apply(extract_kinase_domains)"
   ]
  },
  {
   "cell_type": "code",
   "execution_count": null,
   "id": "8bffcbec-5c7b-47b4-b488-a570e9ed316a",
   "metadata": {},
   "outputs": [
    {
     "data": {
      "text/plain": [
       "0     [[Amino-acid kinase domain (AAK), 40, 361, ECO...\n",
       "1     [[Kinase domain, 349, 560, ECO:0000250|UniProt...\n",
       "2     [[Kinase domain, 354, 565, ECO:0000305|PubMed:...\n",
       "3      [[Amino-acid kinase domain (AAK), 19, 376, nan]]\n",
       "4     [[Amino-acid kinase domain (AAK), 19, 369, ECO...\n",
       "5        [[HWE histidine kinase domain, 160, 236, nan]]\n",
       "6        [[HWE histidine kinase domain, 285, 367, nan]]\n",
       "7        [[HWE histidine kinase domain, 260, 303, nan]]\n",
       "8        [[HWE histidine kinase domain, 259, 341, nan]]\n",
       "9        [[HWE histidine kinase domain, 259, 341, nan]]\n",
       "10       [[HWE histidine kinase domain, 286, 368, nan]]\n",
       "11       [[HWE histidine kinase domain, 285, 367, nan]]\n",
       "12       [[HWE histidine kinase domain, 285, 367, nan]]\n",
       "13       [[HWE histidine kinase domain, 285, 367, nan]]\n",
       "14       [[HWE histidine kinase domain, 254, 336, nan]]\n",
       "15       [[HWE histidine kinase domain, 259, 341, nan]]\n",
       "Name: kd_info, dtype: object"
      ]
     },
     "execution_count": null,
     "metadata": {},
     "output_type": "execute_result"
    }
   ],
   "source": [
    "kd4['kd_info']"
   ]
  },
  {
   "cell_type": "markdown",
   "id": "d801e3ed-9360-4bbb-bf72-34f9e554b867",
   "metadata": {},
   "source": [
    "### Domain"
   ]
  },
  {
   "cell_type": "markdown",
   "id": "195889f9-63e4-443e-8a95-b30250fbb20b",
   "metadata": {},
   "source": [
    "Most kinases contain domain info for kinase domain."
   ]
  },
  {
   "cell_type": "code",
   "execution_count": null,
   "id": "16e3509d-deee-47de-9d07-a4306a0f8c4b",
   "metadata": {},
   "outputs": [],
   "source": [
    "kd = pd.concat([kd1,kd2,kd3])"
   ]
  },
  {
   "cell_type": "code",
   "execution_count": null,
   "id": "eb0462fa-a9c8-49aa-b069-c7ca49146808",
   "metadata": {},
   "outputs": [],
   "source": [
    "kd = kd.drop_duplicates('Uniprot').reset_index(drop=True)"
   ]
  },
  {
   "cell_type": "code",
   "execution_count": null,
   "id": "a81523b5-7305-4fc0-a997-15054bac30ef",
   "metadata": {},
   "outputs": [],
   "source": [
    "kd['kd_info'] = kd['Domain [FT]'].apply(extract_kinase_domains)"
   ]
  },
  {
   "cell_type": "code",
   "execution_count": null,
   "id": "e6127279-de74-45f4-bad7-f66d135dfcee",
   "metadata": {},
   "outputs": [
    {
     "data": {
      "text/plain": [
       "kd_info\n",
       "1    5015\n",
       "2     397\n",
       "3      22\n",
       "Name: count, dtype: int64"
      ]
     },
     "execution_count": null,
     "metadata": {},
     "output_type": "execute_result"
    }
   ],
   "source": [
    "kd['kd_info'].str.len().value_counts() # check non-zero"
   ]
  },
  {
   "cell_type": "markdown",
   "id": "3e6d1915-07b4-4d99-904f-733ab77564d8",
   "metadata": {},
   "source": [
    "Some kinase contain 3 kinase domains"
   ]
  },
  {
   "cell_type": "code",
   "execution_count": null,
   "id": "44baec78-44c6-4c41-8071-0fb1d6dec576",
   "metadata": {},
   "outputs": [
    {
     "data": {
      "text/plain": [
       "'DOMAIN 49..318; /note=\"Protein kinase 1\"; /evidence=\"ECO:0000255|PROSITE-ProRule:PRU00159\"; DOMAIN 319..387; /note=\"AGC-kinase C-terminal\"; /evidence=\"ECO:0000255|PROSITE-ProRule:PRU00618\"; DOMAIN 426..687; /note=\"Protein kinase 2\"; /evidence=\"ECO:0000255|PROSITE-ProRule:PRU00159\"'"
      ]
     },
     "execution_count": null,
     "metadata": {},
     "output_type": "execute_result"
    }
   ],
   "source": [
    "kd[kd['kd_info'].str.len()==3]['Domain [FT]'].tolist()[0]"
   ]
  },
  {
   "cell_type": "markdown",
   "id": "557adddf-4d9f-4536-aa68-58d24d9ee56a",
   "metadata": {},
   "source": [
    "After check, it seems it includes C-terminal domain. We will later remove them"
   ]
  },
  {
   "cell_type": "code",
   "execution_count": null,
   "id": "f8be95e6-f870-43fe-ad61-6392244d401d",
   "metadata": {},
   "outputs": [],
   "source": [
    "kd_final = pd.concat([kd,kd4])"
   ]
  },
  {
   "cell_type": "code",
   "execution_count": null,
   "id": "8ed23a21-36d0-4297-ac1f-a0df5cbb2e07",
   "metadata": {},
   "outputs": [],
   "source": [
    "df = kd_final.explode('kd_info', ignore_index=True)"
   ]
  },
  {
   "cell_type": "code",
   "execution_count": null,
   "id": "353cc98e-fb24-430d-8fb0-7fe6cd09ab1f",
   "metadata": {},
   "outputs": [],
   "source": [
    "df[['domain_note', 'domain_start','domain_end', 'domain_evidence']] = df.kd_info.apply(pd.Series)"
   ]
  },
  {
   "cell_type": "code",
   "execution_count": null,
   "id": "b5966465-afcf-4af4-bcd8-53e1dfdae656",
   "metadata": {},
   "outputs": [],
   "source": [
    "df = df.drop(columns=['kd_info'])"
   ]
  },
  {
   "cell_type": "markdown",
   "id": "bcbd7807-1cc5-4b9c-896b-3d19762df415",
   "metadata": {},
   "source": [
    "Remove non kinase domains:"
   ]
  },
  {
   "cell_type": "code",
   "execution_count": null,
   "id": "8ff92dbf-dc19-4e3d-bac8-397043ca40a2",
   "metadata": {},
   "outputs": [
    {
     "data": {
      "text/plain": [
       "Index(['Uniprot', 'Reviewed', 'Entry Name', 'Protein names', 'Gene Names',\n",
       "       'Gene Names (primary)', 'Organism', 'Length', 'Domain [FT]',\n",
       "       'Domain [CC]', 'Motif', 'Protein families', 'Reactome', 'ComplexPortal',\n",
       "       'Subcellular location [CC]', 'Gene Ontology (biological process)',\n",
       "       'Tissue specificity', 'Interacts with', 'Subunit structure',\n",
       "       'Function [CC]', 'Activity regulation', 'Mass', 'Sequence', 'Region',\n",
       "       'domain_note', 'domain_start', 'domain_end', 'domain_evidence'],\n",
       "      dtype='object')"
      ]
     },
     "execution_count": null,
     "metadata": {},
     "output_type": "execute_result"
    }
   ],
   "source": [
    "df.columns"
   ]
  },
  {
   "cell_type": "code",
   "execution_count": null,
   "id": "afc7eec2-996a-4308-9d3e-96bbd15aabdb",
   "metadata": {},
   "outputs": [],
   "source": [
    "df = df[df.domain_note!='AGC-kinase C-terminal'].reset_index(drop=True)"
   ]
  },
  {
   "cell_type": "code",
   "execution_count": null,
   "id": "46cea40c-433f-4337-ae01-a842ffa15f8e",
   "metadata": {},
   "outputs": [
    {
     "data": {
      "text/plain": [
       "domain_note\n",
       "Protein kinase                    4530\n",
       "Histidine kinase                   625\n",
       "PI3K/PI4K catalytic                168\n",
       "Protein kinase 2                    73\n",
       "Protein kinase 1                    73\n",
       "Alpha-type protein kinase           22\n",
       "Protein kinase; inactive            13\n",
       "HWE histidine kinase domain         11\n",
       "Guanylate kinase-like                5\n",
       "Histidine kinase 2                   4\n",
       "Histidine kinase 1                   4\n",
       "Amino-acid kinase domain (AAK)       3\n",
       "Kinase domain                        2\n",
       "Protein kinase; truncated            1\n",
       "Histidine kinase; first part         1\n",
       "Histidine kinase; second part        1\n",
       "Name: count, dtype: int64"
      ]
     },
     "execution_count": null,
     "metadata": {},
     "output_type": "execute_result"
    }
   ],
   "source": [
    "df.domain_note.value_counts()"
   ]
  },
  {
   "cell_type": "markdown",
   "id": "e37fd35e-d27b-4908-8b5b-6ad9331cf459",
   "metadata": {},
   "source": [
    "## Download uniprot sequence"
   ]
  },
  {
   "cell_type": "markdown",
   "id": "3e040a0c-da1c-4f19-9d95-96df732d4501",
   "metadata": {},
   "source": [
    "The big TITIN proteins (A2ASS6 for mouse, and Q8WZ42 for human) is truncated when downloaded online."
   ]
  },
  {
   "cell_type": "code",
   "execution_count": null,
   "id": "b49b2bd5-1d14-4b0a-8330-9a4a985393ab",
   "metadata": {},
   "outputs": [],
   "source": [
    "from tqdm.contrib.concurrent import thread_map\n",
    "from kdock.core.protein import get_uniprot_seq"
   ]
  },
  {
   "cell_type": "code",
   "execution_count": null,
   "id": "ee800688-842a-48a4-bb45-9327882dc3d8",
   "metadata": {},
   "outputs": [],
   "source": [
    "df = df.rename(columns={'Sequence':'full_protein_seq'})"
   ]
  },
  {
   "cell_type": "code",
   "execution_count": 1,
   "id": "20d09415-1a75-4d37-9886-b88751c8b63d",
   "metadata": {},
   "outputs": [],
   "source": [
    "%%time\n",
    "full_seq = thread_map(get_uniprot_seq,df.Uniprot, max_workers=5)"
   ]
  },
  {
   "cell_type": "code",
   "execution_count": null,
   "id": "98f88739-a112-4787-8265-ef85c95575bf",
   "metadata": {},
   "outputs": [],
   "source": [
    "df['full_seq']=full_seq"
   ]
  },
  {
   "cell_type": "code",
   "execution_count": null,
   "id": "5517732f-c338-4f9f-8729-e3a69edaf740",
   "metadata": {},
   "outputs": [],
   "source": [
    "df[df['full_seq']!=df['full_protein_seq']]"
   ]
  },
  {
   "cell_type": "markdown",
   "id": "5f979251-e9f1-4e73-ba73-8838865286ec",
   "metadata": {},
   "source": [
    "Seems the uniprot online download have limits length in downloading."
   ]
  },
  {
   "cell_type": "code",
   "execution_count": null,
   "id": "bd4f4e0b-c684-4a08-8ed0-e56d1748faf8",
   "metadata": {},
   "outputs": [],
   "source": [
    "df['full_seq'] = df['full_protein_seq']"
   ]
  },
  {
   "cell_type": "markdown",
   "id": "eb204ee7-9d4a-4c33-8bc3-9838a8752581",
   "metadata": {},
   "source": [
    "## Get domain sequence"
   ]
  },
  {
   "cell_type": "code",
   "execution_count": null,
   "id": "4760692a-49cd-44ad-b4ce-3b5ca035d059",
   "metadata": {},
   "outputs": [],
   "source": [
    "def get_region(seq,start,end): return seq[start-1:end]"
   ]
  },
  {
   "cell_type": "code",
   "execution_count": null,
   "id": "374bbbbb-54d8-40b1-970c-5140884d88d4",
   "metadata": {},
   "outputs": [],
   "source": [
    "df['domain_seq'] = df.apply(lambda r: get_region(r['full_seq'],r['domain_start'],r['domain_end']),axis=1)"
   ]
  },
  {
   "cell_type": "code",
   "execution_count": null,
   "id": "319e760e-b36d-405f-a37c-712dd84b7ca0",
   "metadata": {},
   "outputs": [
    {
     "data": {
      "text/plain": [
       "0       AGFHEILGAGASGVVYKGQLEDELKTNIAVKTIHKLQPETEKEFMV...\n",
       "1       YMLGDEIGKGAYGRVYIGLDLENGDFVAIKQVSLENIVQEDLNTIM...\n",
       "2       YKVIAELGHGLWSRDVLAEHRFIKKRYILKILPSELSSSENFMRVF...\n",
       "3       TLSDCQIGHGATATVFKMDIKIKKELQNGRMGEAVGDQMKAALKRF...\n",
       "4       FDSGNVIGVGGSGATVYEGVLPSGSRVAVKRFQAIGSCTKAFDSEL...\n",
       "                              ...                        \n",
       "5531    EIAHRFKNSMAMVQSIANQTLRNTYDPEQANRLFSERLRALSQAHD...\n",
       "5532    EIAHRFKNSMAMVQSIANQTLRNTYDPEQANRLFSERLRALSQAHD...\n",
       "5533    EIAHRFKNSMAMVQSIVNQTLRNTYDPEQANRLFSERLRALSQAHD...\n",
       "5534    ALTGENPLVLGIVQDVTERKKAEANKALVSREIAHRFKNSMAMVQS...\n",
       "5535    NPLVLGIVQDVTERKKAEANKALVSREIAHRFKNSMAMVQSIANQT...\n",
       "Name: domain_seq, Length: 5536, dtype: object"
      ]
     },
     "execution_count": null,
     "metadata": {},
     "output_type": "execute_result"
    }
   ],
   "source": [
    "df['domain_seq']"
   ]
  },
  {
   "cell_type": "code",
   "execution_count": null,
   "id": "1a9cba00-84e6-45cf-af4b-684e22a3b300",
   "metadata": {},
   "outputs": [
    {
     "data": {
      "text/plain": [
       "np.int64(0)"
      ]
     },
     "execution_count": null,
     "metadata": {},
     "output_type": "execute_result"
    }
   ],
   "source": [
    "df['domain_seq'].isna().sum()"
   ]
  },
  {
   "cell_type": "markdown",
   "id": "a94a1a0f-5fbb-458e-bbb9-ac4f1fae26b9",
   "metadata": {},
   "source": [
    "## Arrange columns & save"
   ]
  },
  {
   "cell_type": "code",
   "execution_count": null,
   "id": "2792246e-2a76-49d4-beb2-ca262316458e",
   "metadata": {},
   "outputs": [],
   "source": [
    "df = df.sort_values(['Uniprot','domain_start']).reset_index(drop=True)"
   ]
  },
  {
   "cell_type": "code",
   "execution_count": null,
   "id": "e7283e3a-3f2a-4e9b-876c-45b18004f364",
   "metadata": {},
   "outputs": [],
   "source": [
    "df['KD_ID']=df['Uniprot']+'_'+df['Entry Name']+'_KD'+(df.Uniprot.duplicated().astype(int)+1).astype(str)"
   ]
  },
  {
   "cell_type": "code",
   "execution_count": null,
   "id": "15b552a8-e74f-46ed-85c7-ba497e4f48b4",
   "metadata": {},
   "outputs": [],
   "source": [
    "col = ['KD_ID','Uniprot',  'Entry Name', 'Protein names', 'Gene Names','Gene Names (primary)',\n",
    "     'Organism', 'domain_note','domain_evidence', 'domain_start', 'domain_end','domain_seq' , 'Domain [FT]',\n",
    "       'Domain [CC]', 'Region', 'Motif', 'Protein families', 'Reactome', 'ComplexPortal',\n",
    "       'Subcellular location [CC]', 'Gene Ontology (biological process)',\n",
    "       'Tissue specificity', 'Interacts with', 'Subunit structure',\n",
    "       'Function [CC]', 'Activity regulation',  'full_seq', \n",
    "       ]"
   ]
  },
  {
   "cell_type": "code",
   "execution_count": null,
   "id": "4adff85a-0b1c-4ee3-a361-33d47dfd7966",
   "metadata": {},
   "outputs": [],
   "source": [
    "df = df[col]"
   ]
  },
  {
   "cell_type": "code",
   "execution_count": null,
   "id": "1198daae-5dc8-4366-b2a3-c861051b2b54",
   "metadata": {},
   "outputs": [],
   "source": [
    "# df[df.KD_ID.str.contains('JAK1')] # check JAK1 to see if KD1 and KD2 is assigned correctly"
   ]
  },
  {
   "cell_type": "code",
   "execution_count": null,
   "id": "ed5189b3-7d0c-4c8b-a9de-a40e1107024f",
   "metadata": {},
   "outputs": [],
   "source": [
    "new_colname=['kd_ID','Uniprot',  'Entry Name', 'Protein names', 'Gene Names','Gene Names (primary)',\n",
    "     'Organism', 'kd_note','kd_evidence', 'kd_start', 'kd_end','kd_seq' , 'Domain [FT]',\n",
    "       'Domain [CC]', 'Region', 'Motif', 'Protein families', 'Reactome', 'ComplexPortal',\n",
    "       'Subcellular location [CC]', 'Gene Ontology (biological process)',\n",
    "       'Tissue specificity', 'Interacts with', 'Subunit structure',\n",
    "       'Function [CC]', 'Activity regulation',  'full_seq', \n",
    "       ]"
   ]
  },
  {
   "cell_type": "code",
   "execution_count": null,
   "id": "e8ce4fd9-3013-4031-bcce-5d8df6c24b49",
   "metadata": {},
   "outputs": [],
   "source": [
    "df.columns=new_colname"
   ]
  },
  {
   "cell_type": "code",
   "execution_count": null,
   "id": "0dfe418f-27a1-4116-a071-0ac8cfe0afd9",
   "metadata": {},
   "outputs": [],
   "source": [
    "# df.to_excel('out/uniprot_kd.xlsx',index=False)"
   ]
  },
  {
   "cell_type": "code",
   "execution_count": null,
   "id": "bcc09515-97fb-4955-bb09-dfb00953882e",
   "metadata": {},
   "outputs": [
    {
     "data": {
      "text/plain": [
       "(5536, 27)"
      ]
     },
     "execution_count": null,
     "metadata": {},
     "output_type": "execute_result"
    }
   ],
   "source": [
    "df.shape"
   ]
  },
  {
   "cell_type": "markdown",
   "id": "7d098714-d7f5-4502-85ce-5ff55467fda4",
   "metadata": {},
   "source": [
    "It can be acquired through `Data.get_kd_uniprot()`"
   ]
  },
  {
   "cell_type": "markdown",
   "id": "a61d443c-7a34-4d74-b400-8d3faf22a649",
   "metadata": {},
   "source": [
    "```python\n",
    "from katlas.data import *\n",
    "df = Data.get_kd_uniprot()\n",
    "```"
   ]
  },
  {
   "cell_type": "markdown",
   "id": "414b77ef-36f6-4169-b583-9fb9e73dcd96",
   "metadata": {},
   "source": [
    "## Kinases with 1-2 kinase domains"
   ]
  },
  {
   "cell_type": "code",
   "execution_count": null,
   "id": "9459f53b-68cf-4a4e-b73e-0f7920d10d6e",
   "metadata": {},
   "outputs": [
    {
     "data": {
      "text/plain": [
       "Index(['kd_ID', 'Uniprot', 'Entry Name', 'Protein names', 'Gene Names',\n",
       "       'Gene Names (primary)', 'Organism', 'kd_note', 'kd_evidence',\n",
       "       'kd_start', 'kd_end', 'kd_seq', 'Domain [FT]', 'Domain [CC]', 'Region',\n",
       "       'Motif', 'Protein families', 'Reactome', 'ComplexPortal',\n",
       "       'Subcellular location [CC]', 'Gene Ontology (biological process)',\n",
       "       'Tissue specificity', 'Interacts with', 'Subunit structure',\n",
       "       'Function [CC]', 'Activity regulation', 'full_seq'],\n",
       "      dtype='object')"
      ]
     },
     "execution_count": null,
     "metadata": {},
     "output_type": "execute_result"
    }
   ],
   "source": [
    "df.columns"
   ]
  },
  {
   "cell_type": "code",
   "execution_count": null,
   "id": "77863739-7da9-4a4b-ad16-b5a3a74e0602",
   "metadata": {},
   "outputs": [],
   "source": [
    "out = df.groupby('Uniprot').agg({'kd_note':list})"
   ]
  },
  {
   "cell_type": "code",
   "execution_count": null,
   "id": "2649accf-042f-4ab6-9082-189d6c29ea9f",
   "metadata": {},
   "outputs": [
    {
     "data": {
      "text/plain": [
       "kd_note\n",
       "[Protein kinase]                            4521\n",
       "[Histidine kinase]                           621\n",
       "[PI3K/PI4K catalytic]                        168\n",
       "[Protein kinase 1, Protein kinase 2]          73\n",
       "[Alpha-type protein kinase]                   22\n",
       "[Protein kinase; inactive]                    13\n",
       "[HWE histidine kinase domain]                 11\n",
       "[Protein kinase, Guanylate kinase-like]        5\n",
       "[Histidine kinase 1, Histidine kinase 2]       4\n",
       "[Protein kinase, Histidine kinase]             4\n",
       "[Amino-acid kinase domain (AAK)]               3\n",
       "[Kinase domain]                                2\n",
       "[Histidine kinase; first part]                 1\n",
       "[Histidine kinase; second part]                1\n",
       "[Protein kinase; truncated]                    1\n",
       "Name: count, dtype: int64"
      ]
     },
     "execution_count": null,
     "metadata": {},
     "output_type": "execute_result"
    }
   ],
   "source": [
    "out.kd_note.value_counts()"
   ]
  },
  {
   "cell_type": "markdown",
   "id": "18097663-3924-43eb-8957-5ea81b7cec8d",
   "metadata": {},
   "source": [
    "Some kinases contain two kinase domains. Some are both protein kinase domains, while some have the first to be protein kinase and the second to be histidine kinase."
   ]
  },
  {
   "cell_type": "markdown",
   "id": "a009d621-12e2-415c-a333-a44442549791",
   "metadata": {},
   "source": [
    "## Duplicates among kinase domains"
   ]
  },
  {
   "cell_type": "markdown",
   "id": "2b79607d-4883-49eb-bc61-1f00330196e9",
   "metadata": {},
   "source": [
    "Across species"
   ]
  },
  {
   "cell_type": "code",
   "execution_count": null,
   "id": "c2976292-c36d-4cfe-ab0a-78edc3e702eb",
   "metadata": {},
   "outputs": [],
   "source": [
    "def get_dup(df):\n",
    "    dup = df[df.kd_seq.duplicated(keep=False)].sort_values('kd_seq')\n",
    "    return dup.groupby('kd_seq').agg({'kd_ID':lambda x: ','.join(x)}).reset_index()"
   ]
  },
  {
   "cell_type": "code",
   "execution_count": null,
   "id": "8510fa42-bcd6-49d3-aa15-c7c9f137efca",
   "metadata": {},
   "outputs": [],
   "source": [
    "dup_unique = get_dup(df)"
   ]
  },
  {
   "cell_type": "code",
   "execution_count": null,
   "id": "a9eb79bc-75f8-42bf-b99c-6420613bf2e3",
   "metadata": {},
   "outputs": [
    {
     "data": {
      "text/html": [
       "<div>\n",
       "<style scoped>\n",
       "    .dataframe tbody tr th:only-of-type {\n",
       "        vertical-align: middle;\n",
       "    }\n",
       "\n",
       "    .dataframe tbody tr th {\n",
       "        vertical-align: top;\n",
       "    }\n",
       "\n",
       "    .dataframe thead th {\n",
       "        text-align: right;\n",
       "    }\n",
       "</style>\n",
       "<table border=\"1\" class=\"dataframe\">\n",
       "  <thead>\n",
       "    <tr style=\"text-align: right;\">\n",
       "      <th></th>\n",
       "      <th>kd_seq</th>\n",
       "      <th>kd_ID</th>\n",
       "    </tr>\n",
       "  </thead>\n",
       "  <tbody>\n",
       "    <tr>\n",
       "      <th>26</th>\n",
       "      <td>EPWQEKVRRIREGSPYGHLPNWRLLSVIVKCGDDLRQELLAFQVLK...</td>\n",
       "      <td>B4UT09_PI4KB_OTOGA_KD1,A9X1A0_PI4KB_PAPAN_KD1,...</td>\n",
       "    </tr>\n",
       "    <tr>\n",
       "      <th>30</th>\n",
       "      <td>EYEGCKVGRGTYGHVYKARRKDGKDEKEYALKQIEGTGISMSACRE...</td>\n",
       "      <td>Q8BWD8_CDK19_MOUSE_KD1,Q9BWU1_CDK19_HUMAN_KD1</td>\n",
       "    </tr>\n",
       "    <tr>\n",
       "      <th>31</th>\n",
       "      <td>FDFLKVIGKGSFGKVLLAKRKLDGKFYAVKVLQKKIVLNRKEQKHI...</td>\n",
       "      <td>Q96BR1_SGK3_HUMAN_KD1,Q5R7A7_SGK3_PONAB_KD1</td>\n",
       "    </tr>\n",
       "    <tr>\n",
       "      <th>33</th>\n",
       "      <td>FDIIGIIGEGTYGQVYKARDKDTGEMVALKKVRLDNEKEGFPITAI...</td>\n",
       "      <td>E1BB52_CDK13_BOVIN_KD1,Q14004_CDK13_HUMAN_KD1,...</td>\n",
       "    </tr>\n",
       "    <tr>\n",
       "      <th>34</th>\n",
       "      <td>FDLIRVIGRGSYAKVLLVRLKKNDQIYAMKVVKKELVHDDEDIDWV...</td>\n",
       "      <td>P09217_KPCZ_RAT_KD1,Q05513_KPCZ_HUMAN_KD1,Q029...</td>\n",
       "    </tr>\n",
       "    <tr>\n",
       "      <th>...</th>\n",
       "      <td>...</td>\n",
       "      <td>...</td>\n",
       "    </tr>\n",
       "    <tr>\n",
       "      <th>271</th>\n",
       "      <td>YTLKDEIGKGSYGVVKLAYNENDNTYYAMKVLSKKKLIRQAGFPRR...</td>\n",
       "      <td>Q96RR4_KKCC2_HUMAN_KD1,O88831_KKCC2_RAT_KD1</td>\n",
       "    </tr>\n",
       "    <tr>\n",
       "      <th>274</th>\n",
       "      <td>YTNLSYIGEGAYGMVCSAYDNVNKVRVAIKKISPFEHQTYCQRTLR...</td>\n",
       "      <td>P46196_MK01_BOVIN_KD1,P28482_MK01_HUMAN_KD1</td>\n",
       "    </tr>\n",
       "    <tr>\n",
       "      <th>276</th>\n",
       "      <td>YTRFEKIGQGASGTVYTALDIATGQEVAIKQMNLQQQPKKELIINE...</td>\n",
       "      <td>Q7YQL4_PAK3_PANTR_KD1,Q7YQL3_PAK3_PONPY_KD1,O7...</td>\n",
       "    </tr>\n",
       "    <tr>\n",
       "      <th>277</th>\n",
       "      <td>YTRFEKIGQGASGTVYTAMDVATGQEVAIKQMNLQQQPKKELIINE...</td>\n",
       "      <td>Q13153_PAK1_HUMAN_KD1,P35465_PAK1_RAT_KD1,Q08E...</td>\n",
       "    </tr>\n",
       "    <tr>\n",
       "      <th>278</th>\n",
       "      <td>YTRYEKIGQGASGTVFTATDVALGQEVAIKQINLQKQPKKELIINE...</td>\n",
       "      <td>Q13177_PAK2_HUMAN_KD1,Q8CIN4_PAK2_MOUSE_KD1</td>\n",
       "    </tr>\n",
       "  </tbody>\n",
       "</table>\n",
       "<p>90 rows × 2 columns</p>\n",
       "</div>"
      ],
      "text/plain": [
       "                                                kd_seq  \\\n",
       "26   EPWQEKVRRIREGSPYGHLPNWRLLSVIVKCGDDLRQELLAFQVLK...   \n",
       "30   EYEGCKVGRGTYGHVYKARRKDGKDEKEYALKQIEGTGISMSACRE...   \n",
       "31   FDFLKVIGKGSFGKVLLAKRKLDGKFYAVKVLQKKIVLNRKEQKHI...   \n",
       "33   FDIIGIIGEGTYGQVYKARDKDTGEMVALKKVRLDNEKEGFPITAI...   \n",
       "34   FDLIRVIGRGSYAKVLLVRLKKNDQIYAMKVVKKELVHDDEDIDWV...   \n",
       "..                                                 ...   \n",
       "271  YTLKDEIGKGSYGVVKLAYNENDNTYYAMKVLSKKKLIRQAGFPRR...   \n",
       "274  YTNLSYIGEGAYGMVCSAYDNVNKVRVAIKKISPFEHQTYCQRTLR...   \n",
       "276  YTRFEKIGQGASGTVYTALDIATGQEVAIKQMNLQQQPKKELIINE...   \n",
       "277  YTRFEKIGQGASGTVYTAMDVATGQEVAIKQMNLQQQPKKELIINE...   \n",
       "278  YTRYEKIGQGASGTVFTATDVALGQEVAIKQINLQKQPKKELIINE...   \n",
       "\n",
       "                                                 kd_ID  \n",
       "26   B4UT09_PI4KB_OTOGA_KD1,A9X1A0_PI4KB_PAPAN_KD1,...  \n",
       "30       Q8BWD8_CDK19_MOUSE_KD1,Q9BWU1_CDK19_HUMAN_KD1  \n",
       "31         Q96BR1_SGK3_HUMAN_KD1,Q5R7A7_SGK3_PONAB_KD1  \n",
       "33   E1BB52_CDK13_BOVIN_KD1,Q14004_CDK13_HUMAN_KD1,...  \n",
       "34   P09217_KPCZ_RAT_KD1,Q05513_KPCZ_HUMAN_KD1,Q029...  \n",
       "..                                                 ...  \n",
       "271        Q96RR4_KKCC2_HUMAN_KD1,O88831_KKCC2_RAT_KD1  \n",
       "274        P46196_MK01_BOVIN_KD1,P28482_MK01_HUMAN_KD1  \n",
       "276  Q7YQL4_PAK3_PANTR_KD1,Q7YQL3_PAK3_PONPY_KD1,O7...  \n",
       "277  Q13153_PAK1_HUMAN_KD1,P35465_PAK1_RAT_KD1,Q08E...  \n",
       "278        Q13177_PAK2_HUMAN_KD1,Q8CIN4_PAK2_MOUSE_KD1  \n",
       "\n",
       "[90 rows x 2 columns]"
      ]
     },
     "execution_count": null,
     "metadata": {},
     "output_type": "execute_result"
    }
   ],
   "source": [
    "dup_unique[dup_unique.kd_ID.str.contains(\"HUMAN\")]"
   ]
  },
  {
   "cell_type": "markdown",
   "id": "3940e064-5d10-4b57-898f-53e15c5be055",
   "metadata": {},
   "source": [
    "Duplicates within human"
   ]
  },
  {
   "cell_type": "code",
   "execution_count": null,
   "id": "3ffd0817-30eb-45d0-a171-4b0947af0f01",
   "metadata": {},
   "outputs": [],
   "source": [
    "human=df[df.Organism=='Homo sapiens (Human)']\n",
    "\n",
    "dup_human = get_dup(human)"
   ]
  },
  {
   "cell_type": "code",
   "execution_count": null,
   "id": "bf7908a1-2773-49ea-84a4-606782c80cec",
   "metadata": {},
   "outputs": [
    {
     "data": {
      "text/html": [
       "<div>\n",
       "<style scoped>\n",
       "    .dataframe tbody tr th:only-of-type {\n",
       "        vertical-align: middle;\n",
       "    }\n",
       "\n",
       "    .dataframe tbody tr th {\n",
       "        vertical-align: top;\n",
       "    }\n",
       "\n",
       "    .dataframe thead th {\n",
       "        text-align: right;\n",
       "    }\n",
       "</style>\n",
       "<table border=\"1\" class=\"dataframe\">\n",
       "  <thead>\n",
       "    <tr style=\"text-align: right;\">\n",
       "      <th></th>\n",
       "      <th>kd_seq</th>\n",
       "      <th>kd_ID</th>\n",
       "    </tr>\n",
       "  </thead>\n",
       "  <tbody>\n",
       "  </tbody>\n",
       "</table>\n",
       "</div>"
      ],
      "text/plain": [
       "Empty DataFrame\n",
       "Columns: [kd_seq, kd_ID]\n",
       "Index: []"
      ]
     },
     "execution_count": null,
     "metadata": {},
     "output_type": "execute_result"
    }
   ],
   "source": [
    "dup_human"
   ]
  },
  {
   "cell_type": "markdown",
   "id": "596a314d-0903-4db4-86c9-b936d51afe25",
   "metadata": {},
   "source": [
    "Check duplicates within other species"
   ]
  },
  {
   "cell_type": "code",
   "execution_count": null,
   "id": "8acd0f41-f026-40c7-8879-c8a8099ff63d",
   "metadata": {},
   "outputs": [],
   "source": [
    "species = df.Organism.value_counts().head().index"
   ]
  },
  {
   "cell_type": "code",
   "execution_count": null,
   "id": "1ecbe666-96af-43ff-bb4c-2eb783195083",
   "metadata": {},
   "outputs": [
    {
     "name": "stdout",
     "output_type": "stream",
     "text": [
      "Arabidopsis thaliana (Mouse-ear cress)\n",
      "Empty DataFrame\n",
      "Columns: [kd_seq, kd_ID]\n",
      "Index: []\n",
      "Mus musculus (Mouse)\n",
      "                                              kd_seq  \\\n",
      "0  YVMLETIGHGGCATVKLAQHRLTGTHVAVKTIRKREYWCNRVISEV...   \n",
      "\n",
      "                                           kd_ID  \n",
      "0  C0HKC8_SMK3A_MOUSE_KD1,C0HKC9_SMK3B_MOUSE_KD1  \n",
      "Homo sapiens (Human)\n",
      "Empty DataFrame\n",
      "Columns: [kd_seq, kd_ID]\n",
      "Index: []\n",
      "Dictyostelium discoideum (Social amoeba)\n",
      "Empty DataFrame\n",
      "Columns: [kd_seq, kd_ID]\n",
      "Index: []\n",
      "Rattus norvegicus (Rat)\n",
      "Empty DataFrame\n",
      "Columns: [kd_seq, kd_ID]\n",
      "Index: []\n"
     ]
    }
   ],
   "source": [
    "for s in species:\n",
    "    df_species=df[df.Organism==s]\n",
    "    print(s)\n",
    "    print(get_dup(df_species))"
   ]
  },
  {
   "cell_type": "markdown",
   "id": "d4daaf25-be43-4c28-8f1c-9c2c7ccbf445",
   "metadata": {},
   "source": [
    "only mouse SMK3A/3B duplicates in the top 5 species"
   ]
  },
  {
   "cell_type": "code",
   "execution_count": null,
   "id": "154cfa2e-2365-4915-8d5a-147af2906fa8",
   "metadata": {},
   "outputs": [],
   "source": []
  }
 ],
 "metadata": {
  "kernelspec": {
   "display_name": "Python 3 (ipykernel)",
   "language": "python",
   "name": "python3"
  },
  "language_info": {
   "codemirror_mode": {
    "name": "ipython",
    "version": 3
   },
   "file_extension": ".py",
   "mimetype": "text/x-python",
   "name": "python",
   "nbconvert_exporter": "python",
   "pygments_lexer": "ipython3",
   "version": "3.11.13"
  },
  "widgets": {
   "application/vnd.jupyter.widget-state+json": {
    "state": {},
    "version_major": 2,
    "version_minor": 0
   }
  }
 },
 "nbformat": 4,
 "nbformat_minor": 5
}
